{
 "cells": [
  {
   "cell_type": "code",
   "execution_count": 3,
   "metadata": {
    "deletable": false,
    "editable": false
   },
   "outputs": [
    {
     "name": "stdout",
     "output_type": "stream",
     "text": [
      "=====================================================================\n",
      "Assignment: Homework 12: Classification\n",
      "OK, version v1.12.5\n",
      "=====================================================================\n",
      "\n"
     ]
    }
   ],
   "source": [
    "# Initialize OK\n",
    "from client.api.notebook import Notebook\n",
    "ok = Notebook('hw12.ok')"
   ]
  },
  {
   "cell_type": "markdown",
   "metadata": {},
   "source": [
    "# Homework 12: Classification"
   ]
  },
  {
   "cell_type": "markdown",
   "metadata": {},
   "source": [
    "**Reading**: \n",
    "\n",
    "* [Classification](https://www.inferentialthinking.com/chapters/17/classification.html)\n"
   ]
  },
  {
   "cell_type": "markdown",
   "metadata": {},
   "source": [
    "Please complete this notebook by filling in the cells provided. Before you begin, execute the following cell to load the provided tests. Each time you start your server, you will need to execute this cell again to load the tests.\n",
    "\n",
    "Homework 12 is due **Thursday, 4/30 at 11:59pm**. You will receive an early submission bonus point if you turn in your final submission by Wednesday, 4/29 at 11:59pm. Start early so that you can come to office hours if you're stuck. Check the website for the office hours schedule. Late work will not be accepted as per the [policies](http://data8.org/sp20/policies.html) of this course. \n",
    "\n",
    "Directly sharing answers is not okay, but discussing problems with the course staff or with other students is encouraged. Refer to the policies page to learn more about how to learn cooperatively.\n",
    "\n",
    "For all problems that you must write out explanations and sentences for, you **must** provide your answer in the designated space. Moreover, throughout this homework and all future ones, please be sure to not re-assign variables throughout the notebook! For example, if you use `max_temperature` in your answer to one question, do not reassign it later on."
   ]
  },
  {
   "cell_type": "code",
   "execution_count": 4,
   "metadata": {
    "ExecuteTime": {
     "end_time": "2018-04-04T09:34:44.498842Z",
     "start_time": "2018-04-04T09:34:42.821921Z"
    }
   },
   "outputs": [
    {
     "name": "stdout",
     "output_type": "stream",
     "text": [
      "=====================================================================\n",
      "Assignment: Homework 12: Classification\n",
      "OK, version v1.12.5\n",
      "=====================================================================\n",
      "\n"
     ]
    }
   ],
   "source": [
    "# Don't change this cell; just run it. \n",
    "\n",
    "import numpy as np\n",
    "from datascience import *\n",
    "\n",
    "# These lines do some fancy plotting magic.\n",
    "import matplotlib\n",
    "%matplotlib inline\n",
    "import matplotlib.pyplot as plt\n",
    "plt.style.use('fivethirtyeight')\n",
    "import warnings\n",
    "warnings.simplefilter('ignore', FutureWarning)\n",
    "\n",
    "from client.api.notebook import Notebook\n",
    "ok = Notebook('hw12.ok')"
   ]
  },
  {
   "cell_type": "markdown",
   "metadata": {},
   "source": [
    "## 1. Bay Area School Coordinates with Classification\n"
   ]
  },
  {
   "cell_type": "markdown",
   "metadata": {},
   "source": [
    "Welcome to Homework 12! This homework is about k-Nearest Neighbors classification (kNN). Since this topic is covered in depth in Project 3, the purpose of this homework is to reinforce the basics of this method. You can and should reuse a lot of code that you wrote for Project 3 for this homework, or use code from this homework on Project 3!"
   ]
  },
  {
   "cell_type": "markdown",
   "metadata": {},
   "source": [
    "## Our Dearest Neighbors"
   ]
  },
  {
   "cell_type": "markdown",
   "metadata": {},
   "source": [
    "Carol is trying classify students as either attendees of UC Berkeley or as attendees of Leland Stanford Junior College. To classify the students, Carol has access to the coordinates of the location they live during the school year. First, load in the `coordinates` table."
   ]
  },
  {
   "cell_type": "code",
   "execution_count": 5,
   "metadata": {
    "deletable": false,
    "editable": false
   },
   "outputs": [
    {
     "data": {
      "text/html": [
       "<table border=\"1\" class=\"dataframe\">\n",
       "    <thead>\n",
       "        <tr>\n",
       "            <th>latitude</th> <th>longitude</th> <th>school</th>\n",
       "        </tr>\n",
       "    </thead>\n",
       "    <tbody>\n",
       "        <tr>\n",
       "            <td>37.8693 </td> <td>-122.255 </td> <td>Berkeley</td>\n",
       "        </tr>\n",
       "        <tr>\n",
       "            <td>37.8651 </td> <td>-122.256 </td> <td>Berkeley</td>\n",
       "        </tr>\n",
       "        <tr>\n",
       "            <td>37.8661 </td> <td>-122.254 </td> <td>Berkeley</td>\n",
       "        </tr>\n",
       "        <tr>\n",
       "            <td>37.868  </td> <td>-122.26  </td> <td>Berkeley</td>\n",
       "        </tr>\n",
       "        <tr>\n",
       "            <td>37.8683 </td> <td>-122.257 </td> <td>Berkeley</td>\n",
       "        </tr>\n",
       "    </tbody>\n",
       "</table>\n",
       "<p>... (95 rows omitted)</p>"
      ],
      "text/plain": [
       "<IPython.core.display.HTML object>"
      ]
     },
     "metadata": {},
     "output_type": "display_data"
    }
   ],
   "source": [
    "# Just run this cell!\n",
    "coordinates = Table.read_table('coordinates.csv')\n",
    "coordinates.show(5)"
   ]
  },
  {
   "cell_type": "markdown",
   "metadata": {},
   "source": [
    "As usual, let's investigate our data visually before performing any kind of numerical analysis."
   ]
  },
  {
   "cell_type": "code",
   "execution_count": 6,
   "metadata": {
    "deletable": false,
    "editable": false
   },
   "outputs": [
    {
     "data": {
      "image/png": "[encoded data removed]",
      "text/plain": [
       "<Figure size 360x360 with 1 Axes>"
      ]
     },
     "metadata": {},
     "output_type": "display_data"
    }
   ],
   "source": [
    "# Just run this cell!\n",
    "coordinates.scatter(\"longitude\", \"latitude\", group=\"school\")"
   ]
  },
  {
   "cell_type": "markdown",
   "metadata": {},
   "source": [
    "The locations of the points on this scatter plot might be familiar - run the following cell to see what they correspond to."
   ]
  },
  {
   "cell_type": "code",
   "execution_count": 7,
   "metadata": {
    "deletable": false,
    "editable": false
   },
   "outputs": [
    {
     "data": {
      "text/html": [
       "<div style=\"width:100%;\"><div style=\"position:relative;width:100%;height:0;padding-bottom:60%;\"><iframe src=\"about:blank\" style=\"position:absolute;width:100%;height:100%;left:0;top:0;border:none !important;\" data-html=PCFET0NUWVBFIGh0bWw+CjxoZWFkPiAgICAKICAgIDxtZXRhIGh0dHAtZXF1aXY9ImNvbnRlbnQtdHlwZSIgY29udGVudD0idGV4dC9odG1sOyBjaGFyc2V0PVVURi04IiAvPgogICAgCiAgICAgICAgPHNjcmlwdD4KICAgICAgICAgICAgTF9OT19UT1VDSCA9IGZhbHNlOwogICAgICAgICAgICBMX0RJU0FCTEVfM0QgPSBmYWxzZTsKICAgICAgICA8L3NjcmlwdD4KICAgIAogICAgPHNjcmlwdCBzcmM9Imh0dHBzOi8vY2RuLmpzZGVsaXZyLm5ldC9ucG0vbGVhZmxldEAxLjQuMC9kaXN0L2xlYWZsZXQuanMiPjwvc2NyaXB0PgogICAgPHNjcmlwdCBzcmM9Imh0dHBzOi8vY29kZS5qcXVlcnkuY29tL2pxdWVyeS0xLjEyLjQubWluLmpzIj48L3NjcmlwdD4KICAgIDxzY3JpcHQgc3JjPSJodHRwczovL21heGNkbi5ib290c3RyYXBjZG4uY29tL2Jvb3RzdHJhcC8zLjIuMC9qcy9ib290c3RyYXAubWluLmpzIj48L3NjcmlwdD4KICAgIDxzY3JpcHQgc3JjPSJodHRwczovL2NkbmpzLmNsb3VkZmxhcmUuY29tL2FqYXgvbGlicy9MZWFmbGV0LmF3ZXNvbWUtbWFya2Vycy8yLjAuMi9sZWFmbGV0LmF3ZXNvbWUtbWFya2Vycy5qcyI+PC9zY3JpcHQ+CiAgICA8bGluayByZWw9InN0eWxlc2hlZXQiIGhyZWY9Imh0dHBzOi8vY2RuLmpzZGVsaXZyLm5ldC9ucG0vbGVhZmxldEAxLjQuMC9kaXN0L2xlYWZsZXQuY3NzIi8+CiAgICA8bGluayByZWw9InN0eWxlc2hlZXQiIGhyZWY9Imh0dHBzOi8vbWF4Y2RuLmJvb3RzdHJhcGNkbi5jb20vYm9vdHN0cmFwLzMuMi4wL2Nzcy9ib290c3RyYXAubWluLmNzcyIvPgogICAgPGxpbmsgcmVsPSJzdHlsZXNoZWV0IiBocmVmPSJodHRwczovL21heGNkbi5ib290c3RyYXBjZG4uY29tL2Jvb3RzdHJhcC8zLjIuMC9jc3MvYm9vdHN0cmFwLXRoZW1lLm1pbi5jc3MiLz4KICAgIDxsaW5rIHJlbD0ic3R5bGVzaGVldCIgaHJlZj0iaHR0cHM6Ly9tYXhjZG4uYm9vdHN0cmFwY2RuLmNvbS9mb250LWF3ZXNvbWUvNC42LjMvY3NzL2ZvbnQtYXdlc29tZS5taW4uY3NzIi8+CiAgICA8bGluayByZWw9InN0eWxlc2hlZXQiIGhyZWY9Imh0dHBzOi8vY2RuanMuY2xvdWRmbGFyZS5jb20vYWpheC9saWJzL0xlYWZsZXQuYXdlc29tZS1tYXJrZXJzLzIuMC4yL2xlYWZsZXQuYXdlc29tZS1tYXJrZXJzLmNzcyIvPgogICAgPGxpbmsgcmVsPSJzdHlsZXNoZWV0IiBocmVmPSJodHRwczovL3Jhd2Nkbi5naXRoYWNrLmNvbS9weXRob24tdmlzdWFsaXphdGlvbi9mb2xpdW0vbWFzdGVyL2ZvbGl1bS90ZW1wbGF0ZXMvbGVhZmxldC5hd2Vzb21lLnJvdGF0ZS5jc3MiLz4KICAgIDxzdHlsZT5odG1sLCBib2R5IHt3aWR0aDogMTAwJTtoZWlnaHQ6IDEwMCU7bWFyZ2luOiAwO3BhZGRpbmc6IDA7fTwvc3R5bGU+CiAgICA8c3R5bGU+I21hcCB7cG9zaXRpb246YWJzb2x1dGU7dG9wOjA7Ym90dG9tOjA7cmlnaHQ6MDtsZWZ0OjA7fTwvc3R5bGU+CiAgICAKICAgICAgICAgICAgPG1ldGEgbmFtZT0idmlld3BvcnQiIGNvbnRlbnQ9IndpZHRoPWRldmljZS13aWR0aCwKICAgICAgICAgICAgICAgIGluaXRpYWwtc2NhbGU9MS4wLCBtYXhpbXVtLXNjYWxlPTEuMCwgdXNlci1zY2FsYWJsZT1ubyIgLz4KICAgICAgICAgICAgPHN0eWxlPgogICAgICAgICAgICAgICAgI21hcF9lNjdkYzM1ZTkxOTI0ZGExYmM0NGM5MmI2OWQ1MjE5OSB7CiAgICAgICAgICAgICAgICAgICAgcG9zaXRpb246IHJlbGF0aXZlOwogICAgICAgICAgICAgICAgICAgIHdpZHRoOiA5NjAuMHB4OwogICAgICAgICAgICAgICAgICAgIGhlaWdodDogNTAwLjBweDsKICAgICAgICAgICAgICAgICAgICBsZWZ0OiAwLjAlOwogICAgICAgICAgICAgICAgICAgIHRvcDogMC4wJTsKICAgICAgICAgICAgICAgIH0KICAgICAgICAgICAgPC9zdHlsZT4KICAgICAgICAKPC9oZWFkPgo8Ym9keT4gICAgCiAgICAKICAgICAgICAgICAgPGRpdiBjbGFzcz0iZm9saXVtLW1hcCIgaWQ9Im1hcF9lNjdkYzM1ZTkxOTI0ZGExYmM0NGM5MmI2OWQ1MjE5OSIgPjwvZGl2PgogICAgICAgIAo8L2JvZHk+CjxzY3JpcHQ+ICAgIAogICAgCiAgICAgICAgICAgIHZhciBtYXBfZTY3ZGMzNWU5MTkyNGRhMWJjNDRjOTJiNjlkNTIxOTkgPSBMLm1hcCgKICAgICAgICAgICAgICAgICJtYXBfZTY3ZGMzNWU5MTkyNGRhMWJjNDRjOTJiNjlkNTIxOTkiLAogICAgICAgICAgICAgICAgewogICAgICAgICAgICAgICAgICAgIGNlbnRlcjogWzM3LjY0MjM4NDUwMDAwMDAwNiwgLTEyMi4xNzE4MDZdLAogICAgICAgICAgICAgICAgICAgIGNyczogTC5DUlMuRVBTRzM4NTcsCiAgICAgICAgICAgICAgICAgICAgem9vbTogMTAuMCwKICAgICAgICAgICAgICAgICAgICB6b29tQ29udHJvbDogdHJ1ZSwKICAgICAgICAgICAgICAgICAgICBwcmVmZXJDYW52YXM6IGZhbHNlLAogICAgICAgICAgICAgICAgICAgIGNsdXN0ZXJlZE1hcmtlcjogZmFsc2UsCiAgICAgICAgICAgICAgICB9CiAgICAgICAgICAgICk7CgogICAgICAgICAgICAKCiAgICAgICAgCiAgICAKICAgICAgICAgICAgdmFyIHRpbGVfbGF5ZXJfZGZlOTViM2NmZWY3NDgwZWJiYjRlMmI4NTQxMzI3YzAgPSBMLnRpbGVMYXllcigKICAgICAgICAgICAgICAgICJodHRwczovL3tzfS50aWxlLm9wZW5zdHJlZXRtYXAub3JnL3t6fS97eH0ve3l9LnBuZyIsCiAgICAgICAgICAgICAgICB7ImF0dHJpYnV0aW9uIjogIkRhdGEgYnkgXHUwMDI2Y29weTsgXHUwMDNjYSBocmVmPVwiaHR0cDovL29wZW5zdHJlZXRtYXAub3JnXCJcdTAwM2VPcGVuU3RyZWV0TWFwXHUwMDNjL2FcdTAwM2UsIHVuZGVyIFx1MDAzY2EgaHJlZj1cImh0dHA6Ly93d3cub3BlbnN0cmVldG1hcC5vcmcvY29weXJpZ2h0XCJcdTAwM2VPRGJMXHUwMDNjL2FcdTAwM2UuIiwgImRldGVjdFJldGluYSI6IGZhbHNlLCAibWF4TmF0aXZlWm9vbSI6IDE3LCAibWF4Wm9vbSI6IDE3LCAibWluWm9vbSI6IDguMCwgIm5vV3JhcCI6IGZhbHNlLCAib3BhY2l0eSI6IDEsICJzdWJkb21haW5zIjogImFiYyIsICJ0bXMiOiBmYWxzZX0KICAgICAgICAgICAgKS5hZGRUbyhtYXBfZTY3ZGMzNWU5MTkyNGRhMWJjNDRjOTJiNjlkNTIxOTkpOwogICAgICAgIAogICAgCiAgICAgICAgICAgIHZhciBjaXJjbGVfbWFya2VyXzdkNjZkODNjODlkNzQzYmFhMDkwZDU0YTkyZDczYWM3ID0gTC5jaXJjbGVNYXJrZXIoCiAgICAgICAgICAgICAgICBbMzcuODY5MzA0LCAtMTIyLjI1NDk0NTk5OTk5OTk5XSwKICAgICAgICAgICAgICAgIHsiYnViYmxpbmdNb3VzZUV2ZW50cyI6IHRydWUsICJjb2xvciI6ICIjMzM4OGZmIiwgImRhc2hBcnJheSI6IG51bGwsICJkYXNoT2Zmc2V0IjogbnVsbCwgImZpbGwiOiB0cnVlLCAiZmlsbENvbG9yIjogImJsdWUiLCAiZmlsbE9wYWNpdHkiOiAxLCAiZmlsbFJ1bGUiOiAiZXZlbm9kZCIsICJsaW5lQ2FwIjogInJvdW5kIiwgImxpbmVKb2luIjogInJvdW5kIiwgIm9wYWNpdHkiOiAxLjAsICJyYWRpdXMiOiA1LCAic3Ryb2tlIjogdHJ1ZSwgIndlaWdodCI6IDN9CiAgICAgICAgICAgICkuYWRkVG8obWFwX2U2N2RjMzVlOTE5MjRkYTFiYzQ0YzkyYjY5ZDUyMTk5KTsKICAgICAgICAKICAgIAogICAgICAgIHZhciBwb3B1cF83ZjJhY2U2MDU4YTU0NDM4ODJlYmRlOTEwMDM1YzU4NCA9IEwucG9wdXAoeyJtYXhXaWR0aCI6ICIxMDAlIn0pOwoKICAgICAgICAKICAgICAgICAgICAgdmFyIGh0bWxfYWI5ZTJkZmJkYjYxNDQ0YzlhZGEzZjNiMTMwMTVhNmQgPSAkKGA8ZGl2IGlkPSJodG1sX2FiOWUyZGZiZGI2MTQ0NGM5YWRhM2YzYjEzMDE1YTZkIiBzdHlsZT0id2lkdGg6IDEwMC4wJTsgaGVpZ2h0OiAxMDAuMCU7Ij5ibHVlPC9kaXY+YClbMF07CiAgICAgICAgICAgIHBvcHVwXzdmMmFjZTYwNThhNTQ0Mzg4MmViZGU5MTAwMzVjNTg0LnNldENvbnRlbnQoaHRtbF9hYjllMmRmYmRiNjE0NDRjOWFkYTNmM2IxMzAxNWE2ZCk7CiAgICAgICAgCgogICAgICAgIGNpcmNsZV9tYXJrZXJfN2Q2NmQ4M2M4OWQ3NDNiYWEwOTBkNTRhOTJkNzNhYzcuYmluZFBvcHVwKHBvcHVwXzdmMmFjZTYwNThhNTQ0Mzg4MmViZGU5MTAwMzVjNTg0KQogICAgICAgIDsKCiAgICAgICAgCiAgICAKICAgIAogICAgICAgICAgICB2YXIgY2lyY2xlX21hcmtlcl9hODU0MmNhMWZhYTg0MmZkODQ5NjU0MGExMmVmMGZmMyA9IEwuY2lyY2xlTWFya2VyKAogICAgICAgICAgICAgICAgWzM3Ljg2NTA1MSwgLTEyMi4yNTU1ODJdLAogICAgICAgICAgICAgICAgeyJidWJibGluZ01vdXNlRXZlbnRzIjogdHJ1ZSwgImNvbG9yIjogIiMzMzg4ZmYiLCAiZGFzaEFycmF5IjogbnVsbCwgImRhc2hPZmZzZXQiOiBudWxsLCAiZmlsbCI6IHRydWUsICJmaWxsQ29sb3IiOiAiYmx1ZSIsICJmaWxsT3BhY2l0eSI6IDEsICJmaWxsUnVsZSI6ICJldmVub2RkIiwgImxpbmVDYXAiOiAicm91bmQiLCAibGluZUpvaW4iOiAicm91bmQiLCAib3BhY2l0eSI6IDEuMCwgInJhZGl1cyI6IDUsICJzdHJva2UiOiB0cnVlLCAid2VpZ2h0IjogM30KICAgICAgICAgICAgKS5hZGRUbyhtYXBfZTY3ZGMzNWU5MTkyNGRhMWJjNDRjOTJiNjlkNTIxOTkpOwogICAgICAgIAogICAgCiAgICAgICAgdmFyIHBvcHVwXzllZDNjNzExNTk1NDQ4ODVhYjRjMWNiZTg0YTRiMjllID0gTC5wb3B1cCh7Im1heFdpZHRoIjogIjEwMCUifSk7CgogICAgICAgIAogICAgICAgICAgICB2YXIgaHRtbF9hYTg1MGE0NWM3ZWE0YzczOGY3NzU0Y2Y5OWQ2MjA1MiA9ICQoYDxkaXYgaWQ9Imh0bWxfYWE4NTBhNDVjN2VhNGM3MzhmNzc1NGNmOTlkNjIwNTIiIHN0eWxlPSJ3aWR0aDogMTAwLjAlOyBoZWlnaHQ6IDEwMC4wJTsiPmJsdWU8L2Rpdj5gKVswXTsKICAgICAgICAgICAgcG9wdXBfOWVkM2M3MTE1OTU0NDg4NWFiNGMxY2JlODRhNGIyOWUuc2V0Q29udGVudChodG1sX2FhODUwYTQ1YzdlYTRjNzM4Zjc3NTRjZjk5ZDYyMDUyKTsKICAgICAgICAKCiAgICAgICAgY2lyY2xlX21hcmtlcl9hODU0MmNhMWZhYTg0MmZkODQ5NjU0MGExMmVmMGZmMy5iaW5kUG9wdXAocG9wdXBfOWVkM2M3MTE1OTU0NDg4NWFiNGMxY2JlODRhNGIyOWUpCiAgICAgICAgOwoKICAgICAgICAKICAgIAogICAgCiAgICAgICAgICAgIHZhciBjaXJjbGVfbWFya2VyX2M2ZDEyOThjM2I3ODRjNWVhYWZlY2NlMDUyZDEwNzE1ID0gTC5jaXJjbGVNYXJrZXIoCiAgICAgICAgICAgICAgICBbMzcuODY2MTE2LCAtMTIyLjI1MzczMzAwMDAwMDAxXSwKICAgICAgICAgICAgICAgIHsiYnViYmxpbmdNb3VzZUV2ZW50cyI6IHRydWUsICJjb2xvciI6ICIjMzM4OGZmIiwgImRhc2hBcnJheSI6IG51bGwsICJkYXNoT2Zmc2V0IjogbnVsbCwgImZpbGwiOiB0cnVlLCAiZmlsbENvbG9yIjogImJsdWUiLCAiZmlsbE9wYWNpdHkiOiAxLCAiZmlsbFJ1bGUiOiAiZXZlbm9kZCIsICJsaW5lQ2FwIjogInJvdW5kIiwgImxpbmVKb2luIjogInJvdW5kIiwgIm9wYWNpdHkiOiAxLjAsICJyYWRpdXMiOiA1LCAic3Ryb2tlIjogdHJ1ZSwgIndlaWdodCI6IDN9CiAgICAgICAgICAgICkuYWRkVG8obWFwX2U2N2RjMzVlOTE5MjRkYTFiYzQ0YzkyYjY5ZDUyMTk5KTsKICAgICAgICAKICAgIAogICAgICAgIHZhciBwb3B1cF9hZmE3MzY4YzAxOGE0NzZmYTIzYTY1MTIxNTFjN2U4MCA9IEwucG9wdXAoeyJtYXhXaWR0aCI6ICIxMDAlIn0pOwoKICAgICAgICAKICAgICAgICAgICAgdmFyIGh0bWxfZDIwOTNkNzliZmQ5NGMxNTg1NjQ3ZmY1ZDU3MGRhYTEgPSAkKGA8ZGl2IGlkPSJodG1sX2QyMDkzZDc5YmZkOTRjMTU4NTY0N2ZmNWQ1NzBkYWExIiBzdHlsZT0id2lkdGg6IDEwMC4wJTsgaGVpZ2h0OiAxMDAuMCU7Ij5ibHVlPC9kaXY+YClbMF07CiAgICAgICAgICAgIHBvcHVwX2FmYTczNjhjMDE4YTQ3NmZhMjNhNjUxMjE1MWM3ZTgwLnNldENvbnRlbnQoaHRtbF9kMjA5M2Q3OWJmZDk0YzE1ODU2NDdmZjVkNTcwZGFhMSk7CiAgICAgICAgCgogICAgICAgIGNpcmNsZV9tYXJrZXJfYzZkMTI5OGMzYjc4NGM1ZWFhZmVjY2UwNTJkMTA3MTUuYmluZFBvcHVwKHBvcHVwX2FmYTczNjhjMDE4YTQ3NmZhMjNhNjUxMjE1MWM3ZTgwKQogICAgICAgIDsKCiAgICAgICAgCiAgICAKICAgIAogICAgICAgICAgICB2YXIgY2lyY2xlX21hcmtlcl9iY2NhZDExMjkyODA0OGE1YTUwZGYwZDIxYzVjNjA5OCA9IEwuY2lyY2xlTWFya2VyKAogICAgICAgICAgICAgICAgWzM3Ljg2ODA0OSwgLTEyMi4yNTk1NzldLAogICAgICAgICAgICAgICAgeyJidWJibGluZ01vdXNlRXZlbnRzIjogdHJ1ZSwgImNvbG9yIjogIiMzMzg4ZmYiLCAiZGFzaEFycmF5IjogbnVsbCwgImRhc2hPZmZzZXQiOiBudWxsLCAiZmlsbCI6IHRydWUsICJmaWxsQ29sb3IiOiAiYmx1ZSIsICJmaWxsT3BhY2l0eSI6IDEsICJmaWxsUnVsZSI6ICJldmVub2RkIiwgImxpbmVDYXAiOiAicm91bmQiLCAibGluZUpvaW4iOiAicm91bmQiLCAib3BhY2l0eSI6IDEuMCwgInJhZGl1cyI6IDUsICJzdHJva2UiOiB0cnVlLCAid2VpZ2h0IjogM30KICAgICAgICAgICAgKS5hZGRUbyhtYXBfZTY3ZGMzNWU5MTkyNGRhMWJjNDRjOTJiNjlkNTIxOTkpOwogICAgICAgIAogICAgCiAgICAgICAgdmFyIHBvcHVwXzQ5YzE0OTNhOTZkZjQ0NjBiNmUzMmY2YzIyZjFjZjc4ID0gTC5wb3B1cCh7Im1heFdpZHRoIjogIjEwMCUifSk7CgogICAgICAgIAogICAgICAgICAgICB2YXIgaHRtbF9mNTdkYjY2NTFlOTE0ODVjYTUxYzdmMDA1MDMwYzcxNSA9ICQoYDxkaXYgaWQ9Imh0bWxfZjU3ZGI2NjUxZTkxNDg1Y2E1MWM3ZjAwNTAzMGM3MTUiIHN0eWxlPSJ3aWR0aDogMTAwLjAlOyBoZWlnaHQ6IDEwMC4wJTsiPmJsdWU8L2Rpdj5gKVswXTsKICAgICAgICAgICAgcG9wdXBfNDljMTQ5M2E5NmRmNDQ2MGI2ZTMyZjZjMjJmMWNmNzguc2V0Q29udGVudChodG1sX2Y1N2RiNjY1MWU5MTQ4NWNhNTFjN2YwMDUwMzBjNzE1KTsKICAgICAgICAKCiAgICAgICAgY2lyY2xlX21hcmtlcl9iY2NhZDExMjkyODA0OGE1YTUwZGYwZDIxYzVjNjA5OC5iaW5kUG9wdXAocG9wdXBfNDljMTQ5M2E5NmRmNDQ2MGI2ZTMyZjZjMjJmMWNmNzgpCiAgICAgICAgOwoKICAgICAgICAKICAgIAogICAgCiAgICAgICAgICAgIHZhciBjaXJjbGVfbWFya2VyXzY4MjU4YmY5MDI3MzQ1MWVhZjdjYWJiZTMzZGIwNDY0ID0gTC5jaXJjbGVNYXJrZXIoCiAgICAgICAgICAgICAgICBbMzcuODY4Mjg2LCAtMTIyLjI1NjU4MTAwMDAwMDAxXSwKICAgICAgICAgICAgICAgIHsiYnViYmxpbmdNb3VzZUV2ZW50cyI6IHRydWUsICJjb2xvciI6ICIjMzM4OGZmIiwgImRhc2hBcnJheSI6IG51bGwsICJkYXNoT2Zmc2V0IjogbnVsbCwgImZpbGwiOiB0cnVlLCAiZmlsbENvbG9yIjogImJsdWUiLCAiZmlsbE9wYWNpdHkiOiAxLCAiZmlsbFJ1bGUiOiAiZXZlbm9kZCIsICJsaW5lQ2FwIjogInJvdW5kIiwgImxpbmVKb2luIjogInJvdW5kIiwgIm9wYWNpdHkiOiAxLjAsICJyYWRpdXMiOiA1LCAic3Ryb2tlIjogdHJ1ZSwgIndlaWdodCI6IDN9CiAgICAgICAgICAgICkuYWRkVG8obWFwX2U2N2RjMzVlOTE5MjRkYTFiYzQ0YzkyYjY5ZDUyMTk5KTsKICAgICAgICAKICAgIAogICAgICAgIHZhciBwb3B1cF9lNWI0OGU4NDQ4M2Q0MDM0OTg5OTc5NWVjOGJiZjExMiA9IEwucG9wdXAoeyJtYXhXaWR0aCI6ICIxMDAlIn0pOwoKICAgICAgICAKICAgICAgICAgICAgdmFyIGh0bWxfY2ViZDJkN2EwN2Q1NGMzODllODkxY2NmOTRjOTFmYzEgPSAkKGA8ZGl2IGlkPSJodG1sX2NlYmQyZDdhMDdkNTRjMzg5ZTg5MWNjZjk0YzkxZmMxIiBzdHlsZT0id2lkdGg6IDEwMC4wJTsgaGVpZ2h0OiAxMDAuMCU7Ij5ibHVlPC9kaXY+YClbMF07CiAgICAgICAgICAgIHBvcHVwX2U1YjQ4ZTg0NDgzZDQwMzQ5ODk5Nzk1ZWM4YmJmMTEyLnNldENvbnRlbnQoaHRtbF9jZWJkMmQ3YTA3ZDU0YzM4OWU4OTFjY2Y5NGM5MWZjMSk7CiAgICAgICAgCgogICAgICAgIGNpcmNsZV9tYXJrZXJfNjgyNThiZjkwMjczNDUxZWFmN2NhYmJlMzNkYjA0NjQuYmluZFBvcHVwKHBvcHVwX2U1YjQ4ZTg0NDgzZDQwMzQ5ODk5Nzk1ZWM4YmJmMTEyKQogICAgICAgIDsKCiAgICAgICAgCiAgICAKICAgIAogICAgICAgICAgICB2YXIgY2lyY2xlX21hcmtlcl9iOWY2OTJlMmUzODk0NzVjYmRmMjdjNmJkZDhmNDlhOCA9IEwuY2lyY2xlTWFya2VyKAogICAgICAgICAgICAgICAgWzM3Ljg2NjI3NCwgLTEyMi4yNTExODVdLAogICAgICAgICAgICAgICAgeyJidWJibGluZ01vdXNlRXZlbnRzIjogdHJ1ZSwgImNvbG9yIjogIiMzMzg4ZmYiLCAiZGFzaEFycmF5IjogbnVsbCwgImRhc2hPZmZzZXQiOiBudWxsLCAiZmlsbCI6IHRydWUsICJmaWxsQ29sb3IiOiAiYmx1ZSIsICJmaWxsT3BhY2l0eSI6IDEsICJmaWxsUnVsZSI6ICJldmVub2RkIiwgImxpbmVDYXAiOiAicm91bmQiLCAibGluZUpvaW4iOiAicm91bmQiLCAib3BhY2l0eSI6IDEuMCwgInJhZGl1cyI6IDUsICJzdHJva2UiOiB0cnVlLCAid2VpZ2h0IjogM30KICAgICAgICAgICAgKS5hZGRUbyhtYXBfZTY3ZGMzNWU5MTkyNGRhMWJjNDRjOTJiNjlkNTIxOTkpOwogICAgICAgIAogICAgCiAgICAgICAgdmFyIHBvcHVwX2VhYjUwODNjNWIwYzRjMGU4Njg0MWVmYzRiYmNmYjdjID0gTC5wb3B1cCh7Im1heFdpZHRoIjogIjEwMCUifSk7CgogICAgICAgIAogICAgICAgICAgICB2YXIgaHRtbF8yMzYxNjU4ZjAyNTI0Y2IyYjVlNjBkMjVlYTJmYjBkNSA9ICQoYDxkaXYgaWQ9Imh0bWxfMjM2MTY1OGYwMjUyNGNiMmI1ZTYwZDI1ZWEyZmIwZDUiIHN0eWxlPSJ3aWR0aDogMTAwLjAlOyBoZWlnaHQ6IDEwMC4wJTsiPmJsdWU8L2Rpdj5gKVswXTsKICAgICAgICAgICAgcG9wdXBfZWFiNTA4M2M1YjBjNGMwZTg2ODQxZWZjNGJiY2ZiN2Muc2V0Q29udGVudChodG1sXzIzNjE2NThmMDI1MjRjYjJiNWU2MGQyNWVhMmZiMGQ1KTsKICAgICAgICAKCiAgICAgICAgY2lyY2xlX21hcmtlcl9iOWY2OTJlMmUzODk0NzVjYmRmMjdjNmJkZDhmNDlhOC5iaW5kUG9wdXAocG9wdXBfZWFiNTA4M2M1YjBjNGMwZTg2ODQxZWZjNGJiY2ZiN2MpCiAgICAgICAgOwoKICAgICAgICAKICAgIAogICAgCiAgICAgICAgICAgIHZhciBjaXJjbGVfbWFya2VyX2YyYzVjODNkN2YzYjQ4OWZiMGY0Nzk1MDAzMzk0NzdiID0gTC5jaXJjbGVNYXJrZXIoCiAgICAgICAgICAgICAgICBbMzcuODcwNjkyLCAtMTIyLjI1MjMzNF0sCiAgICAgICAgICAgICAgICB7ImJ1YmJsaW5nTW91c2VFdmVudHMiOiB0cnVlLCAiY29sb3IiOiAiIzMzODhmZiIsICJkYXNoQXJyYXkiOiBudWxsLCAiZGFzaE9mZnNldCI6IG51bGwsICJmaWxsIjogdHJ1ZSwgImZpbGxDb2xvciI6ICJibHVlIiwgImZpbGxPcGFjaXR5IjogMSwgImZpbGxSdWxlIjogImV2ZW5vZGQiLCAibGluZUNhcCI6ICJyb3VuZCIsICJsaW5lSm9pbiI6ICJyb3VuZCIsICJvcGFjaXR5IjogMS4wLCAicmFkaXVzIjogNSwgInN0cm9rZSI6IHRydWUsICJ3ZWlnaHQiOiAzfQogICAgICAgICAgICApLmFkZFRvKG1hcF9lNjdkYzM1ZTkxOTI0ZGExYmM0NGM5MmI2OWQ1MjE5OSk7CiAgICAgICAgCiAgICAKICAgICAgICB2YXIgcG9wdXBfMzEzOGU4NGE5NTkxNDNlZjlmMWE5YmQ1ZGJjYzliYTIgPSBMLnBvcHVwKHsibWF4V2lkdGgiOiAiMTAwJSJ9KTsKCiAgICAgICAgCiAgICAgICAgICAgIHZhciBodG1sXzE2MDBmMTIwYTM2MTQwYWI4ZGYyNWYzMThkNzU4MGYxID0gJChgPGRpdiBpZD0iaHRtbF8xNjAwZjEyMGEzNjE0MGFiOGRmMjVmMzE4ZDc1ODBmMSIgc3R5bGU9IndpZHRoOiAxMDAuMCU7IGhlaWdodDogMTAwLjAlOyI+Ymx1ZTwvZGl2PmApWzBdOwogICAgICAgICAgICBwb3B1cF8zMTM4ZTg0YTk1OTE0M2VmOWYxYTliZDVkYmNjOWJhMi5zZXRDb250ZW50KGh0bWxfMTYwMGYxMjBhMzYxNDBhYjhkZjI1ZjMxOGQ3NTgwZjEpOwogICAgICAgIAoKICAgICAgICBjaXJjbGVfbWFya2VyX2YyYzVjODNkN2YzYjQ4OWZiMGY0Nzk1MDAzMzk0NzdiLmJpbmRQb3B1cChwb3B1cF8zMTM4ZTg0YTk1OTE0M2VmOWYxYTliZDVkYmNjOWJhMikKICAgICAgICA7CgogICAgICAgIAogICAgCiAgICAKICAgICAgICAgICAgdmFyIGNpcmNsZV9tYXJrZXJfNjE3NmI5ZTliYzU2NDQ5ZjkwYzc1Nzc3MTE4ZDU5NzggPSBMLmNpcmNsZU1hcmtlcigKICAgICAgICAgICAgICAgIFszNy44NzYyMTQwMDAwMDAwMDQsIC0xMjIuMjU5NTc5XSwKICAgICAgICAgICAgICAgIHsiYnViYmxpbmdNb3VzZUV2ZW50cyI6IHRydWUsICJjb2xvciI6ICIjMzM4OGZmIiwgImRhc2hBcnJheSI6IG51bGwsICJkYXNoT2Zmc2V0IjogbnVsbCwgImZpbGwiOiB0cnVlLCAiZmlsbENvbG9yIjogImJsdWUiLCAiZmlsbE9wYWNpdHkiOiAxLCAiZmlsbFJ1bGUiOiAiZXZlbm9kZCIsICJsaW5lQ2FwIjogInJvdW5kIiwgImxpbmVKb2luIjogInJvdW5kIiwgIm9wYWNpdHkiOiAxLjAsICJyYWRpdXMiOiA1LCAic3Ryb2tlIjogdHJ1ZSwgIndlaWdodCI6IDN9CiAgICAgICAgICAgICkuYWRkVG8obWFwX2U2N2RjMzVlOTE5MjRkYTFiYzQ0YzkyYjY5ZDUyMTk5KTsKICAgICAgICAKICAgIAogICAgICAgIHZhciBwb3B1cF8yYTZkZWM4ZWI3OTc0OTMwOGUxYzY0OWUxNTI4Y2Y3NSA9IEwucG9wdXAoeyJtYXhXaWR0aCI6ICIxMDAlIn0pOwoKICAgICAgICAKICAgICAgICAgICAgdmFyIGh0bWxfNTM5NWNiYjAxMGNlNGUwMzgyMjlmNTNjZWE5NTVlNWMgPSAkKGA8ZGl2IGlkPSJodG1sXzUzOTVjYmIwMTBjZTRlMDM4MjI5ZjUzY2VhOTU1ZTVjIiBzdHlsZT0id2lkdGg6IDEwMC4wJTsgaGVpZ2h0OiAxMDAuMCU7Ij5ibHVlPC9kaXY+YClbMF07CiAgICAgICAgICAgIHBvcHVwXzJhNmRlYzhlYjc5NzQ5MzA4ZTFjNjQ5ZTE1MjhjZjc1LnNldENvbnRlbnQoaHRtbF81Mzk1Y2JiMDEwY2U0ZTAzODIyOWY1M2NlYTk1NWU1Yyk7CiAgICAgICAgCgogICAgICAgIGNpcmNsZV9tYXJrZXJfNjE3NmI5ZTliYzU2NDQ5ZjkwYzc1Nzc3MTE4ZDU5NzguYmluZFBvcHVwKHBvcHVwXzJhNmRlYzhlYjc5NzQ5MzA4ZTFjNjQ5ZTE1MjhjZjc1KQogICAgICAgIDsKCiAgICAgICAgCiAgICAKICAgIAogICAgICAgICAgICB2YXIgY2lyY2xlX21hcmtlcl9iMTVkZWE0YmVjYzQ0MTUyYmUwNjA1NzliYmNlM2RhZCA9IEwuY2lyY2xlTWFya2VyKAogICAgICAgICAgICAgICAgWzM3Ljg3Nzk1LCAtMTIyLjI2MjI3ODAwMDAwMDAxXSwKICAgICAgICAgICAgICAgIHsiYnViYmxpbmdNb3VzZUV2ZW50cyI6IHRydWUsICJjb2xvciI6ICIjMzM4OGZmIiwgImRhc2hBcnJheSI6IG51bGwsICJkYXNoT2Zmc2V0IjogbnVsbCwgImZpbGwiOiB0cnVlLCAiZmlsbENvbG9yIjogImJsdWUiLCAiZmlsbE9wYWNpdHkiOiAxLCAiZmlsbFJ1bGUiOiAiZXZlbm9kZCIsICJsaW5lQ2FwIjogInJvdW5kIiwgImxpbmVKb2luIjogInJvdW5kIiwgIm9wYWNpdHkiOiAxLjAsICJyYWRpdXMiOiA1LCAic3Ryb2tlIjogdHJ1ZSwgIndlaWdodCI6IDN9CiAgICAgICAgICAgICkuYWRkVG8obWFwX2U2N2RjMzVlOTE5MjRkYTFiYzQ0YzkyYjY5ZDUyMTk5KTsKICAgICAgICAKICAgIAogICAgICAgIHZhciBwb3B1cF9hMzlkNTYzMDNjYmU0ZmQzYjRmZmRiOWY0ZDIwMjFjNiA9IEwucG9wdXAoeyJtYXhXaWR0aCI6ICIxMDAlIn0pOwoKICAgICAgICAKICAgICAgICAgICAgdmFyIGh0bWxfYzAzYWNiOWVjN2E5NDBkZjhjZjM0MjYyMWU4OWEyMmEgPSAkKGA8ZGl2IGlkPSJodG1sX2MwM2FjYjllYzdhOTQwZGY4Y2YzNDI2MjFlODlhMjJhIiBzdHlsZT0id2lkdGg6IDEwMC4wJTsgaGVpZ2h0OiAxMDAuMCU7Ij5ibHVlPC9kaXY+YClbMF07CiAgICAgICAgICAgIHBvcHVwX2EzOWQ1NjMwM2NiZTRmZDNiNGZmZGI5ZjRkMjAyMWM2LnNldENvbnRlbnQoaHRtbF9jMDNhY2I5ZWM3YTk0MGRmOGNmMzQyNjIxZTg5YTIyYSk7CiAgICAgICAgCgogICAgICAgIGNpcmNsZV9tYXJrZXJfYjE1ZGVhNGJlY2M0NDE1MmJlMDYwNTc5YmJjZTNkYWQuYmluZFBvcHVwKHBvcHVwX2EzOWQ1NjMwM2NiZTRmZDNiNGZmZGI5ZjRkMjAyMWM2KQogICAgICAgIDsKCiAgICAgICAgCiAgICAKICAgIAogICAgICAgICAgICB2YXIgY2lyY2xlX21hcmtlcl85MmRkMzVmMzY3MjA0ODRjYjNkNjNkMWNhYzY0ZjEwMSA9IEwuY2lyY2xlTWFya2VyKAogICAgICAgICAgICAgICAgWzM3Ljg3Njc2NTk5OTk5OTk5NiwgLTEyMi4yNjU5MjVdLAogICAgICAgICAgICAgICAgeyJidWJibGluZ01vdXNlRXZlbnRzIjogdHJ1ZSwgImNvbG9yIjogIiMzMzg4ZmYiLCAiZGFzaEFycmF5IjogbnVsbCwgImRhc2hPZmZzZXQiOiBudWxsLCAiZmlsbCI6IHRydWUsICJmaWxsQ29sb3IiOiAiYmx1ZSIsICJmaWxsT3BhY2l0eSI6IDEsICJmaWxsUnVsZSI6ICJldmVub2RkIiwgImxpbmVDYXAiOiAicm91bmQiLCAibGluZUpvaW4iOiAicm91bmQiLCAib3BhY2l0eSI6IDEuMCwgInJhZGl1cyI6IDUsICJzdHJva2UiOiB0cnVlLCAid2VpZ2h0IjogM30KICAgICAgICAgICAgKS5hZGRUbyhtYXBfZTY3ZGMzNWU5MTkyNGRhMWJjNDRjOTJiNjlkNTIxOTkpOwogICAgICAgIAogICAgCiAgICAgICAgdmFyIHBvcHVwXzE1N2RhZGEyNTcxOTRlNzg5YTdlMGVhM2M3NzM4MGUwID0gTC5wb3B1cCh7Im1heFdpZHRoIjogIjEwMCUifSk7CgogICAgICAgIAogICAgICAgICAgICB2YXIgaHRtbF9lNThjOGRjN2NiMzA0MmUxYjJmMzQzNGQyMGYzYzIxNSA9ICQoYDxkaXYgaWQ9Imh0bWxfZTU4YzhkYzdjYjMwNDJlMWIyZjM0MzRkMjBmM2MyMTUiIHN0eWxlPSJ3aWR0aDogMTAwLjAlOyBoZWlnaHQ6IDEwMC4wJTsiPmJsdWU8L2Rpdj5gKVswXTsKICAgICAgICAgICAgcG9wdXBfMTU3ZGFkYTI1NzE5NGU3ODlhN2UwZWEzYzc3MzgwZTAuc2V0Q29udGVudChodG1sX2U1OGM4ZGM3Y2IzMDQyZTFiMmYzNDM0ZDIwZjNjMjE1KTsKICAgICAgICAKCiAgICAgICAgY2lyY2xlX21hcmtlcl85MmRkMzVmMzY3MjA0ODRjYjNkNjNkMWNhYzY0ZjEwMS5iaW5kUG9wdXAocG9wdXBfMTU3ZGFkYTI1NzE5NGU3ODlhN2UwZWEzYzc3MzgwZTApCiAgICAgICAgOwoKICAgICAgICAKICAgIAogICAgCiAgICAgICAgICAgIHZhciBjaXJjbGVfbWFya2VyXzdhYWEyMjc2ZTkzYTQ2NWViMDFmYWM4MTFkN2Y5MDZhID0gTC5jaXJjbGVNYXJrZXIoCiAgICAgICAgICAgICAgICBbMzcuODgwNDc0LCAtMTIyLjI3MjYyMV0sCiAgICAgICAgICAgICAgICB7ImJ1YmJsaW5nTW91c2VFdmVudHMiOiB0cnVlLCAiY29sb3IiOiAiIzMzODhmZiIsICJkYXNoQXJyYXkiOiBudWxsLCAiZGFzaE9mZnNldCI6IG51bGwsICJmaWxsIjogdHJ1ZSwgImZpbGxDb2xvciI6ICJibHVlIiwgImZpbGxPcGFjaXR5IjogMSwgImZpbGxSdWxlIjogImV2ZW5vZGQiLCAibGluZUNhcCI6ICJyb3VuZCIsICJsaW5lSm9pbiI6ICJyb3VuZCIsICJvcGFjaXR5IjogMS4wLCAicmFkaXVzIjogNSwgInN0cm9rZSI6IHRydWUsICJ3ZWlnaHQiOiAzfQogICAgICAgICAgICApLmFkZFRvKG1hcF9lNjdkYzM1ZTkxOTI0ZGExYmM0NGM5MmI2OWQ1MjE5OSk7CiAgICAgICAgCiAgICAKICAgICAgICB2YXIgcG9wdXBfMjFiM2IxM2ExYjUzNDk3Zjg4ZjAxMzZiZDIzMTQ1NmQgPSBMLnBvcHVwKHsibWF4V2lkdGgiOiAiMTAwJSJ9KTsKCiAgICAgICAgCiAgICAgICAgICAgIHZhciBodG1sX2Q3YWQ3OTk4ZDhjOTRhZTFiYzQ0MjAwZjM2YjYxZDcxID0gJChgPGRpdiBpZD0iaHRtbF9kN2FkNzk5OGQ4Yzk0YWUxYmM0NDIwMGYzNmI2MWQ3MSIgc3R5bGU9IndpZHRoOiAxMDAuMCU7IGhlaWdodDogMTAwLjAlOyI+Ymx1ZTwvZGl2PmApWzBdOwogICAgICAgICAgICBwb3B1cF8yMWIzYjEzYTFiNTM0OTdmODhmMDEzNmJkMjMxNDU2ZC5zZXRDb250ZW50KGh0bWxfZDdhZDc5OThkOGM5NGFlMWJjNDQyMDBmMzZiNjFkNzEpOwogICAgICAgIAoKICAgICAgICBjaXJjbGVfbWFya2VyXzdhYWEyMjc2ZTkzYTQ2NWViMDFmYWM4MTFkN2Y5MDZhLmJpbmRQb3B1cChwb3B1cF8yMWIzYjEzYTFiNTM0OTdmODhmMDEzNmJkMjMxNDU2ZCkKICAgICAgICA7CgogICAgICAgIAogICAgCiAgICAKICAgICAgICAgICAgdmFyIGNpcmNsZV9tYXJrZXJfNjBlNTk2YTNmMDg3NDE0OGI5OWE0ODA1NDRhMTZlYjggPSBMLmNpcmNsZU1hcmtlcigKICAgICAgICAgICAgICAgIFszNy44Njk3MzMwMDAwMDAwMDQsIC0xMjIuMjczNjAzMDAwMDAwMDFdLAogICAgICAgICAgICAgICAgeyJidWJibGluZ01vdXNlRXZlbnRzIjogdHJ1ZSwgImNvbG9yIjogIiMzMzg4ZmYiLCAiZGFzaEFycmF5IjogbnVsbCwgImRhc2hPZmZzZXQiOiBudWxsLCAiZmlsbCI6IHRydWUsICJmaWxsQ29sb3IiOiAiYmx1ZSIsICJmaWxsT3BhY2l0eSI6IDEsICJmaWxsUnVsZSI6ICJldmVub2RkIiwgImxpbmVDYXAiOiAicm91bmQiLCAibGluZUpvaW4iOiAicm91bmQiLCAib3BhY2l0eSI6IDEuMCwgInJhZGl1cyI6IDUsICJzdHJva2UiOiB0cnVlLCAid2VpZ2h0IjogM30KICAgICAgICAgICAgKS5hZGRUbyhtYXBfZTY3ZGMzNWU5MTkyNGRhMWJjNDRjOTJiNjlkNTIxOTkpOwogICAgICAgIAogICAgCiAgICAgICAgdmFyIHBvcHVwX2VmYTFiMWIxMDE5ZjRkODc4Zjk2ZWIyNjIyNTMyNTU2ID0gTC5wb3B1cCh7Im1heFdpZHRoIjogIjEwMCUifSk7CgogICAgICAgIAogICAgICAgICAgICB2YXIgaHRtbF9mNzg3YzNmOGJkM2I0NTE4OGRlYTdhZDllMWRkMmFjOCA9ICQoYDxkaXYgaWQ9Imh0bWxfZjc4N2MzZjhiZDNiNDUxODhkZWE3YWQ5ZTFkZDJhYzgiIHN0eWxlPSJ3aWR0aDogMTAwLjAlOyBoZWlnaHQ6IDEwMC4wJTsiPmJsdWU8L2Rpdj5gKVswXTsKICAgICAgICAgICAgcG9wdXBfZWZhMWIxYjEwMTlmNGQ4NzhmOTZlYjI2MjI1MzI1NTYuc2V0Q29udGVudChodG1sX2Y3ODdjM2Y4YmQzYjQ1MTg4ZGVhN2FkOWUxZGQyYWM4KTsKICAgICAgICAKCiAgICAgICAgY2lyY2xlX21hcmtlcl82MGU1OTZhM2YwODc0MTQ4Yjk5YTQ4MDU0NGExNmViOC5iaW5kUG9wdXAocG9wdXBfZWZhMWIxYjEwMTlmNGQ4NzhmOTZlYjI2MjI1MzI1NTYpCiAgICAgICAgOwoKICAgICAgICAKICAgIAogICAgCiAgICAgICAgICAgIHZhciBjaXJjbGVfbWFya2VyX2UzNDQzM2YwYTgxODRkZDZhMjQwODNiMWVkODU1MzNkID0gTC5jaXJjbGVNYXJrZXIoCiAgICAgICAgICAgICAgICBbMzcuODY2NTY5LCAtMTIyLjI4Mjg1OV0sCiAgICAgICAgICAgICAgICB7ImJ1YmJsaW5nTW91c2VFdmVudHMiOiB0cnVlLCAiY29sb3IiOiAiIzMzODhmZiIsICJkYXNoQXJyYXkiOiBudWxsLCAiZGFzaE9mZnNldCI6IG51bGwsICJmaWxsIjogdHJ1ZSwgImZpbGxDb2xvciI6ICJibHVlIiwgImZpbGxPcGFjaXR5IjogMSwgImZpbGxSdWxlIjogImV2ZW5vZGQiLCAibGluZUNhcCI6ICJyb3VuZCIsICJsaW5lSm9pbiI6ICJyb3VuZCIsICJvcGFjaXR5IjogMS4wLCAicmFkaXVzIjogNSwgInN0cm9rZSI6IHRydWUsICJ3ZWlnaHQiOiAzfQogICAgICAgICAgICApLmFkZFRvKG1hcF9lNjdkYzM1ZTkxOTI0ZGExYmM0NGM5MmI2OWQ1MjE5OSk7CiAgICAgICAgCiAgICAKICAgICAgICB2YXIgcG9wdXBfNTVhMTM0MTE1YjE5NDE3NmFiN2EwZGIxMTIxOWMyZDIgPSBMLnBvcHVwKHsibWF4V2lkdGgiOiAiMTAwJSJ9KTsKCiAgICAgICAgCiAgICAgICAgICAgIHZhciBodG1sXzlmNWQ0OGFjYmQyNjQ3ZDZhYWQ5ZWI4OWI3NTM0NmU5ID0gJChgPGRpdiBpZD0iaHRtbF85ZjVkNDhhY2JkMjY0N2Q2YWFkOWViODliNzUzNDZlOSIgc3R5bGU9IndpZHRoOiAxMDAuMCU7IGhlaWdodDogMTAwLjAlOyI+Ymx1ZTwvZGl2PmApWzBdOwogICAgICAgICAgICBwb3B1cF81NWExMzQxMTViMTk0MTc2YWI3YTBkYjExMjE5YzJkMi5zZXRDb250ZW50KGh0bWxfOWY1ZDQ4YWNiZDI2NDdkNmFhZDllYjg5Yjc1MzQ2ZTkpOwogICAgICAgIAoKICAgICAgICBjaXJjbGVfbWFya2VyX2UzNDQzM2YwYTgxODRkZDZhMjQwODNiMWVkODU1MzNkLmJpbmRQb3B1cChwb3B1cF81NWExMzQxMTViMTk0MTc2YWI3YTBkYjExMjE5YzJkMikKICAgICAgICA7CgogICAgICAgIAogICAgCiAgICAKICAgICAgICAgICAgdmFyIGNpcmNsZV9tYXJrZXJfYzQ0YzFkOWNmZTg4NDVhZTk0YWQwNzM0MGUzMDcxNTUgPSBMLmNpcmNsZU1hcmtlcigKICAgICAgICAgICAgICAgIFszNy44Njc5NSwgLTEyMi4yNTQyMTddLAogICAgICAgICAgICAgICAgeyJidWJibGluZ01vdXNlRXZlbnRzIjogdHJ1ZSwgImNvbG9yIjogIiMzMzg4ZmYiLCAiZGFzaEFycmF5IjogbnVsbCwgImRhc2hPZmZzZXQiOiBudWxsLCAiZmlsbCI6IHRydWUsICJmaWxsQ29sb3IiOiAiYmx1ZSIsICJmaWxsT3BhY2l0eSI6IDEsICJmaWxsUnVsZSI6ICJldmVub2RkIiwgImxpbmVDYXAiOiAicm91bmQiLCAibGluZUpvaW4iOiAicm91bmQiLCAib3BhY2l0eSI6IDEuMCwgInJhZGl1cyI6IDUsICJzdHJva2UiOiB0cnVlLCAid2VpZ2h0IjogM30KICAgICAgICAgICAgKS5hZGRUbyhtYXBfZTY3ZGMzNWU5MTkyNGRhMWJjNDRjOTJiNjlkNTIxOTkpOwogICAgICAgIAogICAgCiAgICAgICAgdmFyIHBvcHVwXzZlNGU0MDdkZDE0ZTRiNmI5MzkyZDMzODQ1NWFkOTRmID0gTC5wb3B1cCh7Im1heFdpZHRoIjogIjEwMCUifSk7CgogICAgICAgIAogICAgICAgICAgICB2YXIgaHRtbF9kZGZmN2Y2ZGJlMmM0YTY4OTQ3MDM4ODI1YzAwY2M1OSA9ICQoYDxkaXYgaWQ9Imh0bWxfZGRmZjdmNmRiZTJjNGE2ODk0NzAzODgyNWMwMGNjNTkiIHN0eWxlPSJ3aWR0aDogMTAwLjAlOyBoZWlnaHQ6IDEwMC4wJTsiPmJsdWU8L2Rpdj5gKVswXTsKICAgICAgICAgICAgcG9wdXBfNmU0ZTQwN2RkMTRlNGI2YjkzOTJkMzM4NDU1YWQ5NGYuc2V0Q29udGVudChodG1sX2RkZmY3ZjZkYmUyYzRhNjg5NDcwMzg4MjVjMDBjYzU5KTsKICAgICAgICAKCiAgICAgICAgY2lyY2xlX21hcmtlcl9jNDRjMWQ5Y2ZlODg0NWFlOTRhZDA3MzQwZTMwNzE1NS5iaW5kUG9wdXAocG9wdXBfNmU0ZTQwN2RkMTRlNGI2YjkzOTJkMzM4NDU1YWQ5NGYpCiAgICAgICAgOwoKICAgICAgICAKICAgIAogICAgCiAgICAgICAgICAgIHZhciBjaXJjbGVfbWFya2VyXzYzNTY3M2I4NzhiMDQ5YTc4NzFlYzY4NTlhMTE0OWVlID0gTC5jaXJjbGVNYXJrZXIoCiAgICAgICAgICAgICAgICBbMzcuODYzODY1MDAwMDAwMDA0LCAtMTIyLjI2MjIzNF0sCiAgICAgICAgICAgICAgICB7ImJ1YmJsaW5nTW91c2VFdmVudHMiOiB0cnVlLCAiY29sb3IiOiAiIzMzODhmZiIsICJkYXNoQXJyYXkiOiBudWxsLCAiZGFzaE9mZnNldCI6IG51bGwsICJmaWxsIjogdHJ1ZSwgImZpbGxDb2xvciI6ICJibHVlIiwgImZpbGxPcGFjaXR5IjogMSwgImZpbGxSdWxlIjogImV2ZW5vZGQiLCAibGluZUNhcCI6ICJyb3VuZCIsICJsaW5lSm9pbiI6ICJyb3VuZCIsICJvcGFjaXR5IjogMS4wLCAicmFkaXVzIjogNSwgInN0cm9rZSI6IHRydWUsICJ3ZWlnaHQiOiAzfQogICAgICAgICAgICApLmFkZFRvKG1hcF9lNjdkYzM1ZTkxOTI0ZGExYmM0NGM5MmI2OWQ1MjE5OSk7CiAgICAgICAgCiAgICAKICAgICAgICB2YXIgcG9wdXBfYTRjYmQ2OTk3MmRjNDA3ZDlhNjQzODA0YTdlZGI0MmIgPSBMLnBvcHVwKHsibWF4V2lkdGgiOiAiMTAwJSJ9KTsKCiAgICAgICAgCiAgICAgICAgICAgIHZhciBodG1sX2YwMzI0OThkMjBhNTRlYjY4Y2RkNjYzMjljMzg2Nzc5ID0gJChgPGRpdiBpZD0iaHRtbF9mMDMyNDk4ZDIwYTU0ZWI2OGNkZDY2MzI5YzM4Njc3OSIgc3R5bGU9IndpZHRoOiAxMDAuMCU7IGhlaWdodDogMTAwLjAlOyI+Ymx1ZTwvZGl2PmApWzBdOwogICAgICAgICAgICBwb3B1cF9hNGNiZDY5OTcyZGM0MDdkOWE2NDM4MDRhN2VkYjQyYi5zZXRDb250ZW50KGh0bWxfZjAzMjQ5OGQyMGE1NGViNjhjZGQ2NjMyOWMzODY3NzkpOwogICAgICAgIAoKICAgICAgICBjaXJjbGVfbWFya2VyXzYzNTY3M2I4NzhiMDQ5YTc4NzFlYzY4NTlhMTE0OWVlLmJpbmRQb3B1cChwb3B1cF9hNGNiZDY5OTcyZGM0MDdkOWE2NDM4MDRhN2VkYjQyYikKICAgICAgICA7CgogICAgICAgIAogICAgCiAgICAKICAgICAgICAgICAgdmFyIGNpcmNsZV9tYXJrZXJfYmFkNzExOTE4NWJjNDRkYTgxOWI5ZDFlN2U0NGFiZGQgPSBMLmNpcmNsZU1hcmtlcigKICAgICAgICAgICAgICAgIFszNy44Njc5MzksIC0xMjIuMjU3MDk0OTk5OTk5OTldLAogICAgICAgICAgICAgICAgeyJidWJibGluZ01vdXNlRXZlbnRzIjogdHJ1ZSwgImNvbG9yIjogIiMzMzg4ZmYiLCAiZGFzaEFycmF5IjogbnVsbCwgImRhc2hPZmZzZXQiOiBudWxsLCAiZmlsbCI6IHRydWUsICJmaWxsQ29sb3IiOiAiYmx1ZSIsICJmaWxsT3BhY2l0eSI6IDEsICJmaWxsUnVsZSI6ICJldmVub2RkIiwgImxpbmVDYXAiOiAicm91bmQiLCAibGluZUpvaW4iOiAicm91bmQiLCAib3BhY2l0eSI6IDEuMCwgInJhZGl1cyI6IDUsICJzdHJva2UiOiB0cnVlLCAid2VpZ2h0IjogM30KICAgICAgICAgICAgKS5hZGRUbyhtYXBfZTY3ZGMzNWU5MTkyNGRhMWJjNDRjOTJiNjlkNTIxOTkpOwogICAgICAgIAogICAgCiAgICAgICAgdmFyIHBvcHVwXzM5OTcwNTVhYTc4NDQxMzQ4MjdiY2YxNzVmOWNjMzdmID0gTC5wb3B1cCh7Im1heFdpZHRoIjogIjEwMCUifSk7CgogICAgICAgIAogICAgICAgICAgICB2YXIgaHRtbF8zMWJjZGY3ZDhjM2M0NjgzYmQ2YzRmMmJmZWMyZjE5ZCA9ICQoYDxkaXYgaWQ9Imh0bWxfMzFiY2RmN2Q4YzNjNDY4M2JkNmM0ZjJiZmVjMmYxOWQiIHN0eWxlPSJ3aWR0aDogMTAwLjAlOyBoZWlnaHQ6IDEwMC4wJTsiPmJsdWU8L2Rpdj5gKVswXTsKICAgICAgICAgICAgcG9wdXBfMzk5NzA1NWFhNzg0NDEzNDgyN2JjZjE3NWY5Y2MzN2Yuc2V0Q29udGVudChodG1sXzMxYmNkZjdkOGMzYzQ2ODNiZDZjNGYyYmZlYzJmMTlkKTsKICAgICAgICAKCiAgICAgICAgY2lyY2xlX21hcmtlcl9iYWQ3MTE5MTg1YmM0NGRhODE5YjlkMWU3ZTQ0YWJkZC5iaW5kUG9wdXAocG9wdXBfMzk5NzA1NWFhNzg0NDEzNDgyN2JjZjE3NWY5Y2MzN2YpCiAgICAgICAgOwoKICAgICAgICAKICAgIAogICAgCiAgICAgICAgICAgIHZhciBjaXJjbGVfbWFya2VyXzJiNWZhNDdkMjM5NTRlZjFiODVlODJjNmI3ZDIwZGM1ID0gTC5jaXJjbGVNYXJrZXIoCiAgICAgICAgICAgICAgICBbMzcuODc1MzIxLCAtMTIyLjI2MzMxOV0sCiAgICAgICAgICAgICAgICB7ImJ1YmJsaW5nTW91c2VFdmVudHMiOiB0cnVlLCAiY29sb3IiOiAiIzMzODhmZiIsICJkYXNoQXJyYXkiOiBudWxsLCAiZGFzaE9mZnNldCI6IG51bGwsICJmaWxsIjogdHJ1ZSwgImZpbGxDb2xvciI6ICJibHVlIiwgImZpbGxPcGFjaXR5IjogMSwgImZpbGxSdWxlIjogImV2ZW5vZGQiLCAibGluZUNhcCI6ICJyb3VuZCIsICJsaW5lSm9pbiI6ICJyb3VuZCIsICJvcGFjaXR5IjogMS4wLCAicmFkaXVzIjogNSwgInN0cm9rZSI6IHRydWUsICJ3ZWlnaHQiOiAzfQogICAgICAgICAgICApLmFkZFRvKG1hcF9lNjdkYzM1ZTkxOTI0ZGExYmM0NGM5MmI2OWQ1MjE5OSk7CiAgICAgICAgCiAgICAKICAgICAgICB2YXIgcG9wdXBfZDVhNWE5MjM4NmZiNDU1NGIwMGI3YjkxNWJlM2Y2YjYgPSBMLnBvcHVwKHsibWF4V2lkdGgiOiAiMTAwJSJ9KTsKCiAgICAgICAgCiAgICAgICAgICAgIHZhciBodG1sX2ZhMjljMDAzZjUxNjRkYjA5MjI1MzIzZDEzMzQwYmM1ID0gJChgPGRpdiBpZD0iaHRtbF9mYTI5YzAwM2Y1MTY0ZGIwOTIyNTMyM2QxMzM0MGJjNSIgc3R5bGU9IndpZHRoOiAxMDAuMCU7IGhlaWdodDogMTAwLjAlOyI+Ymx1ZTwvZGl2PmApWzBdOwogICAgICAgICAgICBwb3B1cF9kNWE1YTkyMzg2ZmI0NTU0YjAwYjdiOTE1YmUzZjZiNi5zZXRDb250ZW50KGh0bWxfZmEyOWMwMDNmNTE2NGRiMDkyMjUzMjNkMTMzNDBiYzUpOwogICAgICAgIAoKICAgICAgICBjaXJjbGVfbWFya2VyXzJiNWZhNDdkMjM5NTRlZjFiODVlODJjNmI3ZDIwZGM1LmJpbmRQb3B1cChwb3B1cF9kNWE1YTkyMzg2ZmI0NTU0YjAwYjdiOTE1YmUzZjZiNikKICAgICAgICA7CgogICAgICAgIAogICAgCiAgICAKICAgICAgICAgICAgdmFyIGNpcmNsZV9tYXJrZXJfMDVjNzRiMzFlMzRiNDY2NzhmNmQ2OGE2ZTU0ZjFhM2EgPSBMLmNpcmNsZU1hcmtlcigKICAgICAgICAgICAgICAgIFszNy44NzIwMDgsIC0xMjIuMjY4NDYyMDAwMDAwMDFdLAogICAgICAgICAgICAgICAgeyJidWJibGluZ01vdXNlRXZlbnRzIjogdHJ1ZSwgImNvbG9yIjogIiMzMzg4ZmYiLCAiZGFzaEFycmF5IjogbnVsbCwgImRhc2hPZmZzZXQiOiBudWxsLCAiZmlsbCI6IHRydWUsICJmaWxsQ29sb3IiOiAiYmx1ZSIsICJmaWxsT3BhY2l0eSI6IDEsICJmaWxsUnVsZSI6ICJldmVub2RkIiwgImxpbmVDYXAiOiAicm91bmQiLCAibGluZUpvaW4iOiAicm91bmQiLCAib3BhY2l0eSI6IDEuMCwgInJhZGl1cyI6IDUsICJzdHJva2UiOiB0cnVlLCAid2VpZ2h0IjogM30KICAgICAgICAgICAgKS5hZGRUbyhtYXBfZTY3ZGMzNWU5MTkyNGRhMWJjNDRjOTJiNjlkNTIxOTkpOwogICAgICAgIAogICAgCiAgICAgICAgdmFyIHBvcHVwXzY0NThiMWQzZGQ3ZjQ3MmQ4MWJhMzJjMzcxZWI4OGNlID0gTC5wb3B1cCh7Im1heFdpZHRoIjogIjEwMCUifSk7CgogICAgICAgIAogICAgICAgICAgICB2YXIgaHRtbF8yYWRjNzgyNThlOTQ0YTYyOGJmM2U3Mzg5Njk0MjJjOCA9ICQoYDxkaXYgaWQ9Imh0bWxfMmFkYzc4MjU4ZTk0NGE2MjhiZjNlNzM4OTY5NDIyYzgiIHN0eWxlPSJ3aWR0aDogMTAwLjAlOyBoZWlnaHQ6IDEwMC4wJTsiPmJsdWU8L2Rpdj5gKVswXTsKICAgICAgICAgICAgcG9wdXBfNjQ1OGIxZDNkZDdmNDcyZDgxYmEzMmMzNzFlYjg4Y2Uuc2V0Q29udGVudChodG1sXzJhZGM3ODI1OGU5NDRhNjI4YmYzZTczODk2OTQyMmM4KTsKICAgICAgICAKCiAgICAgICAgY2lyY2xlX21hcmtlcl8wNWM3NGIzMWUzNGI0NjY3OGY2ZDY4YTZlNTRmMWEzYS5iaW5kUG9wdXAocG9wdXBfNjQ1OGIxZDNkZDdmNDcyZDgxYmEzMmMzNzFlYjg4Y2UpCiAgICAgICAgOwoKICAgICAgICAKICAgIAogICAgCiAgICAgICAgICAgIHZhciBjaXJjbGVfbWFya2VyXzIwMWM5ZGY3YjZjNTRhYmZiNzQ5YTUyYmRjNGVhZmJmID0gTC5jaXJjbGVNYXJrZXIoCiAgICAgICAgICAgICAgICBbMzcuODY4NzUzOTk5OTk5OTk2LCAtMTIyLjI1NTE4ODk5OTk5OTk5XSwKICAgICAgICAgICAgICAgIHsiYnViYmxpbmdNb3VzZUV2ZW50cyI6IHRydWUsICJjb2xvciI6ICIjMzM4OGZmIiwgImRhc2hBcnJheSI6IG51bGwsICJkYXNoT2Zmc2V0IjogbnVsbCwgImZpbGwiOiB0cnVlLCAiZmlsbENvbG9yIjogImJsdWUiLCAiZmlsbE9wYWNpdHkiOiAxLCAiZmlsbFJ1bGUiOiAiZXZlbm9kZCIsICJsaW5lQ2FwIjogInJvdW5kIiwgImxpbmVKb2luIjogInJvdW5kIiwgIm9wYWNpdHkiOiAxLjAsICJyYWRpdXMiOiA1LCAic3Ryb2tlIjogdHJ1ZSwgIndlaWdodCI6IDN9CiAgICAgICAgICAgICkuYWRkVG8obWFwX2U2N2RjMzVlOTE5MjRkYTFiYzQ0YzkyYjY5ZDUyMTk5KTsKICAgICAgICAKICAgIAogICAgICAgIHZhciBwb3B1cF8wZDcwNjZlYzUxOTQ0MDYzODNjM2FmYTIxNGJkM2JjOSA9IEwucG9wdXAoeyJtYXhXaWR0aCI6ICIxMDAlIn0pOwoKICAgICAgICAKICAgICAgICAgICAgdmFyIGh0bWxfZTM3ZWMwNTA4ODYxNGZlMmE4Y2JmNGJkMmY3Mzg3ODYgPSAkKGA8ZGl2IGlkPSJodG1sX2UzN2VjMDUwODg2MTRmZTJhOGNiZjRiZDJmNzM4Nzg2IiBzdHlsZT0id2lkdGg6IDEwMC4wJTsgaGVpZ2h0OiAxMDAuMCU7Ij5ibHVlPC9kaXY+YClbMF07CiAgICAgICAgICAgIHBvcHVwXzBkNzA2NmVjNTE5NDQwNjM4M2MzYWZhMjE0YmQzYmM5LnNldENvbnRlbnQoaHRtbF9lMzdlYzA1MDg4NjE0ZmUyYThjYmY0YmQyZjczODc4Nik7CiAgICAgICAgCgogICAgICAgIGNpcmNsZV9tYXJrZXJfMjAxYzlkZjdiNmM1NGFiZmI3NDlhNTJiZGM0ZWFmYmYuYmluZFBvcHVwKHBvcHVwXzBkNzA2NmVjNTE5NDQwNjM4M2MzYWZhMjE0YmQzYmM5KQogICAgICAgIDsKCiAgICAgICAgCiAgICAKICAgIAogICAgICAgICAgICB2YXIgY2lyY2xlX21hcmtlcl9mOTE4Mjk5MGRkNDc0ZmMxODhjMDIyMTc2YmQ2YTM3YSA9IEwuY2lyY2xlTWFya2VyKAogICAgICAgICAgICAgICAgWzM3Ljg2NjMzNiwgLTEyMi4yNTY2NjI5OTk5OTk5OV0sCiAgICAgICAgICAgICAgICB7ImJ1YmJsaW5nTW91c2VFdmVudHMiOiB0cnVlLCAiY29sb3IiOiAiIzMzODhmZiIsICJkYXNoQXJyYXkiOiBudWxsLCAiZGFzaE9mZnNldCI6IG51bGwsICJmaWxsIjogdHJ1ZSwgImZpbGxDb2xvciI6ICJibHVlIiwgImZpbGxPcGFjaXR5IjogMSwgImZpbGxSdWxlIjogImV2ZW5vZGQiLCAibGluZUNhcCI6ICJyb3VuZCIsICJsaW5lSm9pbiI6ICJyb3VuZCIsICJvcGFjaXR5IjogMS4wLCAicmFkaXVzIjogNSwgInN0cm9rZSI6IHRydWUsICJ3ZWlnaHQiOiAzfQogICAgICAgICAgICApLmFkZFRvKG1hcF9lNjdkYzM1ZTkxOTI0ZGExYmM0NGM5MmI2OWQ1MjE5OSk7CiAgICAgICAgCiAgICAKICAgICAgICB2YXIgcG9wdXBfNTI1ZjZjNGQ0OTZkNGI1ZTk4Y2NlYTRjZThjNDllZTkgPSBMLnBvcHVwKHsibWF4V2lkdGgiOiAiMTAwJSJ9KTsKCiAgICAgICAgCiAgICAgICAgICAgIHZhciBodG1sX2FiY2M5NzU2ZWYzMjQ5MDhiODExNjRhNWE3NWYzYWViID0gJChgPGRpdiBpZD0iaHRtbF9hYmNjOTc1NmVmMzI0OTA4YjgxMTY0YTVhNzVmM2FlYiIgc3R5bGU9IndpZHRoOiAxMDAuMCU7IGhlaWdodDogMTAwLjAlOyI+Ymx1ZTwvZGl2PmApWzBdOwogICAgICAgICAgICBwb3B1cF81MjVmNmM0ZDQ5NmQ0YjVlOThjY2VhNGNlOGM0OWVlOS5zZXRDb250ZW50KGh0bWxfYWJjYzk3NTZlZjMyNDkwOGI4MTE2NGE1YTc1ZjNhZWIpOwogICAgICAgIAoKICAgICAgICBjaXJjbGVfbWFya2VyX2Y5MTgyOTkwZGQ0NzRmYzE4OGMwMjIxNzZiZDZhMzdhLmJpbmRQb3B1cChwb3B1cF81MjVmNmM0ZDQ5NmQ0YjVlOThjY2VhNGNlOGM0OWVlOSkKICAgICAgICA7CgogICAgICAgIAogICAgCiAgICAKICAgICAgICAgICAgdmFyIGNpcmNsZV9tYXJrZXJfOTIzY2NjOTFmNjQxNGZmMGI5YzMxZDZlZTNkNTc3OTIgPSBMLmNpcmNsZU1hcmtlcigKICAgICAgICAgICAgICAgIFszNy44NjYwMzcsIC0xMjIuMjYxNTQxOTk5OTk5OTldLAogICAgICAgICAgICAgICAgeyJidWJibGluZ01vdXNlRXZlbnRzIjogdHJ1ZSwgImNvbG9yIjogIiMzMzg4ZmYiLCAiZGFzaEFycmF5IjogbnVsbCwgImRhc2hPZmZzZXQiOiBudWxsLCAiZmlsbCI6IHRydWUsICJmaWxsQ29sb3IiOiAiYmx1ZSIsICJmaWxsT3BhY2l0eSI6IDEsICJmaWxsUnVsZSI6ICJldmVub2RkIiwgImxpbmVDYXAiOiAicm91bmQiLCAibGluZUpvaW4iOiAicm91bmQiLCAib3BhY2l0eSI6IDEuMCwgInJhZGl1cyI6IDUsICJzdHJva2UiOiB0cnVlLCAid2VpZ2h0IjogM30KICAgICAgICAgICAgKS5hZGRUbyhtYXBfZTY3ZGMzNWU5MTkyNGRhMWJjNDRjOTJiNjlkNTIxOTkpOwogICAgICAgIAogICAgCiAgICAgICAgdmFyIHBvcHVwXzEzMjA5OGU5NTBiMTQ2Mzg4MmU5MmU3ZjUyN2VjYjBkID0gTC5wb3B1cCh7Im1heFdpZHRoIjogIjEwMCUifSk7CgogICAgICAgIAogICAgICAgICAgICB2YXIgaHRtbF9iNzFhZGRlYzhkOTA0ZTA1YmQ2MjFiZjZiNzY3ZGM2YyA9ICQoYDxkaXYgaWQ9Imh0bWxfYjcxYWRkZWM4ZDkwNGUwNWJkNjIxYmY2Yjc2N2RjNmMiIHN0eWxlPSJ3aWR0aDogMTAwLjAlOyBoZWlnaHQ6IDEwMC4wJTsiPmJsdWU8L2Rpdj5gKVswXTsKICAgICAgICAgICAgcG9wdXBfMTMyMDk4ZTk1MGIxNDYzODgyZTkyZTdmNTI3ZWNiMGQuc2V0Q29udGVudChodG1sX2I3MWFkZGVjOGQ5MDRlMDViZDYyMWJmNmI3NjdkYzZjKTsKICAgICAgICAKCiAgICAgICAgY2lyY2xlX21hcmtlcl85MjNjY2M5MWY2NDE0ZmYwYjljMzFkNmVlM2Q1Nzc5Mi5iaW5kUG9wdXAocG9wdXBfMTMyMDk4ZTk1MGIxNDYzODgyZTkyZTdmNTI3ZWNiMGQpCiAgICAgICAgOwoKICAgICAgICAKICAgIAogICAgCiAgICAgICAgICAgIHZhciBjaXJjbGVfbWFya2VyXzVjOTNhOWMxZTY5ODRmMWI4YjA2MjMwOGNmMzBhMGU1ID0gTC5jaXJjbGVNYXJrZXIoCiAgICAgICAgICAgICAgICBbMzcuODgxMjYxLCAtMTIyLjI2NTM5OV0sCiAgICAgICAgICAgICAgICB7ImJ1YmJsaW5nTW91c2VFdmVudHMiOiB0cnVlLCAiY29sb3IiOiAiIzMzODhmZiIsICJkYXNoQXJyYXkiOiBudWxsLCAiZGFzaE9mZnNldCI6IG51bGwsICJmaWxsIjogdHJ1ZSwgImZpbGxDb2xvciI6ICJibHVlIiwgImZpbGxPcGFjaXR5IjogMSwgImZpbGxSdWxlIjogImV2ZW5vZGQiLCAibGluZUNhcCI6ICJyb3VuZCIsICJsaW5lSm9pbiI6ICJyb3VuZCIsICJvcGFjaXR5IjogMS4wLCAicmFkaXVzIjogNSwgInN0cm9rZSI6IHRydWUsICJ3ZWlnaHQiOiAzfQogICAgICAgICAgICApLmFkZFRvKG1hcF9lNjdkYzM1ZTkxOTI0ZGExYmM0NGM5MmI2OWQ1MjE5OSk7CiAgICAgICAgCiAgICAKICAgICAgICB2YXIgcG9wdXBfNDJkYjQzNWUzYjk0NDk2ZmE3NjgzNDliNjEzMTg1MWYgPSBMLnBvcHVwKHsibWF4V2lkdGgiOiAiMTAwJSJ9KTsKCiAgICAgICAgCiAgICAgICAgICAgIHZhciBodG1sX2UwODdlMTc5ZTgyODQ2MWViMDBmNjE3NDQyMzdjNmJiID0gJChgPGRpdiBpZD0iaHRtbF9lMDg3ZTE3OWU4Mjg0NjFlYjAwZjYxNzQ0MjM3YzZiYiIgc3R5bGU9IndpZHRoOiAxMDAuMCU7IGhlaWdodDogMTAwLjAlOyI+Ymx1ZTwvZGl2PmApWzBdOwogICAgICAgICAgICBwb3B1cF80MmRiNDM1ZTNiOTQ0OTZmYTc2ODM0OWI2MTMxODUxZi5zZXRDb250ZW50KGh0bWxfZTA4N2UxNzllODI4NDYxZWIwMGY2MTc0NDIzN2M2YmIpOwogICAgICAgIAoKICAgICAgICBjaXJjbGVfbWFya2VyXzVjOTNhOWMxZTY5ODRmMWI4YjA2MjMwOGNmMzBhMGU1LmJpbmRQb3B1cChwb3B1cF80MmRiNDM1ZTNiOTQ0OTZmYTc2ODM0OWI2MTMxODUxZikKICAgICAgICA7CgogICAgICAgIAogICAgCiAgICAKICAgICAgICAgICAgdmFyIGNpcmNsZV9tYXJrZXJfNmJhOGZhZTc0MTk0NDE0MTkzNDMzMTk0MTNmNmU2ZDAgPSBMLmNpcmNsZU1hcmtlcigKICAgICAgICAgICAgICAgIFszNy44NzM0NCwgLTEyMi4yNDM2NTVdLAogICAgICAgICAgICAgICAgeyJidWJibGluZ01vdXNlRXZlbnRzIjogdHJ1ZSwgImNvbG9yIjogIiMzMzg4ZmYiLCAiZGFzaEFycmF5IjogbnVsbCwgImRhc2hPZmZzZXQiOiBudWxsLCAiZmlsbCI6IHRydWUsICJmaWxsQ29sb3IiOiAiYmx1ZSIsICJmaWxsT3BhY2l0eSI6IDEsICJmaWxsUnVsZSI6ICJldmVub2RkIiwgImxpbmVDYXAiOiAicm91bmQiLCAibGluZUpvaW4iOiAicm91bmQiLCAib3BhY2l0eSI6IDEuMCwgInJhZGl1cyI6IDUsICJzdHJva2UiOiB0cnVlLCAid2VpZ2h0IjogM30KICAgICAgICAgICAgKS5hZGRUbyhtYXBfZTY3ZGMzNWU5MTkyNGRhMWJjNDRjOTJiNjlkNTIxOTkpOwogICAgICAgIAogICAgCiAgICAgICAgdmFyIHBvcHVwX2M3OGVjYTA5N2FmODQwMjhhMmJjNGUxYzJhMjQ2MTFjID0gTC5wb3B1cCh7Im1heFdpZHRoIjogIjEwMCUifSk7CgogICAgICAgIAogICAgICAgICAgICB2YXIgaHRtbF8zMTg2ZmRhYTZjYjU0OTdjODE1YzQzYjgyMTk3ZDNkYiA9ICQoYDxkaXYgaWQ9Imh0bWxfMzE4NmZkYWE2Y2I1NDk3YzgxNWM0M2I4MjE5N2QzZGIiIHN0eWxlPSJ3aWR0aDogMTAwLjAlOyBoZWlnaHQ6IDEwMC4wJTsiPmJsdWU8L2Rpdj5gKVswXTsKICAgICAgICAgICAgcG9wdXBfYzc4ZWNhMDk3YWY4NDAyOGEyYmM0ZTFjMmEyNDYxMWMuc2V0Q29udGVudChodG1sXzMxODZmZGFhNmNiNTQ5N2M4MTVjNDNiODIxOTdkM2RiKTsKICAgICAgICAKCiAgICAgICAgY2lyY2xlX21hcmtlcl82YmE4ZmFlNzQxOTQ0MTQxOTM0MzMxOTQxM2Y2ZTZkMC5iaW5kUG9wdXAocG9wdXBfYzc4ZWNhMDk3YWY4NDAyOGEyYmM0ZTFjMmEyNDYxMWMpCiAgICAgICAgOwoKICAgICAgICAKICAgIAogICAgCiAgICAgICAgICAgIHZhciBjaXJjbGVfbWFya2VyXzZlZTk4ZGYxNGUzODQ0YThhOTM1OWEyYTE4ZWQ3ZDhjID0gTC5jaXJjbGVNYXJrZXIoCiAgICAgICAgICAgICAgICBbMzcuODYzMzA4LCAtMTIyLjI1NTM1NF0sCiAgICAgICAgICAgICAgICB7ImJ1YmJsaW5nTW91c2VFdmVudHMiOiB0cnVlLCAiY29sb3IiOiAiIzMzODhmZiIsICJkYXNoQXJyYXkiOiBudWxsLCAiZGFzaE9mZnNldCI6IG51bGwsICJmaWxsIjogdHJ1ZSwgImZpbGxDb2xvciI6ICJibHVlIiwgImZpbGxPcGFjaXR5IjogMSwgImZpbGxSdWxlIjogImV2ZW5vZGQiLCAibGluZUNhcCI6ICJyb3VuZCIsICJsaW5lSm9pbiI6ICJyb3VuZCIsICJvcGFjaXR5IjogMS4wLCAicmFkaXVzIjogNSwgInN0cm9rZSI6IHRydWUsICJ3ZWlnaHQiOiAzfQogICAgICAgICAgICApLmFkZFRvKG1hcF9lNjdkYzM1ZTkxOTI0ZGExYmM0NGM5MmI2OWQ1MjE5OSk7CiAgICAgICAgCiAgICAKICAgICAgICB2YXIgcG9wdXBfYTUxZjNjMWEyZDY1NDhlNThkMmM3MWMyNTU0YTFmYmEgPSBMLnBvcHVwKHsibWF4V2lkdGgiOiAiMTAwJSJ9KTsKCiAgICAgICAgCiAgICAgICAgICAgIHZhciBodG1sXzBjNmEzOTU3MThiYjRmMTU4OWM1NmVlNmExMjI4MmE4ID0gJChgPGRpdiBpZD0iaHRtbF8wYzZhMzk1NzE4YmI0ZjE1ODljNTZlZTZhMTIyODJhOCIgc3R5bGU9IndpZHRoOiAxMDAuMCU7IGhlaWdodDogMTAwLjAlOyI+Ymx1ZTwvZGl2PmApWzBdOwogICAgICAgICAgICBwb3B1cF9hNTFmM2MxYTJkNjU0OGU1OGQyYzcxYzI1NTRhMWZiYS5zZXRDb250ZW50KGh0bWxfMGM2YTM5NTcxOGJiNGYxNTg5YzU2ZWU2YTEyMjgyYTgpOwogICAgICAgIAoKICAgICAgICBjaXJjbGVfbWFya2VyXzZlZTk4ZGYxNGUzODQ0YThhOTM1OWEyYTE4ZWQ3ZDhjLmJpbmRQb3B1cChwb3B1cF9hNTFmM2MxYTJkNjU0OGU1OGQyYzcxYzI1NTRhMWZiYSkKICAgICAgICA7CgogICAgICAgIAogICAgCiAgICAKICAgICAgICAgICAgdmFyIGNpcmNsZV9tYXJrZXJfMDIxY2MzMDM1YjJkNGM5OGIwZjgxZGNlODg2N2QyZGQgPSBMLmNpcmNsZU1hcmtlcigKICAgICAgICAgICAgICAgIFszNy44NjY4NDksIC0xMjIuMjU0MzE5XSwKICAgICAgICAgICAgICAgIHsiYnViYmxpbmdNb3VzZUV2ZW50cyI6IHRydWUsICJjb2xvciI6ICIjMzM4OGZmIiwgImRhc2hBcnJheSI6IG51bGwsICJkYXNoT2Zmc2V0IjogbnVsbCwgImZpbGwiOiB0cnVlLCAiZmlsbENvbG9yIjogImJsdWUiLCAiZmlsbE9wYWNpdHkiOiAxLCAiZmlsbFJ1bGUiOiAiZXZlbm9kZCIsICJsaW5lQ2FwIjogInJvdW5kIiwgImxpbmVKb2luIjogInJvdW5kIiwgIm9wYWNpdHkiOiAxLjAsICJyYWRpdXMiOiA1LCAic3Ryb2tlIjogdHJ1ZSwgIndlaWdodCI6IDN9CiAgICAgICAgICAgICkuYWRkVG8obWFwX2U2N2RjMzVlOTE5MjRkYTFiYzQ0YzkyYjY5ZDUyMTk5KTsKICAgICAgICAKICAgIAogICAgICAgIHZhciBwb3B1cF9iOGYxYmQyYWRhNzg0NWZhYmUxOGQxY2U4ZDljMWJmYyA9IEwucG9wdXAoeyJtYXhXaWR0aCI6ICIxMDAlIn0pOwoKICAgICAgICAKICAgICAgICAgICAgdmFyIGh0bWxfN2VkY2ZlZjk4N2Y1NGRlYTk0MjU4Y2NiNTI5NjllNDYgPSAkKGA8ZGl2IGlkPSJodG1sXzdlZGNmZWY5ODdmNTRkZWE5NDI1OGNjYjUyOTY5ZTQ2IiBzdHlsZT0id2lkdGg6IDEwMC4wJTsgaGVpZ2h0OiAxMDAuMCU7Ij5ibHVlPC9kaXY+YClbMF07CiAgICAgICAgICAgIHBvcHVwX2I4ZjFiZDJhZGE3ODQ1ZmFiZTE4ZDFjZThkOWMxYmZjLnNldENvbnRlbnQoaHRtbF83ZWRjZmVmOTg3ZjU0ZGVhOTQyNThjY2I1Mjk2OWU0Nik7CiAgICAgICAgCgogICAgICAgIGNpcmNsZV9tYXJrZXJfMDIxY2MzMDM1YjJkNGM5OGIwZjgxZGNlODg2N2QyZGQuYmluZFBvcHVwKHBvcHVwX2I4ZjFiZDJhZGE3ODQ1ZmFiZTE4ZDFjZThkOWMxYmZjKQogICAgICAgIDsKCiAgICAgICAgCiAgICAKICAgIAogICAgICAgICAgICB2YXIgY2lyY2xlX21hcmtlcl9lMjI0ZWNhNGFmZTY0ZjM5YTBkMTc4MTI4NDlmNzYwMSA9IEwuY2lyY2xlTWFya2VyKAogICAgICAgICAgICAgICAgWzM3Ljg2ODg2MiwgLTEyMi4yNTQ3MDcwMDAwMDAwMV0sCiAgICAgICAgICAgICAgICB7ImJ1YmJsaW5nTW91c2VFdmVudHMiOiB0cnVlLCAiY29sb3IiOiAiIzMzODhmZiIsICJkYXNoQXJyYXkiOiBudWxsLCAiZGFzaE9mZnNldCI6IG51bGwsICJmaWxsIjogdHJ1ZSwgImZpbGxDb2xvciI6ICJibHVlIiwgImZpbGxPcGFjaXR5IjogMSwgImZpbGxSdWxlIjogImV2ZW5vZGQiLCAibGluZUNhcCI6ICJyb3VuZCIsICJsaW5lSm9pbiI6ICJyb3VuZCIsICJvcGFjaXR5IjogMS4wLCAicmFkaXVzIjogNSwgInN0cm9rZSI6IHRydWUsICJ3ZWlnaHQiOiAzfQogICAgICAgICAgICApLmFkZFRvKG1hcF9lNjdkYzM1ZTkxOTI0ZGExYmM0NGM5MmI2OWQ1MjE5OSk7CiAgICAgICAgCiAgICAKICAgICAgICB2YXIgcG9wdXBfNTRjNzExYjA3MzhjNGQ4Yjk0MjFhMmZhNDI4YTIxNmUgPSBMLnBvcHVwKHsibWF4V2lkdGgiOiAiMTAwJSJ9KTsKCiAgICAgICAgCiAgICAgICAgICAgIHZhciBodG1sX2FhNDJjZjM0MjNmMjRlMjJiMzZkYjkzMzA2MjkyYjY4ID0gJChgPGRpdiBpZD0iaHRtbF9hYTQyY2YzNDIzZjI0ZTIyYjM2ZGI5MzMwNjI5MmI2OCIgc3R5bGU9IndpZHRoOiAxMDAuMCU7IGhlaWdodDogMTAwLjAlOyI+Ymx1ZTwvZGl2PmApWzBdOwogICAgICAgICAgICBwb3B1cF81NGM3MTFiMDczOGM0ZDhiOTQyMWEyZmE0MjhhMjE2ZS5zZXRDb250ZW50KGh0bWxfYWE0MmNmMzQyM2YyNGUyMmIzNmRiOTMzMDYyOTJiNjgpOwogICAgICAgIAoKICAgICAgICBjaXJjbGVfbWFya2VyX2UyMjRlY2E0YWZlNjRmMzlhMGQxNzgxMjg0OWY3NjAxLmJpbmRQb3B1cChwb3B1cF81NGM3MTFiMDczOGM0ZDhiOTQyMWEyZmE0MjhhMjE2ZSkKICAgICAgICA7CgogICAgICAgIAogICAgCiAgICAKICAgICAgICAgICAgdmFyIGNpcmNsZV9tYXJrZXJfM2NlZTA3ZTNkZDNhNDg2ZGE0YTg3ZDQ0YmJjNmNiZjUgPSBMLmNpcmNsZU1hcmtlcigKICAgICAgICAgICAgICAgIFszNy44NzI4ODMsIC0xMjIuMjU0MjIxXSwKICAgICAgICAgICAgICAgIHsiYnViYmxpbmdNb3VzZUV2ZW50cyI6IHRydWUsICJjb2xvciI6ICIjMzM4OGZmIiwgImRhc2hBcnJheSI6IG51bGwsICJkYXNoT2Zmc2V0IjogbnVsbCwgImZpbGwiOiB0cnVlLCAiZmlsbENvbG9yIjogImJsdWUiLCAiZmlsbE9wYWNpdHkiOiAxLCAiZmlsbFJ1bGUiOiAiZXZlbm9kZCIsICJsaW5lQ2FwIjogInJvdW5kIiwgImxpbmVKb2luIjogInJvdW5kIiwgIm9wYWNpdHkiOiAxLjAsICJyYWRpdXMiOiA1LCAic3Ryb2tlIjogdHJ1ZSwgIndlaWdodCI6IDN9CiAgICAgICAgICAgICkuYWRkVG8obWFwX2U2N2RjMzVlOTE5MjRkYTFiYzQ0YzkyYjY5ZDUyMTk5KTsKICAgICAgICAKICAgIAogICAgICAgIHZhciBwb3B1cF9mYTUyZDRiYzZmNTg0NzdmYTZjNTE2NTFlMzc3MWEwMCA9IEwucG9wdXAoeyJtYXhXaWR0aCI6ICIxMDAlIn0pOwoKICAgICAgICAKICAgICAgICAgICAgdmFyIGh0bWxfZDE3YjkzOTUzNWU2NDkzYWE2YWExY2QwZTVjMzVlOTYgPSAkKGA8ZGl2IGlkPSJodG1sX2QxN2I5Mzk1MzVlNjQ5M2FhNmFhMWNkMGU1YzM1ZTk2IiBzdHlsZT0id2lkdGg6IDEwMC4wJTsgaGVpZ2h0OiAxMDAuMCU7Ij5ibHVlPC9kaXY+YClbMF07CiAgICAgICAgICAgIHBvcHVwX2ZhNTJkNGJjNmY1ODQ3N2ZhNmM1MTY1MWUzNzcxYTAwLnNldENvbnRlbnQoaHRtbF9kMTdiOTM5NTM1ZTY0OTNhYTZhYTFjZDBlNWMzNWU5Nik7CiAgICAgICAgCgogICAgICAgIGNpcmNsZV9tYXJrZXJfM2NlZTA3ZTNkZDNhNDg2ZGE0YTg3ZDQ0YmJjNmNiZjUuYmluZFBvcHVwKHBvcHVwX2ZhNTJkNGJjNmY1ODQ3N2ZhNmM1MTY1MWUzNzcxYTAwKQogICAgICAgIDsKCiAgICAgICAgCiAgICAKICAgIAogICAgICAgICAgICB2YXIgY2lyY2xlX21hcmtlcl8wYWYzYWYyNDM4YTU0YmY1YjQyNjlhNTIzYzAyYTNiNSA9IEwuY2lyY2xlTWFya2VyKAogICAgICAgICAgICAgICAgWzM3Ljg3NDM3LCAtMTIyLjI1NTRdLAogICAgICAgICAgICAgICAgeyJidWJibGluZ01vdXNlRXZlbnRzIjogdHJ1ZSwgImNvbG9yIjogIiMzMzg4ZmYiLCAiZGFzaEFycmF5IjogbnVsbCwgImRhc2hPZmZzZXQiOiBudWxsLCAiZmlsbCI6IHRydWUsICJmaWxsQ29sb3IiOiAiYmx1ZSIsICJmaWxsT3BhY2l0eSI6IDEsICJmaWxsUnVsZSI6ICJldmVub2RkIiwgImxpbmVDYXAiOiAicm91bmQiLCAibGluZUpvaW4iOiAicm91bmQiLCAib3BhY2l0eSI6IDEuMCwgInJhZGl1cyI6IDUsICJzdHJva2UiOiB0cnVlLCAid2VpZ2h0IjogM30KICAgICAgICAgICAgKS5hZGRUbyhtYXBfZTY3ZGMzNWU5MTkyNGRhMWJjNDRjOTJiNjlkNTIxOTkpOwogICAgICAgIAogICAgCiAgICAgICAgdmFyIHBvcHVwXzkxOTdlMGFhMzI2ODRjYzJiMGYxMGRkNzVkMTM4OTEyID0gTC5wb3B1cCh7Im1heFdpZHRoIjogIjEwMCUifSk7CgogICAgICAgIAogICAgICAgICAgICB2YXIgaHRtbF83NWE4Yzg0ZjQ0YTE0OGY2OTgxZWQ2MjRlZDI3OWU1ZiA9ICQoYDxkaXYgaWQ9Imh0bWxfNzVhOGM4NGY0NGExNDhmNjk4MWVkNjI0ZWQyNzllNWYiIHN0eWxlPSJ3aWR0aDogMTAwLjAlOyBoZWlnaHQ6IDEwMC4wJTsiPmJsdWU8L2Rpdj5gKVswXTsKICAgICAgICAgICAgcG9wdXBfOTE5N2UwYWEzMjY4NGNjMmIwZjEwZGQ3NWQxMzg5MTIuc2V0Q29udGVudChodG1sXzc1YThjODRmNDRhMTQ4ZjY5ODFlZDYyNGVkMjc5ZTVmKTsKICAgICAgICAKCiAgICAgICAgY2lyY2xlX21hcmtlcl8wYWYzYWYyNDM4YTU0YmY1YjQyNjlhNTIzYzAyYTNiNS5iaW5kUG9wdXAocG9wdXBfOTE5N2UwYWEzMjY4NGNjMmIwZjEwZGQ3NWQxMzg5MTIpCiAgICAgICAgOwoKICAgICAgICAKICAgIAogICAgCiAgICAgICAgICAgIHZhciBjaXJjbGVfbWFya2VyXzY4MTE0NTFjZjE5NzQ4MzdhYjZkYTVlNzhlZWY2Yjc3ID0gTC5jaXJjbGVNYXJrZXIoCiAgICAgICAgICAgICAgICBbMzcuODc3MzkwMDAwMDAwMDA1LCAtMTIyLjI1ODMxMV0sCiAgICAgICAgICAgICAgICB7ImJ1YmJsaW5nTW91c2VFdmVudHMiOiB0cnVlLCAiY29sb3IiOiAiIzMzODhmZiIsICJkYXNoQXJyYXkiOiBudWxsLCAiZGFzaE9mZnNldCI6IG51bGwsICJmaWxsIjogdHJ1ZSwgImZpbGxDb2xvciI6ICJibHVlIiwgImZpbGxPcGFjaXR5IjogMSwgImZpbGxSdWxlIjogImV2ZW5vZGQiLCAibGluZUNhcCI6ICJyb3VuZCIsICJsaW5lSm9pbiI6ICJyb3VuZCIsICJvcGFjaXR5IjogMS4wLCAicmFkaXVzIjogNSwgInN0cm9rZSI6IHRydWUsICJ3ZWlnaHQiOiAzfQogICAgICAgICAgICApLmFkZFRvKG1hcF9lNjdkYzM1ZTkxOTI0ZGExYmM0NGM5MmI2OWQ1MjE5OSk7CiAgICAgICAgCiAgICAKICAgICAgICB2YXIgcG9wdXBfZmMxNWZhYWNhZDI1NDIyNjg0MmEzNzA5YTY3OTc3MzEgPSBMLnBvcHVwKHsibWF4V2lkdGgiOiAiMTAwJSJ9KTsKCiAgICAgICAgCiAgICAgICAgICAgIHZhciBodG1sXzU2YWRmYTg2YWY0NTQ1MzFiMzg5NmQxZjBiYjIzNGM1ID0gJChgPGRpdiBpZD0iaHRtbF81NmFkZmE4NmFmNDU0NTMxYjM4OTZkMWYwYmIyMzRjNSIgc3R5bGU9IndpZHRoOiAxMDAuMCU7IGhlaWdodDogMTAwLjAlOyI+Ymx1ZTwvZGl2PmApWzBdOwogICAgICAgICAgICBwb3B1cF9mYzE1ZmFhY2FkMjU0MjI2ODQyYTM3MDlhNjc5NzczMS5zZXRDb250ZW50KGh0bWxfNTZhZGZhODZhZjQ1NDUzMWIzODk2ZDFmMGJiMjM0YzUpOwogICAgICAgIAoKICAgICAgICBjaXJjbGVfbWFya2VyXzY4MTE0NTFjZjE5NzQ4MzdhYjZkYTVlNzhlZWY2Yjc3LmJpbmRQb3B1cChwb3B1cF9mYzE1ZmFhY2FkMjU0MjI2ODQyYTM3MDlhNjc5NzczMSkKICAgICAgICA7CgogICAgICAgIAogICAgCiAgICAKICAgICAgICAgICAgdmFyIGNpcmNsZV9tYXJrZXJfZGJiNzA3YTZlMmExNDg2YWJjNWU2NGQyYWM4MmMwNmEgPSBMLmNpcmNsZU1hcmtlcigKICAgICAgICAgICAgICAgIFszNy44NzY4MTUsIC0xMjIuMjY2MDEwMDAwMDAwMDFdLAogICAgICAgICAgICAgICAgeyJidWJibGluZ01vdXNlRXZlbnRzIjogdHJ1ZSwgImNvbG9yIjogIiMzMzg4ZmYiLCAiZGFzaEFycmF5IjogbnVsbCwgImRhc2hPZmZzZXQiOiBudWxsLCAiZmlsbCI6IHRydWUsICJmaWxsQ29sb3IiOiAiYmx1ZSIsICJmaWxsT3BhY2l0eSI6IDEsICJmaWxsUnVsZSI6ICJldmVub2RkIiwgImxpbmVDYXAiOiAicm91bmQiLCAibGluZUpvaW4iOiAicm91bmQiLCAib3BhY2l0eSI6IDEuMCwgInJhZGl1cyI6IDUsICJzdHJva2UiOiB0cnVlLCAid2VpZ2h0IjogM30KICAgICAgICAgICAgKS5hZGRUbyhtYXBfZTY3ZGMzNWU5MTkyNGRhMWJjNDRjOTJiNjlkNTIxOTkpOwogICAgICAgIAogICAgCiAgICAgICAgdmFyIHBvcHVwXzkzNTIwMDJmMzBkNzQ2OTliOTFlMzMwNzJhNmY0Mjg3ID0gTC5wb3B1cCh7Im1heFdpZHRoIjogIjEwMCUifSk7CgogICAgICAgIAogICAgICAgICAgICB2YXIgaHRtbF8zNjA5NTk3NTdhZTU0NWNhODYzMGYzMDNlZDljMWFlMyA9ICQoYDxkaXYgaWQ9Imh0bWxfMzYwOTU5NzU3YWU1NDVjYTg2MzBmMzAzZWQ5YzFhZTMiIHN0eWxlPSJ3aWR0aDogMTAwLjAlOyBoZWlnaHQ6IDEwMC4wJTsiPmJsdWU8L2Rpdj5gKVswXTsKICAgICAgICAgICAgcG9wdXBfOTM1MjAwMmYzMGQ3NDY5OWI5MWUzMzA3MmE2ZjQyODcuc2V0Q29udGVudChodG1sXzM2MDk1OTc1N2FlNTQ1Y2E4NjMwZjMwM2VkOWMxYWUzKTsKICAgICAgICAKCiAgICAgICAgY2lyY2xlX21hcmtlcl9kYmI3MDdhNmUyYTE0ODZhYmM1ZTY0ZDJhYzgyYzA2YS5iaW5kUG9wdXAocG9wdXBfOTM1MjAwMmYzMGQ3NDY5OWI5MWUzMzA3MmE2ZjQyODcpCiAgICAgICAgOwoKICAgICAgICAKICAgIAogICAgCiAgICAgICAgICAgIHZhciBjaXJjbGVfbWFya2VyXzE2YTYwOTk2NGNjOTQ0NWU4ODVmNjhiMzBmNmExOWM2ID0gTC5jaXJjbGVNYXJrZXIoCiAgICAgICAgICAgICAgICBbMzcuODc1MDU0OTk5OTk5OTk2LCAtMTIyLjI2Nzk1ODAwMDAwMDAxXSwKICAgICAgICAgICAgICAgIHsiYnViYmxpbmdNb3VzZUV2ZW50cyI6IHRydWUsICJjb2xvciI6ICIjMzM4OGZmIiwgImRhc2hBcnJheSI6IG51bGwsICJkYXNoT2Zmc2V0IjogbnVsbCwgImZpbGwiOiB0cnVlLCAiZmlsbENvbG9yIjogImJsdWUiLCAiZmlsbE9wYWNpdHkiOiAxLCAiZmlsbFJ1bGUiOiAiZXZlbm9kZCIsICJsaW5lQ2FwIjogInJvdW5kIiwgImxpbmVKb2luIjogInJvdW5kIiwgIm9wYWNpdHkiOiAxLjAsICJyYWRpdXMiOiA1LCAic3Ryb2tlIjogdHJ1ZSwgIndlaWdodCI6IDN9CiAgICAgICAgICAgICkuYWRkVG8obWFwX2U2N2RjMzVlOTE5MjRkYTFiYzQ0YzkyYjY5ZDUyMTk5KTsKICAgICAgICAKICAgIAogICAgICAgIHZhciBwb3B1cF83MjhkNzZjNjNkOWE0MGZhOGIzMTM5Yzc0OTJkN2JlMyA9IEwucG9wdXAoeyJtYXhXaWR0aCI6ICIxMDAlIn0pOwoKICAgICAgICAKICAgICAgICAgICAgdmFyIGh0bWxfYzE5MTEwNmRhYWY2NDg1MzgzOWZlNTM0NmVkOWI3YTQgPSAkKGA8ZGl2IGlkPSJodG1sX2MxOTExMDZkYWFmNjQ4NTM4MzlmZTUzNDZlZDliN2E0IiBzdHlsZT0id2lkdGg6IDEwMC4wJTsgaGVpZ2h0OiAxMDAuMCU7Ij5ibHVlPC9kaXY+YClbMF07CiAgICAgICAgICAgIHBvcHVwXzcyOGQ3NmM2M2Q5YTQwZmE4YjMxMzljNzQ5MmQ3YmUzLnNldENvbnRlbnQoaHRtbF9jMTkxMTA2ZGFhZjY0ODUzODM5ZmU1MzQ2ZWQ5YjdhNCk7CiAgICAgICAgCgogICAgICAgIGNpcmNsZV9tYXJrZXJfMTZhNjA5OTY0Y2M5NDQ1ZTg4NWY2OGIzMGY2YTE5YzYuYmluZFBvcHVwKHBvcHVwXzcyOGQ3NmM2M2Q5YTQwZmE4YjMxMzljNzQ5MmQ3YmUzKQogICAgICAgIDsKCiAgICAgICAgCiAgICAKICAgIAogICAgICAgICAgICB2YXIgY2lyY2xlX21hcmtlcl82ZTlkYjIxY2FmZDk0NTMyOTEwYTQ3MGYyYWViMmMwMSA9IEwuY2lyY2xlTWFya2VyKAogICAgICAgICAgICAgICAgWzM3Ljg3MjYyODAwMDAwMDAwNiwgLTEyMi4yNzA2NTgwMDAwMDAwMV0sCiAgICAgICAgICAgICAgICB7ImJ1YmJsaW5nTW91c2VFdmVudHMiOiB0cnVlLCAiY29sb3IiOiAiIzMzODhmZiIsICJkYXNoQXJyYXkiOiBudWxsLCAiZGFzaE9mZnNldCI6IG51bGwsICJmaWxsIjogdHJ1ZSwgImZpbGxDb2xvciI6ICJibHVlIiwgImZpbGxPcGFjaXR5IjogMSwgImZpbGxSdWxlIjogImV2ZW5vZGQiLCAibGluZUNhcCI6ICJyb3VuZCIsICJsaW5lSm9pbiI6ICJyb3VuZCIsICJvcGFjaXR5IjogMS4wLCAicmFkaXVzIjogNSwgInN0cm9rZSI6IHRydWUsICJ3ZWlnaHQiOiAzfQogICAgICAgICAgICApLmFkZFRvKG1hcF9lNjdkYzM1ZTkxOTI0ZGExYmM0NGM5MmI2OWQ1MjE5OSk7CiAgICAgICAgCiAgICAKICAgICAgICB2YXIgcG9wdXBfMzczNjc0ZjQ2NTYxNDgzN2IzMTJmYWI5ZWVmZTYwZTcgPSBMLnBvcHVwKHsibWF4V2lkdGgiOiAiMTAwJSJ9KTsKCiAgICAgICAgCiAgICAgICAgICAgIHZhciBodG1sX2I5YzRkZWVjMGFmNzQzZjQ5MWQyZmUxOTM3NGMzMWYyID0gJChgPGRpdiBpZD0iaHRtbF9iOWM0ZGVlYzBhZjc0M2Y0OTFkMmZlMTkzNzRjMzFmMiIgc3R5bGU9IndpZHRoOiAxMDAuMCU7IGhlaWdodDogMTAwLjAlOyI+Ymx1ZTwvZGl2PmApWzBdOwogICAgICAgICAgICBwb3B1cF8zNzM2NzRmNDY1NjE0ODM3YjMxMmZhYjllZWZlNjBlNy5zZXRDb250ZW50KGh0bWxfYjljNGRlZWMwYWY3NDNmNDkxZDJmZTE5Mzc0YzMxZjIpOwogICAgICAgIAoKICAgICAgICBjaXJjbGVfbWFya2VyXzZlOWRiMjFjYWZkOTQ1MzI5MTBhNDcwZjJhZWIyYzAxLmJpbmRQb3B1cChwb3B1cF8zNzM2NzRmNDY1NjE0ODM3YjMxMmZhYjllZWZlNjBlNykKICAgICAgICA7CgogICAgICAgIAogICAgCiAgICAKICAgICAgICAgICAgdmFyIGNpcmNsZV9tYXJrZXJfNjI4NzYxY2NhNmRjNDk1Mzk0NmExZTJlNDE0NjgwYTAgPSBMLmNpcmNsZU1hcmtlcigKICAgICAgICAgICAgICAgIFszNy44NjU5NDYsIC0xMjIuMjc3NzEyOTk5OTk5OTldLAogICAgICAgICAgICAgICAgeyJidWJibGluZ01vdXNlRXZlbnRzIjogdHJ1ZSwgImNvbG9yIjogIiMzMzg4ZmYiLCAiZGFzaEFycmF5IjogbnVsbCwgImRhc2hPZmZzZXQiOiBudWxsLCAiZmlsbCI6IHRydWUsICJmaWxsQ29sb3IiOiAiYmx1ZSIsICJmaWxsT3BhY2l0eSI6IDEsICJmaWxsUnVsZSI6ICJldmVub2RkIiwgImxpbmVDYXAiOiAicm91bmQiLCAibGluZUpvaW4iOiAicm91bmQiLCAib3BhY2l0eSI6IDEuMCwgInJhZGl1cyI6IDUsICJzdHJva2UiOiB0cnVlLCAid2VpZ2h0IjogM30KICAgICAgICAgICAgKS5hZGRUbyhtYXBfZTY3ZGMzNWU5MTkyNGRhMWJjNDRjOTJiNjlkNTIxOTkpOwogICAgICAgIAogICAgCiAgICAgICAgdmFyIHBvcHVwX2E4ZjA0MWI5NjRlMjRmYTFiMGY4Y2VhNGVkNWVhNTFhID0gTC5wb3B1cCh7Im1heFdpZHRoIjogIjEwMCUifSk7CgogICAgICAgIAogICAgICAgICAgICB2YXIgaHRtbF8wZWMxYzVhOGRhZTE0OTA2YmZhYzEzNWM1MWJkMWY4MyA9ICQoYDxkaXYgaWQ9Imh0bWxfMGVjMWM1YThkYWUxNDkwNmJmYWMxMzVjNTFiZDFmODMiIHN0eWxlPSJ3aWR0aDogMTAwLjAlOyBoZWlnaHQ6IDEwMC4wJTsiPmJsdWU8L2Rpdj5gKVswXTsKICAgICAgICAgICAgcG9wdXBfYThmMDQxYjk2NGUyNGZhMWIwZjhjZWE0ZWQ1ZWE1MWEuc2V0Q29udGVudChodG1sXzBlYzFjNWE4ZGFlMTQ5MDZiZmFjMTM1YzUxYmQxZjgzKTsKICAgICAgICAKCiAgICAgICAgY2lyY2xlX21hcmtlcl82Mjg3NjFjY2E2ZGM0OTUzOTQ2YTFlMmU0MTQ2ODBhMC5iaW5kUG9wdXAocG9wdXBfYThmMDQxYjk2NGUyNGZhMWIwZjhjZWE0ZWQ1ZWE1MWEpCiAgICAgICAgOwoKICAgICAgICAKICAgIAogICAgCiAgICAgICAgICAgIHZhciBjaXJjbGVfbWFya2VyX2IwNGQyYTQ1NTA3YjQwMjRiZjQyNmNiMzM0OWVlMGY3ID0gTC5jaXJjbGVNYXJrZXIoCiAgICAgICAgICAgICAgICBbMzcuODYxODg0LCAtMTIyLjI3NDQ5Ml0sCiAgICAgICAgICAgICAgICB7ImJ1YmJsaW5nTW91c2VFdmVudHMiOiB0cnVlLCAiY29sb3IiOiAiIzMzODhmZiIsICJkYXNoQXJyYXkiOiBudWxsLCAiZGFzaE9mZnNldCI6IG51bGwsICJmaWxsIjogdHJ1ZSwgImZpbGxDb2xvciI6ICJibHVlIiwgImZpbGxPcGFjaXR5IjogMSwgImZpbGxSdWxlIjogImV2ZW5vZGQiLCAibGluZUNhcCI6ICJyb3VuZCIsICJsaW5lSm9pbiI6ICJyb3VuZCIsICJvcGFjaXR5IjogMS4wLCAicmFkaXVzIjogNSwgInN0cm9rZSI6IHRydWUsICJ3ZWlnaHQiOiAzfQogICAgICAgICAgICApLmFkZFRvKG1hcF9lNjdkYzM1ZTkxOTI0ZGExYmM0NGM5MmI2OWQ1MjE5OSk7CiAgICAgICAgCiAgICAKICAgICAgICB2YXIgcG9wdXBfYTdiNjNmZmUxMzhmNGUyNGJkOTIxMzU1ZTRmZTM1MDYgPSBMLnBvcHVwKHsibWF4V2lkdGgiOiAiMTAwJSJ9KTsKCiAgICAgICAgCiAgICAgICAgICAgIHZhciBodG1sXzM5M2Q0OTZkY2VjMDQwZWRhZjkzY2I4Y2VmZTlhM2Y3ID0gJChgPGRpdiBpZD0iaHRtbF8zOTNkNDk2ZGNlYzA0MGVkYWY5M2NiOGNlZmU5YTNmNyIgc3R5bGU9IndpZHRoOiAxMDAuMCU7IGhlaWdodDogMTAwLjAlOyI+Ymx1ZTwvZGl2PmApWzBdOwogICAgICAgICAgICBwb3B1cF9hN2I2M2ZmZTEzOGY0ZTI0YmQ5MjEzNTVlNGZlMzUwNi5zZXRDb250ZW50KGh0bWxfMzkzZDQ5NmRjZWMwNDBlZGFmOTNjYjhjZWZlOWEzZjcpOwogICAgICAgIAoKICAgICAgICBjaXJjbGVfbWFya2VyX2IwNGQyYTQ1NTA3YjQwMjRiZjQyNmNiMzM0OWVlMGY3LmJpbmRQb3B1cChwb3B1cF9hN2I2M2ZmZTEzOGY0ZTI0YmQ5MjEzNTVlNGZlMzUwNikKICAgICAgICA7CgogICAgICAgIAogICAgCiAgICAKICAgICAgICAgICAgdmFyIGNpcmNsZV9tYXJrZXJfYjg2NzMxYTZlODkyNDcyNGI5NzViYTI4NWEyZDg3YTcgPSBMLmNpcmNsZU1hcmtlcigKICAgICAgICAgICAgICAgIFszNy44NjQ4NTEsIC0xMjIuMjYyODE0OTk5OTk5OTldLAogICAgICAgICAgICAgICAgeyJidWJibGluZ01vdXNlRXZlbnRzIjogdHJ1ZSwgImNvbG9yIjogIiMzMzg4ZmYiLCAiZGFzaEFycmF5IjogbnVsbCwgImRhc2hPZmZzZXQiOiBudWxsLCAiZmlsbCI6IHRydWUsICJmaWxsQ29sb3IiOiAiYmx1ZSIsICJmaWxsT3BhY2l0eSI6IDEsICJmaWxsUnVsZSI6ICJldmVub2RkIiwgImxpbmVDYXAiOiAicm91bmQiLCAibGluZUpvaW4iOiAicm91bmQiLCAib3BhY2l0eSI6IDEuMCwgInJhZGl1cyI6IDUsICJzdHJva2UiOiB0cnVlLCAid2VpZ2h0IjogM30KICAgICAgICAgICAgKS5hZGRUbyhtYXBfZTY3ZGMzNWU5MTkyNGRhMWJjNDRjOTJiNjlkNTIxOTkpOwogICAgICAgIAogICAgCiAgICAgICAgdmFyIHBvcHVwXzdiMmUxM2FjMWE1ZDQyYjg5YTQzNzVhNTExNmNmNGM0ID0gTC5wb3B1cCh7Im1heFdpZHRoIjogIjEwMCUifSk7CgogICAgICAgIAogICAgICAgICAgICB2YXIgaHRtbF8yNWNkZDljZTljNzQ0Y2FkYjI5Y2I2NTg1ZGRlMjczMyA9ICQoYDxkaXYgaWQ9Imh0bWxfMjVjZGQ5Y2U5Yzc0NGNhZGIyOWNiNjU4NWRkZTI3MzMiIHN0eWxlPSJ3aWR0aDogMTAwLjAlOyBoZWlnaHQ6IDEwMC4wJTsiPmJsdWU8L2Rpdj5gKVswXTsKICAgICAgICAgICAgcG9wdXBfN2IyZTEzYWMxYTVkNDJiODlhNDM3NWE1MTE2Y2Y0YzQuc2V0Q29udGVudChodG1sXzI1Y2RkOWNlOWM3NDRjYWRiMjljYjY1ODVkZGUyNzMzKTsKICAgICAgICAKCiAgICAgICAgY2lyY2xlX21hcmtlcl9iODY3MzFhNmU4OTI0NzI0Yjk3NWJhMjg1YTJkODdhNy5iaW5kUG9wdXAocG9wdXBfN2IyZTEzYWMxYTVkNDJiODlhNDM3NWE1MTE2Y2Y0YzQpCiAgICAgICAgOwoKICAgICAgICAKICAgIAogICAgCiAgICAgICAgICAgIHZhciBjaXJjbGVfbWFya2VyXzRiMjA5Y2IwM2Q5NzRjNTU4YWE0MGNiMDJiZWYzNDFkID0gTC5jaXJjbGVNYXJrZXIoCiAgICAgICAgICAgICAgICBbMzcuODgyNTQ1LCAtMTIyLjI2ODA5Mzk5OTk5OTk5XSwKICAgICAgICAgICAgICAgIHsiYnViYmxpbmdNb3VzZUV2ZW50cyI6IHRydWUsICJjb2xvciI6ICIjMzM4OGZmIiwgImRhc2hBcnJheSI6IG51bGwsICJkYXNoT2Zmc2V0IjogbnVsbCwgImZpbGwiOiB0cnVlLCAiZmlsbENvbG9yIjogImJsdWUiLCAiZmlsbE9wYWNpdHkiOiAxLCAiZmlsbFJ1bGUiOiAiZXZlbm9kZCIsICJsaW5lQ2FwIjogInJvdW5kIiwgImxpbmVKb2luIjogInJvdW5kIiwgIm9wYWNpdHkiOiAxLjAsICJyYWRpdXMiOiA1LCAic3Ryb2tlIjogdHJ1ZSwgIndlaWdodCI6IDN9CiAgICAgICAgICAgICkuYWRkVG8obWFwX2U2N2RjMzVlOTE5MjRkYTFiYzQ0YzkyYjY5ZDUyMTk5KTsKICAgICAgICAKICAgIAogICAgICAgIHZhciBwb3B1cF9iMmI3ZDgxNDU4Njk0OWM1OGQxOGEzN2NiMzIwMTI3NiA9IEwucG9wdXAoeyJtYXhXaWR0aCI6ICIxMDAlIn0pOwoKICAgICAgICAKICAgICAgICAgICAgdmFyIGh0bWxfMWM4NzUyMzZmMTQ1NDhlMDk2OWM5YTQ3YmRkNDBkYzkgPSAkKGA8ZGl2IGlkPSJodG1sXzFjODc1MjM2ZjE0NTQ4ZTA5NjljOWE0N2JkZDQwZGM5IiBzdHlsZT0id2lkdGg6IDEwMC4wJTsgaGVpZ2h0OiAxMDAuMCU7Ij5ibHVlPC9kaXY+YClbMF07CiAgICAgICAgICAgIHBvcHVwX2IyYjdkODE0NTg2OTQ5YzU4ZDE4YTM3Y2IzMjAxMjc2LnNldENvbnRlbnQoaHRtbF8xYzg3NTIzNmYxNDU0OGUwOTY5YzlhNDdiZGQ0MGRjOSk7CiAgICAgICAgCgogICAgICAgIGNpcmNsZV9tYXJrZXJfNGIyMDljYjAzZDk3NGM1NThhYTQwY2IwMmJlZjM0MWQuYmluZFBvcHVwKHBvcHVwX2IyYjdkODE0NTg2OTQ5YzU4ZDE4YTM3Y2IzMjAxMjc2KQogICAgICAgIDsKCiAgICAgICAgCiAgICAKICAgIAogICAgICAgICAgICB2YXIgY2lyY2xlX21hcmtlcl9mNWUxYzE0ZWNiMGM0OTg5OTM5MzA4YzdkMDNkODEzOSA9IEwuY2lyY2xlTWFya2VyKAogICAgICAgICAgICAgICAgWzM3Ljg3NjExOCwgLTEyMi4yODIyNzcwMDAwMDAwMV0sCiAgICAgICAgICAgICAgICB7ImJ1YmJsaW5nTW91c2VFdmVudHMiOiB0cnVlLCAiY29sb3IiOiAiIzMzODhmZiIsICJkYXNoQXJyYXkiOiBudWxsLCAiZGFzaE9mZnNldCI6IG51bGwsICJmaWxsIjogdHJ1ZSwgImZpbGxDb2xvciI6ICJibHVlIiwgImZpbGxPcGFjaXR5IjogMSwgImZpbGxSdWxlIjogImV2ZW5vZGQiLCAibGluZUNhcCI6ICJyb3VuZCIsICJsaW5lSm9pbiI6ICJyb3VuZCIsICJvcGFjaXR5IjogMS4wLCAicmFkaXVzIjogNSwgInN0cm9rZSI6IHRydWUsICJ3ZWlnaHQiOiAzfQogICAgICAgICAgICApLmFkZFRvKG1hcF9lNjdkYzM1ZTkxOTI0ZGExYmM0NGM5MmI2OWQ1MjE5OSk7CiAgICAgICAgCiAgICAKICAgICAgICB2YXIgcG9wdXBfMzk1OTc4MThmYWVkNDdhMTk3NzVlYjYzMTM3NzZiYjUgPSBMLnBvcHVwKHsibWF4V2lkdGgiOiAiMTAwJSJ9KTsKCiAgICAgICAgCiAgICAgICAgICAgIHZhciBodG1sX2JjNzQyMjc5ZjVlMTRiNmY4YzI2MjdjNzY1ZTZmODE2ID0gJChgPGRpdiBpZD0iaHRtbF9iYzc0MjI3OWY1ZTE0YjZmOGMyNjI3Yzc2NWU2ZjgxNiIgc3R5bGU9IndpZHRoOiAxMDAuMCU7IGhlaWdodDogMTAwLjAlOyI+Ymx1ZTwvZGl2PmApWzBdOwogICAgICAgICAgICBwb3B1cF8zOTU5NzgxOGZhZWQ0N2ExOTc3NWViNjMxMzc3NmJiNS5zZXRDb250ZW50KGh0bWxfYmM3NDIyNzlmNWUxNGI2ZjhjMjYyN2M3NjVlNmY4MTYpOwogICAgICAgIAoKICAgICAgICBjaXJjbGVfbWFya2VyX2Y1ZTFjMTRlY2IwYzQ5ODk5MzkzMDhjN2QwM2Q4MTM5LmJpbmRQb3B1cChwb3B1cF8zOTU5NzgxOGZhZWQ0N2ExOTc3NWViNjMxMzc3NmJiNSkKICAgICAgICA7CgogICAgICAgIAogICAgCiAgICAKICAgICAgICAgICAgdmFyIGNpcmNsZV9tYXJrZXJfMzBiZTVmZDgxNTQ0NDBjOWJjNzY4YTllMGU1NjRhZmMgPSBMLmNpcmNsZU1hcmtlcigKICAgICAgICAgICAgICAgIFszNy44Njg0ODkwMDAwMDAwMDQsIC0xMjIuMjcyNDc5XSwKICAgICAgICAgICAgICAgIHsiYnViYmxpbmdNb3VzZUV2ZW50cyI6IHRydWUsICJjb2xvciI6ICIjMzM4OGZmIiwgImRhc2hBcnJheSI6IG51bGwsICJkYXNoT2Zmc2V0IjogbnVsbCwgImZpbGwiOiB0cnVlLCAiZmlsbENvbG9yIjogImJsdWUiLCAiZmlsbE9wYWNpdHkiOiAxLCAiZmlsbFJ1bGUiOiAiZXZlbm9kZCIsICJsaW5lQ2FwIjogInJvdW5kIiwgImxpbmVKb2luIjogInJvdW5kIiwgIm9wYWNpdHkiOiAxLjAsICJyYWRpdXMiOiA1LCAic3Ryb2tlIjogdHJ1ZSwgIndlaWdodCI6IDN9CiAgICAgICAgICAgICkuYWRkVG8obWFwX2U2N2RjMzVlOTE5MjRkYTFiYzQ0YzkyYjY5ZDUyMTk5KTsKICAgICAgICAKICAgIAogICAgICAgIHZhciBwb3B1cF8zY2ZjMjFjZTdiZDk0NDQ0YjZiNTMwMDQ1MzdlMzdjZSA9IEwucG9wdXAoeyJtYXhXaWR0aCI6ICIxMDAlIn0pOwoKICAgICAgICAKICAgICAgICAgICAgdmFyIGh0bWxfOThlNGQ0ZGYyZTg1NDQxNWIwMGM1OTY0OTQ1MTMyMzEgPSAkKGA8ZGl2IGlkPSJodG1sXzk4ZTRkNGRmMmU4NTQ0MTViMDBjNTk2NDk0NTEzMjMxIiBzdHlsZT0id2lkdGg6IDEwMC4wJTsgaGVpZ2h0OiAxMDAuMCU7Ij5ibHVlPC9kaXY+YClbMF07CiAgICAgICAgICAgIHBvcHVwXzNjZmMyMWNlN2JkOTQ0NDRiNmI1MzAwNDUzN2UzN2NlLnNldENvbnRlbnQoaHRtbF85OGU0ZDRkZjJlODU0NDE1YjAwYzU5NjQ5NDUxMzIzMSk7CiAgICAgICAgCgogICAgICAgIGNpcmNsZV9tYXJrZXJfMzBiZTVmZDgxNTQ0NDBjOWJjNzY4YTllMGU1NjRhZmMuYmluZFBvcHVwKHBvcHVwXzNjZmMyMWNlN2JkOTQ0NDRiNmI1MzAwNDUzN2UzN2NlKQogICAgICAgIDsKCiAgICAgICAgCiAgICAKICAgIAogICAgICAgICAgICB2YXIgY2lyY2xlX21hcmtlcl8yODI3Yzk1ZjBiNjk0Y2ZjOWFkMjdkZGZlNTExY2VkZCA9IEwuY2lyY2xlTWFya2VyKAogICAgICAgICAgICAgICAgWzM3Ljg2NDYwNCwgLTEyMi4yNTAwMTldLAogICAgICAgICAgICAgICAgeyJidWJibGluZ01vdXNlRXZlbnRzIjogdHJ1ZSwgImNvbG9yIjogIiMzMzg4ZmYiLCAiZGFzaEFycmF5IjogbnVsbCwgImRhc2hPZmZzZXQiOiBudWxsLCAiZmlsbCI6IHRydWUsICJmaWxsQ29sb3IiOiAiYmx1ZSIsICJmaWxsT3BhY2l0eSI6IDEsICJmaWxsUnVsZSI6ICJldmVub2RkIiwgImxpbmVDYXAiOiAicm91bmQiLCAibGluZUpvaW4iOiAicm91bmQiLCAib3BhY2l0eSI6IDEuMCwgInJhZGl1cyI6IDUsICJzdHJva2UiOiB0cnVlLCAid2VpZ2h0IjogM30KICAgICAgICAgICAgKS5hZGRUbyhtYXBfZTY3ZGMzNWU5MTkyNGRhMWJjNDRjOTJiNjlkNTIxOTkpOwogICAgICAgIAogICAgCiAgICAgICAgdmFyIHBvcHVwXzk3ZGUxYWEzZGFhZDRiNjlhOTdiM2NmOTUwMDA0ZjJhID0gTC5wb3B1cCh7Im1heFdpZHRoIjogIjEwMCUifSk7CgogICAgICAgIAogICAgICAgICAgICB2YXIgaHRtbF83NjRjYzBhNTkwNzU0ZTE5ODgwZmMzODQwMzVkZTAwMCA9ICQoYDxkaXYgaWQ9Imh0bWxfNzY0Y2MwYTU5MDc1NGUxOTg4MGZjMzg0MDM1ZGUwMDAiIHN0eWxlPSJ3aWR0aDogMTAwLjAlOyBoZWlnaHQ6IDEwMC4wJTsiPmJsdWU8L2Rpdj5gKVswXTsKICAgICAgICAgICAgcG9wdXBfOTdkZTFhYTNkYWFkNGI2OWE5N2IzY2Y5NTAwMDRmMmEuc2V0Q29udGVudChodG1sXzc2NGNjMGE1OTA3NTRlMTk4ODBmYzM4NDAzNWRlMDAwKTsKICAgICAgICAKCiAgICAgICAgY2lyY2xlX21hcmtlcl8yODI3Yzk1ZjBiNjk0Y2ZjOWFkMjdkZGZlNTExY2VkZC5iaW5kUG9wdXAocG9wdXBfOTdkZTFhYTNkYWFkNGI2OWE5N2IzY2Y5NTAwMDRmMmEpCiAgICAgICAgOwoKICAgICAgICAKICAgIAogICAgCiAgICAgICAgICAgIHZhciBjaXJjbGVfbWFya2VyXzljMDdlY2I3MzA4OTQ2YTI5YjY2YzdlYTkwOWI1ODk1ID0gTC5jaXJjbGVNYXJrZXIoCiAgICAgICAgICAgICAgICBbMzcuODYzODEsIC0xMjIuMjQ4NTIxXSwKICAgICAgICAgICAgICAgIHsiYnViYmxpbmdNb3VzZUV2ZW50cyI6IHRydWUsICJjb2xvciI6ICIjMzM4OGZmIiwgImRhc2hBcnJheSI6IG51bGwsICJkYXNoT2Zmc2V0IjogbnVsbCwgImZpbGwiOiB0cnVlLCAiZmlsbENvbG9yIjogImJsdWUiLCAiZmlsbE9wYWNpdHkiOiAxLCAiZmlsbFJ1bGUiOiAiZXZlbm9kZCIsICJsaW5lQ2FwIjogInJvdW5kIiwgImxpbmVKb2luIjogInJvdW5kIiwgIm9wYWNpdHkiOiAxLjAsICJyYWRpdXMiOiA1LCAic3Ryb2tlIjogdHJ1ZSwgIndlaWdodCI6IDN9CiAgICAgICAgICAgICkuYWRkVG8obWFwX2U2N2RjMzVlOTE5MjRkYTFiYzQ0YzkyYjY5ZDUyMTk5KTsKICAgICAgICAKICAgIAogICAgICAgIHZhciBwb3B1cF9mNzAxZWM5Y2YzNDA0ZDhkOTg4ZTg1OTk1M2VmOTNjOSA9IEwucG9wdXAoeyJtYXhXaWR0aCI6ICIxMDAlIn0pOwoKICAgICAgICAKICAgICAgICAgICAgdmFyIGh0bWxfZTZlYjVmOTBlZjZiNDBkNDkzNDc2MGUzMWYxMTEwMDggPSAkKGA8ZGl2IGlkPSJodG1sX2U2ZWI1ZjkwZWY2YjQwZDQ5MzQ3NjBlMzFmMTExMDA4IiBzdHlsZT0id2lkdGg6IDEwMC4wJTsgaGVpZ2h0OiAxMDAuMCU7Ij5ibHVlPC9kaXY+YClbMF07CiAgICAgICAgICAgIHBvcHVwX2Y3MDFlYzljZjM0MDRkOGQ5ODhlODU5OTUzZWY5M2M5LnNldENvbnRlbnQoaHRtbF9lNmViNWY5MGVmNmI0MGQ0OTM0NzYwZTMxZjExMTAwOCk7CiAgICAgICAgCgogICAgICAgIGNpcmNsZV9tYXJrZXJfOWMwN2VjYjczMDg5NDZhMjliNjZjN2VhOTA5YjU4OTUuYmluZFBvcHVwKHBvcHVwX2Y3MDFlYzljZjM0MDRkOGQ5ODhlODU5OTUzZWY5M2M5KQogICAgICAgIDsKCiAgICAgICAgCiAgICAKICAgIAogICAgICAgICAgICB2YXIgY2lyY2xlX21hcmtlcl8yNjExODFhNmYzMzA0ZmJhOTkzNzg3ZmMzYzA1YzY3YSA9IEwuY2lyY2xlTWFya2VyKAogICAgICAgICAgICAgICAgWzM3Ljg2NzY1OSwgLTEyMi4yNTAzMTAwMDAwMDAwMV0sCiAgICAgICAgICAgICAgICB7ImJ1YmJsaW5nTW91c2VFdmVudHMiOiB0cnVlLCAiY29sb3IiOiAiIzMzODhmZiIsICJkYXNoQXJyYXkiOiBudWxsLCAiZGFzaE9mZnNldCI6IG51bGwsICJmaWxsIjogdHJ1ZSwgImZpbGxDb2xvciI6ICJibHVlIiwgImZpbGxPcGFjaXR5IjogMSwgImZpbGxSdWxlIjogImV2ZW5vZGQiLCAibGluZUNhcCI6ICJyb3VuZCIsICJsaW5lSm9pbiI6ICJyb3VuZCIsICJvcGFjaXR5IjogMS4wLCAicmFkaXVzIjogNSwgInN0cm9rZSI6IHRydWUsICJ3ZWlnaHQiOiAzfQogICAgICAgICAgICApLmFkZFRvKG1hcF9lNjdkYzM1ZTkxOTI0ZGExYmM0NGM5MmI2OWQ1MjE5OSk7CiAgICAgICAgCiAgICAKICAgICAgICB2YXIgcG9wdXBfNDExODY0YTQ4YzQ5NDgzNGE2ZDdmYjY1YzQwMDRiOTUgPSBMLnBvcHVwKHsibWF4V2lkdGgiOiAiMTAwJSJ9KTsKCiAgICAgICAgCiAgICAgICAgICAgIHZhciBodG1sX2Y3OGNhZGRhZWM3ZjRmNmNhNjUwYTNjYWRjOGQ1ZjA1ID0gJChgPGRpdiBpZD0iaHRtbF9mNzhjYWRkYWVjN2Y0ZjZjYTY1MGEzY2FkYzhkNWYwNSIgc3R5bGU9IndpZHRoOiAxMDAuMCU7IGhlaWdodDogMTAwLjAlOyI+Ymx1ZTwvZGl2PmApWzBdOwogICAgICAgICAgICBwb3B1cF80MTE4NjRhNDhjNDk0ODM0YTZkN2ZiNjVjNDAwNGI5NS5zZXRDb250ZW50KGh0bWxfZjc4Y2FkZGFlYzdmNGY2Y2E2NTBhM2NhZGM4ZDVmMDUpOwogICAgICAgIAoKICAgICAgICBjaXJjbGVfbWFya2VyXzI2MTE4MWE2ZjMzMDRmYmE5OTM3ODdmYzNjMDVjNjdhLmJpbmRQb3B1cChwb3B1cF80MTE4NjRhNDhjNDk0ODM0YTZkN2ZiNjVjNDAwNGI5NSkKICAgICAgICA7CgogICAgICAgIAogICAgCiAgICAKICAgICAgICAgICAgdmFyIGNpcmNsZV9tYXJrZXJfYmMwNjM3NjE5YmEyNGQzM2EwNTY3NGRjZGFhODcwMTggPSBMLmNpcmNsZU1hcmtlcigKICAgICAgICAgICAgICAgIFszNy44NTYzMDMwMDAwMDAwMDQsIC0xMjIuMjU5NDM3XSwKICAgICAgICAgICAgICAgIHsiYnViYmxpbmdNb3VzZUV2ZW50cyI6IHRydWUsICJjb2xvciI6ICIjMzM4OGZmIiwgImRhc2hBcnJheSI6IG51bGwsICJkYXNoT2Zmc2V0IjogbnVsbCwgImZpbGwiOiB0cnVlLCAiZmlsbENvbG9yIjogImJsdWUiLCAiZmlsbE9wYWNpdHkiOiAxLCAiZmlsbFJ1bGUiOiAiZXZlbm9kZCIsICJsaW5lQ2FwIjogInJvdW5kIiwgImxpbmVKb2luIjogInJvdW5kIiwgIm9wYWNpdHkiOiAxLjAsICJyYWRpdXMiOiA1LCAic3Ryb2tlIjogdHJ1ZSwgIndlaWdodCI6IDN9CiAgICAgICAgICAgICkuYWRkVG8obWFwX2U2N2RjMzVlOTE5MjRkYTFiYzQ0YzkyYjY5ZDUyMTk5KTsKICAgICAgICAKICAgIAogICAgICAgIHZhciBwb3B1cF8yNDcwMmFlZWQ1ODQ0NDA5YmUxYTgxNzFmZDg3ZTk2OSA9IEwucG9wdXAoeyJtYXhXaWR0aCI6ICIxMDAlIn0pOwoKICAgICAgICAKICAgICAgICAgICAgdmFyIGh0bWxfOTAwNWUyNjczYzRmNGE4NzkyMTZjM2Y5MDc0YTQzNjcgPSAkKGA8ZGl2IGlkPSJodG1sXzkwMDVlMjY3M2M0ZjRhODc5MjE2YzNmOTA3NGE0MzY3IiBzdHlsZT0id2lkdGg6IDEwMC4wJTsgaGVpZ2h0OiAxMDAuMCU7Ij5ibHVlPC9kaXY+YClbMF07CiAgICAgICAgICAgIHBvcHVwXzI0NzAyYWVlZDU4NDQ0MDliZTFhODE3MWZkODdlOTY5LnNldENvbnRlbnQoaHRtbF85MDA1ZTI2NzNjNGY0YTg3OTIxNmMzZjkwNzRhNDM2Nyk7CiAgICAgICAgCgogICAgICAgIGNpcmNsZV9tYXJrZXJfYmMwNjM3NjE5YmEyNGQzM2EwNTY3NGRjZGFhODcwMTguYmluZFBvcHVwKHBvcHVwXzI0NzAyYWVlZDU4NDQ0MDliZTFhODE3MWZkODdlOTY5KQogICAgICAgIDsKCiAgICAgICAgCiAgICAKICAgIAogICAgICAgICAgICB2YXIgY2lyY2xlX21hcmtlcl9iOTBhOGFkMzc3ZmY0ZWI5YjhlY2EwZjE2ZjJhNmMxYiA9IEwuY2lyY2xlTWFya2VyKAogICAgICAgICAgICAgICAgWzM3Ljg2MTEwNzAwMDAwMDAwNCwgLTEyMi4yNjIxNDM5OTk5OTk5OV0sCiAgICAgICAgICAgICAgICB7ImJ1YmJsaW5nTW91c2VFdmVudHMiOiB0cnVlLCAiY29sb3IiOiAiIzMzODhmZiIsICJkYXNoQXJyYXkiOiBudWxsLCAiZGFzaE9mZnNldCI6IG51bGwsICJmaWxsIjogdHJ1ZSwgImZpbGxDb2xvciI6ICJibHVlIiwgImZpbGxPcGFjaXR5IjogMSwgImZpbGxSdWxlIjogImV2ZW5vZGQiLCAibGluZUNhcCI6ICJyb3VuZCIsICJsaW5lSm9pbiI6ICJyb3VuZCIsICJvcGFjaXR5IjogMS4wLCAicmFkaXVzIjogNSwgInN0cm9rZSI6IHRydWUsICJ3ZWlnaHQiOiAzfQogICAgICAgICAgICApLmFkZFRvKG1hcF9lNjdkYzM1ZTkxOTI0ZGExYmM0NGM5MmI2OWQ1MjE5OSk7CiAgICAgICAgCiAgICAKICAgICAgICB2YXIgcG9wdXBfMWI2N2M3ZTc2MTg4NDQ0YmFiMGFjMjM2MWI4OGU4NGYgPSBMLnBvcHVwKHsibWF4V2lkdGgiOiAiMTAwJSJ9KTsKCiAgICAgICAgCiAgICAgICAgICAgIHZhciBodG1sX2ZmODczOTM4ZDM2ZjQzNzhiNjhiYTYzNDA0MTU5MzU0ID0gJChgPGRpdiBpZD0iaHRtbF9mZjg3MzkzOGQzNmY0Mzc4YjY4YmE2MzQwNDE1OTM1NCIgc3R5bGU9IndpZHRoOiAxMDAuMCU7IGhlaWdodDogMTAwLjAlOyI+Ymx1ZTwvZGl2PmApWzBdOwogICAgICAgICAgICBwb3B1cF8xYjY3YzdlNzYxODg0NDRiYWIwYWMyMzYxYjg4ZTg0Zi5zZXRDb250ZW50KGh0bWxfZmY4NzM5MzhkMzZmNDM3OGI2OGJhNjM0MDQxNTkzNTQpOwogICAgICAgIAoKICAgICAgICBjaXJjbGVfbWFya2VyX2I5MGE4YWQzNzdmZjRlYjliOGVjYTBmMTZmMmE2YzFiLmJpbmRQb3B1cChwb3B1cF8xYjY3YzdlNzYxODg0NDRiYWIwYWMyMzYxYjg4ZTg0ZikKICAgICAgICA7CgogICAgICAgIAogICAgCiAgICAKICAgICAgICAgICAgdmFyIGNpcmNsZV9tYXJrZXJfYTlmMDcwOTUyODFkNGRmZDgyNGU2MzgwMmUwNTk5M2QgPSBMLmNpcmNsZU1hcmtlcigKICAgICAgICAgICAgICAgIFszNy44MzAxMTgsIC0xMjIuMjYyNzIxXSwKICAgICAgICAgICAgICAgIHsiYnViYmxpbmdNb3VzZUV2ZW50cyI6IHRydWUsICJjb2xvciI6ICIjMzM4OGZmIiwgImRhc2hBcnJheSI6IG51bGwsICJkYXNoT2Zmc2V0IjogbnVsbCwgImZpbGwiOiB0cnVlLCAiZmlsbENvbG9yIjogImJsdWUiLCAiZmlsbE9wYWNpdHkiOiAxLCAiZmlsbFJ1bGUiOiAiZXZlbm9kZCIsICJsaW5lQ2FwIjogInJvdW5kIiwgImxpbmVKb2luIjogInJvdW5kIiwgIm9wYWNpdHkiOiAxLjAsICJyYWRpdXMiOiA1LCAic3Ryb2tlIjogdHJ1ZSwgIndlaWdodCI6IDN9CiAgICAgICAgICAgICkuYWRkVG8obWFwX2U2N2RjMzVlOTE5MjRkYTFiYzQ0YzkyYjY5ZDUyMTk5KTsKICAgICAgICAKICAgIAogICAgICAgIHZhciBwb3B1cF8zOTE1NTI2NjdjNTA0MDM4ODFjMmNkMDJkZTUwMzYzMiA9IEwucG9wdXAoeyJtYXhXaWR0aCI6ICIxMDAlIn0pOwoKICAgICAgICAKICAgICAgICAgICAgdmFyIGh0bWxfYzZlNTY4ODFhYjUzNDgxMTkxNzUwZDI5NzM5NzZmMTEgPSAkKGA8ZGl2IGlkPSJodG1sX2M2ZTU2ODgxYWI1MzQ4MTE5MTc1MGQyOTczOTc2ZjExIiBzdHlsZT0id2lkdGg6IDEwMC4wJTsgaGVpZ2h0OiAxMDAuMCU7Ij5ibHVlPC9kaXY+YClbMF07CiAgICAgICAgICAgIHBvcHVwXzM5MTU1MjY2N2M1MDQwMzg4MWMyY2QwMmRlNTAzNjMyLnNldENvbnRlbnQoaHRtbF9jNmU1Njg4MWFiNTM0ODExOTE3NTBkMjk3Mzk3NmYxMSk7CiAgICAgICAgCgogICAgICAgIGNpcmNsZV9tYXJrZXJfYTlmMDcwOTUyODFkNGRmZDgyNGU2MzgwMmUwNTk5M2QuYmluZFBvcHVwKHBvcHVwXzM5MTU1MjY2N2M1MDQwMzg4MWMyY2QwMmRlNTAzNjMyKQogICAgICAgIDsKCiAgICAgICAgCiAgICAKICAgIAogICAgICAgICAgICB2YXIgY2lyY2xlX21hcmtlcl9kMWEyMzllOWNkNjA0ZDE1OWJmZWQ5Y2JjZWMyNDU4ZSA9IEwuY2lyY2xlTWFya2VyKAogICAgICAgICAgICAgICAgWzM3Ljg4NDU2MywgLTEyMi4yNzc5MTI5OTk5OTk5OF0sCiAgICAgICAgICAgICAgICB7ImJ1YmJsaW5nTW91c2VFdmVudHMiOiB0cnVlLCAiY29sb3IiOiAiIzMzODhmZiIsICJkYXNoQXJyYXkiOiBudWxsLCAiZGFzaE9mZnNldCI6IG51bGwsICJmaWxsIjogdHJ1ZSwgImZpbGxDb2xvciI6ICJibHVlIiwgImZpbGxPcGFjaXR5IjogMSwgImZpbGxSdWxlIjogImV2ZW5vZGQiLCAibGluZUNhcCI6ICJyb3VuZCIsICJsaW5lSm9pbiI6ICJyb3VuZCIsICJvcGFjaXR5IjogMS4wLCAicmFkaXVzIjogNSwgInN0cm9rZSI6IHRydWUsICJ3ZWlnaHQiOiAzfQogICAgICAgICAgICApLmFkZFRvKG1hcF9lNjdkYzM1ZTkxOTI0ZGExYmM0NGM5MmI2OWQ1MjE5OSk7CiAgICAgICAgCiAgICAKICAgICAgICB2YXIgcG9wdXBfNjI1MmFlNGNjNTkxNDBkNDhiMmE1MDA2OTM4ZjFjZTMgPSBMLnBvcHVwKHsibWF4V2lkdGgiOiAiMTAwJSJ9KTsKCiAgICAgICAgCiAgICAgICAgICAgIHZhciBodG1sX2JjMjJmOGRhMjQ2ODQzNGU4ODY4YmM5NjVhZDU3NmIyID0gJChgPGRpdiBpZD0iaHRtbF9iYzIyZjhkYTI0Njg0MzRlODg2OGJjOTY1YWQ1NzZiMiIgc3R5bGU9IndpZHRoOiAxMDAuMCU7IGhlaWdodDogMTAwLjAlOyI+Ymx1ZTwvZGl2PmApWzBdOwogICAgICAgICAgICBwb3B1cF82MjUyYWU0Y2M1OTE0MGQ0OGIyYTUwMDY5MzhmMWNlMy5zZXRDb250ZW50KGh0bWxfYmMyMmY4ZGEyNDY4NDM0ZTg4NjhiYzk2NWFkNTc2YjIpOwogICAgICAgIAoKICAgICAgICBjaXJjbGVfbWFya2VyX2QxYTIzOWU5Y2Q2MDRkMTU5YmZlZDljYmNlYzI0NThlLmJpbmRQb3B1cChwb3B1cF82MjUyYWU0Y2M1OTE0MGQ0OGIyYTUwMDY5MzhmMWNlMykKICAgICAgICA7CgogICAgICAgIAogICAgCiAgICAKICAgICAgICAgICAgdmFyIGNpcmNsZV9tYXJrZXJfYmNmYjdkNzVlOWM4NGZlMWFmYTgzZjYxZWUwMzNiNWEgPSBMLmNpcmNsZU1hcmtlcigKICAgICAgICAgICAgICAgIFszNy44NjcxNjQsIC0xMjIuMjY0MDYyMDAwMDAwMDFdLAogICAgICAgICAgICAgICAgeyJidWJibGluZ01vdXNlRXZlbnRzIjogdHJ1ZSwgImNvbG9yIjogIiMzMzg4ZmYiLCAiZGFzaEFycmF5IjogbnVsbCwgImRhc2hPZmZzZXQiOiBudWxsLCAiZmlsbCI6IHRydWUsICJmaWxsQ29sb3IiOiAiYmx1ZSIsICJmaWxsT3BhY2l0eSI6IDEsICJmaWxsUnVsZSI6ICJldmVub2RkIiwgImxpbmVDYXAiOiAicm91bmQiLCAibGluZUpvaW4iOiAicm91bmQiLCAib3BhY2l0eSI6IDEuMCwgInJhZGl1cyI6IDUsICJzdHJva2UiOiB0cnVlLCAid2VpZ2h0IjogM30KICAgICAgICAgICAgKS5hZGRUbyhtYXBfZTY3ZGMzNWU5MTkyNGRhMWJjNDRjOTJiNjlkNTIxOTkpOwogICAgICAgIAogICAgCiAgICAgICAgdmFyIHBvcHVwXzgxMTg3NTA0NTQzNTQ0NWNiNDA3Y2U0YzM0M2U3MmJlID0gTC5wb3B1cCh7Im1heFdpZHRoIjogIjEwMCUifSk7CgogICAgICAgIAogICAgICAgICAgICB2YXIgaHRtbF9mYmVhMGY5NDE4Y2E0MzA4OTkwMjkyZjI2OTI1MmYxZSA9ICQoYDxkaXYgaWQ9Imh0bWxfZmJlYTBmOTQxOGNhNDMwODk5MDI5MmYyNjkyNTJmMWUiIHN0eWxlPSJ3aWR0aDogMTAwLjAlOyBoZWlnaHQ6IDEwMC4wJTsiPmJsdWU8L2Rpdj5gKVswXTsKICAgICAgICAgICAgcG9wdXBfODExODc1MDQ1NDM1NDQ1Y2I0MDdjZTRjMzQzZTcyYmUuc2V0Q29udGVudChodG1sX2ZiZWEwZjk0MThjYTQzMDg5OTAyOTJmMjY5MjUyZjFlKTsKICAgICAgICAKCiAgICAgICAgY2lyY2xlX21hcmtlcl9iY2ZiN2Q3NWU5Yzg0ZmUxYWZhODNmNjFlZTAzM2I1YS5iaW5kUG9wdXAocG9wdXBfODExODc1MDQ1NDM1NDQ1Y2I0MDdjZTRjMzQzZTcyYmUpCiAgICAgICAgOwoKICAgICAgICAKICAgIAogICAgCiAgICAgICAgICAgIHZhciBjaXJjbGVfbWFya2VyXzVmMWRmOTUxZmE4NDQyODFhMzMzYjFlMDA3MTZkNDU4ID0gTC5jaXJjbGVNYXJrZXIoCiAgICAgICAgICAgICAgICBbMzcuODc3MzkyLCAtMTIyLjI2NDY1ODAwMDAwMDAxXSwKICAgICAgICAgICAgICAgIHsiYnViYmxpbmdNb3VzZUV2ZW50cyI6IHRydWUsICJjb2xvciI6ICIjMzM4OGZmIiwgImRhc2hBcnJheSI6IG51bGwsICJkYXNoT2Zmc2V0IjogbnVsbCwgImZpbGwiOiB0cnVlLCAiZmlsbENvbG9yIjogImJsdWUiLCAiZmlsbE9wYWNpdHkiOiAxLCAiZmlsbFJ1bGUiOiAiZXZlbm9kZCIsICJsaW5lQ2FwIjogInJvdW5kIiwgImxpbmVKb2luIjogInJvdW5kIiwgIm9wYWNpdHkiOiAxLjAsICJyYWRpdXMiOiA1LCAic3Ryb2tlIjogdHJ1ZSwgIndlaWdodCI6IDN9CiAgICAgICAgICAgICkuYWRkVG8obWFwX2U2N2RjMzVlOTE5MjRkYTFiYzQ0YzkyYjY5ZDUyMTk5KTsKICAgICAgICAKICAgIAogICAgICAgIHZhciBwb3B1cF9iMzhjYjhmODc0YzY0NTBhOGJmODJhNGUxZWUzNDExZCA9IEwucG9wdXAoeyJtYXhXaWR0aCI6ICIxMDAlIn0pOwoKICAgICAgICAKICAgICAgICAgICAgdmFyIGh0bWxfYWUwNmI0ZjhjOGJlNGRkNTk2ZmFmZDBmZGNjNTZiMzUgPSAkKGA8ZGl2IGlkPSJodG1sX2FlMDZiNGY4YzhiZTRkZDU5NmZhZmQwZmRjYzU2YjM1IiBzdHlsZT0id2lkdGg6IDEwMC4wJTsgaGVpZ2h0OiAxMDAuMCU7Ij5ibHVlPC9kaXY+YClbMF07CiAgICAgICAgICAgIHBvcHVwX2IzOGNiOGY4NzRjNjQ1MGE4YmY4MmE0ZTFlZTM0MTFkLnNldENvbnRlbnQoaHRtbF9hZTA2YjRmOGM4YmU0ZGQ1OTZmYWZkMGZkY2M1NmIzNSk7CiAgICAgICAgCgogICAgICAgIGNpcmNsZV9tYXJrZXJfNWYxZGY5NTFmYTg0NDI4MWEzMzNiMWUwMDcxNmQ0NTguYmluZFBvcHVwKHBvcHVwX2IzOGNiOGY4NzRjNjQ1MGE4YmY4MmE0ZTFlZTM0MTFkKQogICAgICAgIDsKCiAgICAgICAgCiAgICAKICAgIAogICAgICAgICAgICB2YXIgY2lyY2xlX21hcmtlcl9mYmFhNjNhOTg5MDg0OGUzODE3MTgxYzAzOGVjNDg0OSA9IEwuY2lyY2xlTWFya2VyKAogICAgICAgICAgICAgICAgWzM3Ljg3MTI3OSwgLTEyMi4yODcyOTZdLAogICAgICAgICAgICAgICAgeyJidWJibGluZ01vdXNlRXZlbnRzIjogdHJ1ZSwgImNvbG9yIjogIiMzMzg4ZmYiLCAiZGFzaEFycmF5IjogbnVsbCwgImRhc2hPZmZzZXQiOiBudWxsLCAiZmlsbCI6IHRydWUsICJmaWxsQ29sb3IiOiAiYmx1ZSIsICJmaWxsT3BhY2l0eSI6IDEsICJmaWxsUnVsZSI6ICJldmVub2RkIiwgImxpbmVDYXAiOiAicm91bmQiLCAibGluZUpvaW4iOiAicm91bmQiLCAib3BhY2l0eSI6IDEuMCwgInJhZGl1cyI6IDUsICJzdHJva2UiOiB0cnVlLCAid2VpZ2h0IjogM30KICAgICAgICAgICAgKS5hZGRUbyhtYXBfZTY3ZGMzNWU5MTkyNGRhMWJjNDRjOTJiNjlkNTIxOTkpOwogICAgICAgIAogICAgCiAgICAgICAgdmFyIHBvcHVwXzYxZjk2ZWE5ZTIzMzQ0MTI4NDYxNGU5MzViYjUxNDc0ID0gTC5wb3B1cCh7Im1heFdpZHRoIjogIjEwMCUifSk7CgogICAgICAgIAogICAgICAgICAgICB2YXIgaHRtbF9lZTg0YjYxNWY5MmE0OGRiYjNhYmIyMjM0NGZhNTI3YyA9ICQoYDxkaXYgaWQ9Imh0bWxfZWU4NGI2MTVmOTJhNDhkYmIzYWJiMjIzNDRmYTUyN2MiIHN0eWxlPSJ3aWR0aDogMTAwLjAlOyBoZWlnaHQ6IDEwMC4wJTsiPmJsdWU8L2Rpdj5gKVswXTsKICAgICAgICAgICAgcG9wdXBfNjFmOTZlYTllMjMzNDQxMjg0NjE0ZTkzNWJiNTE0NzQuc2V0Q29udGVudChodG1sX2VlODRiNjE1ZjkyYTQ4ZGJiM2FiYjIyMzQ0ZmE1MjdjKTsKICAgICAgICAKCiAgICAgICAgY2lyY2xlX21hcmtlcl9mYmFhNjNhOTg5MDg0OGUzODE3MTgxYzAzOGVjNDg0OS5iaW5kUG9wdXAocG9wdXBfNjFmOTZlYTllMjMzNDQxMjg0NjE0ZTkzNWJiNTE0NzQpCiAgICAgICAgOwoKICAgICAgICAKICAgIAogICAgCiAgICAgICAgICAgIHZhciBjaXJjbGVfbWFya2VyX2M2ZmJmODUxMTU4NjQwZThhOTZhZjg1YmQ0MzRhNjY2ID0gTC5jaXJjbGVNYXJrZXIoCiAgICAgICAgICAgICAgICBbMzcuODY0ODEyLCAtMTIyLjI5NjIzMl0sCiAgICAgICAgICAgICAgICB7ImJ1YmJsaW5nTW91c2VFdmVudHMiOiB0cnVlLCAiY29sb3IiOiAiIzMzODhmZiIsICJkYXNoQXJyYXkiOiBudWxsLCAiZGFzaE9mZnNldCI6IG51bGwsICJmaWxsIjogdHJ1ZSwgImZpbGxDb2xvciI6ICJibHVlIiwgImZpbGxPcGFjaXR5IjogMSwgImZpbGxSdWxlIjogImV2ZW5vZGQiLCAibGluZUNhcCI6ICJyb3VuZCIsICJsaW5lSm9pbiI6ICJyb3VuZCIsICJvcGFjaXR5IjogMS4wLCAicmFkaXVzIjogNSwgInN0cm9rZSI6IHRydWUsICJ3ZWlnaHQiOiAzfQogICAgICAgICAgICApLmFkZFRvKG1hcF9lNjdkYzM1ZTkxOTI0ZGExYmM0NGM5MmI2OWQ1MjE5OSk7CiAgICAgICAgCiAgICAKICAgICAgICB2YXIgcG9wdXBfYWMwNmMzNzVlYTU1NDcwYTllNmQ4ZmI1NmE4N2M1MGMgPSBMLnBvcHVwKHsibWF4V2lkdGgiOiAiMTAwJSJ9KTsKCiAgICAgICAgCiAgICAgICAgICAgIHZhciBodG1sXzIzMDA3MzExZTg1MTQ0MDg5NzE2NjUxZjc2Mjg3YTU1ID0gJChgPGRpdiBpZD0iaHRtbF8yMzAwNzMxMWU4NTE0NDA4OTcxNjY1MWY3NjI4N2E1NSIgc3R5bGU9IndpZHRoOiAxMDAuMCU7IGhlaWdodDogMTAwLjAlOyI+Ymx1ZTwvZGl2PmApWzBdOwogICAgICAgICAgICBwb3B1cF9hYzA2YzM3NWVhNTU0NzBhOWU2ZDhmYjU2YTg3YzUwYy5zZXRDb250ZW50KGh0bWxfMjMwMDczMTFlODUxNDQwODk3MTY2NTFmNzYyODdhNTUpOwogICAgICAgIAoKICAgICAgICBjaXJjbGVfbWFya2VyX2M2ZmJmODUxMTU4NjQwZThhOTZhZjg1YmQ0MzRhNjY2LmJpbmRQb3B1cChwb3B1cF9hYzA2YzM3NWVhNTU0NzBhOWU2ZDhmYjU2YTg3YzUwYykKICAgICAgICA7CgogICAgICAgIAogICAgCiAgICAKICAgICAgICAgICAgdmFyIGNpcmNsZV9tYXJrZXJfODQ4MDAwOTMzZmRiNGI1ZDhlZjJiODgyMTdkYjExMDAgPSBMLmNpcmNsZU1hcmtlcigKICAgICAgICAgICAgICAgIFszNy44NjA1NzksIC0xMjIuMjU3MjExMDAwMDAwMDFdLAogICAgICAgICAgICAgICAgeyJidWJibGluZ01vdXNlRXZlbnRzIjogdHJ1ZSwgImNvbG9yIjogIiMzMzg4ZmYiLCAiZGFzaEFycmF5IjogbnVsbCwgImRhc2hPZmZzZXQiOiBudWxsLCAiZmlsbCI6IHRydWUsICJmaWxsQ29sb3IiOiAiYmx1ZSIsICJmaWxsT3BhY2l0eSI6IDEsICJmaWxsUnVsZSI6ICJldmVub2RkIiwgImxpbmVDYXAiOiAicm91bmQiLCAibGluZUpvaW4iOiAicm91bmQiLCAib3BhY2l0eSI6IDEuMCwgInJhZGl1cyI6IDUsICJzdHJva2UiOiB0cnVlLCAid2VpZ2h0IjogM30KICAgICAgICAgICAgKS5hZGRUbyhtYXBfZTY3ZGMzNWU5MTkyNGRhMWJjNDRjOTJiNjlkNTIxOTkpOwogICAgICAgIAogICAgCiAgICAgICAgdmFyIHBvcHVwXzc3Mzc0NmU0Y2FkMzQ1YjliMjEyNmJjYTVlMzNmOGRjID0gTC5wb3B1cCh7Im1heFdpZHRoIjogIjEwMCUifSk7CgogICAgICAgIAogICAgICAgICAgICB2YXIgaHRtbF8xMTgwYWE5MDY0MzQ0OTg2OGFlMjk3NmJmYTJlOTY4OSA9ICQoYDxkaXYgaWQ9Imh0bWxfMTE4MGFhOTA2NDM0NDk4NjhhZTI5NzZiZmEyZTk2ODkiIHN0eWxlPSJ3aWR0aDogMTAwLjAlOyBoZWlnaHQ6IDEwMC4wJTsiPmJsdWU8L2Rpdj5gKVswXTsKICAgICAgICAgICAgcG9wdXBfNzczNzQ2ZTRjYWQzNDViOWIyMTI2YmNhNWUzM2Y4ZGMuc2V0Q29udGVudChodG1sXzExODBhYTkwNjQzNDQ5ODY4YWUyOTc2YmZhMmU5Njg5KTsKICAgICAgICAKCiAgICAgICAgY2lyY2xlX21hcmtlcl84NDgwMDA5MzNmZGI0YjVkOGVmMmI4ODIxN2RiMTEwMC5iaW5kUG9wdXAocG9wdXBfNzczNzQ2ZTRjYWQzNDViOWIyMTI2YmNhNWUzM2Y4ZGMpCiAgICAgICAgOwoKICAgICAgICAKICAgIAogICAgCiAgICAgICAgICAgIHZhciBjaXJjbGVfbWFya2VyXzlkNzcyZDZlY2RiYTRmMDZiMzI1NjFjYmQ4ZmQxZjUzID0gTC5jaXJjbGVNYXJrZXIoCiAgICAgICAgICAgICAgICBbMzcuODY2ODExLCAtMTIyLjI1NzI4NTAwMDAwMDAxXSwKICAgICAgICAgICAgICAgIHsiYnViYmxpbmdNb3VzZUV2ZW50cyI6IHRydWUsICJjb2xvciI6ICIjMzM4OGZmIiwgImRhc2hBcnJheSI6IG51bGwsICJkYXNoT2Zmc2V0IjogbnVsbCwgImZpbGwiOiB0cnVlLCAiZmlsbENvbG9yIjogImJsdWUiLCAiZmlsbE9wYWNpdHkiOiAxLCAiZmlsbFJ1bGUiOiAiZXZlbm9kZCIsICJsaW5lQ2FwIjogInJvdW5kIiwgImxpbmVKb2luIjogInJvdW5kIiwgIm9wYWNpdHkiOiAxLjAsICJyYWRpdXMiOiA1LCAic3Ryb2tlIjogdHJ1ZSwgIndlaWdodCI6IDN9CiAgICAgICAgICAgICkuYWRkVG8obWFwX2U2N2RjMzVlOTE5MjRkYTFiYzQ0YzkyYjY5ZDUyMTk5KTsKICAgICAgICAKICAgIAogICAgICAgIHZhciBwb3B1cF9hNDk4NjQ0YTFlMzc0MGQyYjM3Zjk0ZWExMWVlMDFkZCA9IEwucG9wdXAoeyJtYXhXaWR0aCI6ICIxMDAlIn0pOwoKICAgICAgICAKICAgICAgICAgICAgdmFyIGh0bWxfMWIzNzQwMzdkODVkNDljY2JmZjFkMjg3YTQ1MGMyZDUgPSAkKGA8ZGl2IGlkPSJodG1sXzFiMzc0MDM3ZDg1ZDQ5Y2NiZmYxZDI4N2E0NTBjMmQ1IiBzdHlsZT0id2lkdGg6IDEwMC4wJTsgaGVpZ2h0OiAxMDAuMCU7Ij5ibHVlPC9kaXY+YClbMF07CiAgICAgICAgICAgIHBvcHVwX2E0OTg2NDRhMWUzNzQwZDJiMzdmOTRlYTExZWUwMWRkLnNldENvbnRlbnQoaHRtbF8xYjM3NDAzN2Q4NWQ0OWNjYmZmMWQyODdhNDUwYzJkNSk7CiAgICAgICAgCgogICAgICAgIGNpcmNsZV9tYXJrZXJfOWQ3NzJkNmVjZGJhNGYwNmIzMjU2MWNiZDhmZDFmNTMuYmluZFBvcHVwKHBvcHVwX2E0OTg2NDRhMWUzNzQwZDJiMzdmOTRlYTExZWUwMWRkKQogICAgICAgIDsKCiAgICAgICAgCiAgICAKICAgIAogICAgICAgICAgICB2YXIgY2lyY2xlX21hcmtlcl83MDlhOTRkMmZiYTE0Yzk4OTc4NmE3MmVkOGM5YWE1YiA9IEwuY2lyY2xlTWFya2VyKAogICAgICAgICAgICAgICAgWzM3Ljg3ODc0NCwgLTEyMi4yNzE5NTZdLAogICAgICAgICAgICAgICAgeyJidWJibGluZ01vdXNlRXZlbnRzIjogdHJ1ZSwgImNvbG9yIjogIiMzMzg4ZmYiLCAiZGFzaEFycmF5IjogbnVsbCwgImRhc2hPZmZzZXQiOiBudWxsLCAiZmlsbCI6IHRydWUsICJmaWxsQ29sb3IiOiAiYmx1ZSIsICJmaWxsT3BhY2l0eSI6IDEsICJmaWxsUnVsZSI6ICJldmVub2RkIiwgImxpbmVDYXAiOiAicm91bmQiLCAibGluZUpvaW4iOiAicm91bmQiLCAib3BhY2l0eSI6IDEuMCwgInJhZGl1cyI6IDUsICJzdHJva2UiOiB0cnVlLCAid2VpZ2h0IjogM30KICAgICAgICAgICAgKS5hZGRUbyhtYXBfZTY3ZGMzNWU5MTkyNGRhMWJjNDRjOTJiNjlkNTIxOTkpOwogICAgICAgIAogICAgCiAgICAgICAgdmFyIHBvcHVwX2RmNjYwZWMxMTI1YTQ4MGJiZTRhYjAxZmYwYThlZTMwID0gTC5wb3B1cCh7Im1heFdpZHRoIjogIjEwMCUifSk7CgogICAgICAgIAogICAgICAgICAgICB2YXIgaHRtbF8zOTAzMjI5MGNkOTk0MzBiYTUwOGUwMTcwOGJmZjBkNyA9ICQoYDxkaXYgaWQ9Imh0bWxfMzkwMzIyOTBjZDk5NDMwYmE1MDhlMDE3MDhiZmYwZDciIHN0eWxlPSJ3aWR0aDogMTAwLjAlOyBoZWlnaHQ6IDEwMC4wJTsiPmJsdWU8L2Rpdj5gKVswXTsKICAgICAgICAgICAgcG9wdXBfZGY2NjBlYzExMjVhNDgwYmJlNGFiMDFmZjBhOGVlMzAuc2V0Q29udGVudChodG1sXzM5MDMyMjkwY2Q5OTQzMGJhNTA4ZTAxNzA4YmZmMGQ3KTsKICAgICAgICAKCiAgICAgICAgY2lyY2xlX21hcmtlcl83MDlhOTRkMmZiYTE0Yzk4OTc4NmE3MmVkOGM5YWE1Yi5iaW5kUG9wdXAocG9wdXBfZGY2NjBlYzExMjVhNDgwYmJlNGFiMDFmZjBhOGVlMzApCiAgICAgICAgOwoKICAgICAgICAKICAgIAogICAgCiAgICAgICAgICAgIHZhciBjaXJjbGVfbWFya2VyXzQ4YzhmYWY3MWZiZTQzYzRhYWQ3ODllNDA5NDNiOGM2ID0gTC5jaXJjbGVNYXJrZXIoCiAgICAgICAgICAgICAgICBbMzcuODYxNDYxLCAtMTIyLjI2MzAxOV0sCiAgICAgICAgICAgICAgICB7ImJ1YmJsaW5nTW91c2VFdmVudHMiOiB0cnVlLCAiY29sb3IiOiAiIzMzODhmZiIsICJkYXNoQXJyYXkiOiBudWxsLCAiZGFzaE9mZnNldCI6IG51bGwsICJmaWxsIjogdHJ1ZSwgImZpbGxDb2xvciI6ICJibHVlIiwgImZpbGxPcGFjaXR5IjogMSwgImZpbGxSdWxlIjogImV2ZW5vZGQiLCAibGluZUNhcCI6ICJyb3VuZCIsICJsaW5lSm9pbiI6ICJyb3VuZCIsICJvcGFjaXR5IjogMS4wLCAicmFkaXVzIjogNSwgInN0cm9rZSI6IHRydWUsICJ3ZWlnaHQiOiAzfQogICAgICAgICAgICApLmFkZFRvKG1hcF9lNjdkYzM1ZTkxOTI0ZGExYmM0NGM5MmI2OWQ1MjE5OSk7CiAgICAgICAgCiAgICAKICAgICAgICB2YXIgcG9wdXBfZGRmOTU0Y2NlZDIxNGEyNGI5N2EzY2E3YTk3ZDk0YjggPSBMLnBvcHVwKHsibWF4V2lkdGgiOiAiMTAwJSJ9KTsKCiAgICAgICAgCiAgICAgICAgICAgIHZhciBodG1sXzQ2Yjg2N2RjZTU1ZDQzYjA5NGExOWJkNDc3M2M3MGE1ID0gJChgPGRpdiBpZD0iaHRtbF80NmI4NjdkY2U1NWQ0M2IwOTRhMTliZDQ3NzNjNzBhNSIgc3R5bGU9IndpZHRoOiAxMDAuMCU7IGhlaWdodDogMTAwLjAlOyI+Ymx1ZTwvZGl2PmApWzBdOwogICAgICAgICAgICBwb3B1cF9kZGY5NTRjY2VkMjE0YTI0Yjk3YTNjYTdhOTdkOTRiOC5zZXRDb250ZW50KGh0bWxfNDZiODY3ZGNlNTVkNDNiMDk0YTE5YmQ0NzczYzcwYTUpOwogICAgICAgIAoKICAgICAgICBjaXJjbGVfbWFya2VyXzQ4YzhmYWY3MWZiZTQzYzRhYWQ3ODllNDA5NDNiOGM2LmJpbmRQb3B1cChwb3B1cF9kZGY5NTRjY2VkMjE0YTI0Yjk3YTNjYTdhOTdkOTRiOCkKICAgICAgICA7CgogICAgICAgIAogICAgCiAgICAKICAgICAgICAgICAgdmFyIGNpcmNsZV9tYXJrZXJfMjc1MmFjODk4MWNlNGIxM2EwMzE0YzBjZGM5MWM1MTggPSBMLmNpcmNsZU1hcmtlcigKICAgICAgICAgICAgICAgIFszNy44Njg5MjcsIC0xMjIuMjc3NDY1OTk5OTk5OTldLAogICAgICAgICAgICAgICAgeyJidWJibGluZ01vdXNlRXZlbnRzIjogdHJ1ZSwgImNvbG9yIjogIiMzMzg4ZmYiLCAiZGFzaEFycmF5IjogbnVsbCwgImRhc2hPZmZzZXQiOiBudWxsLCAiZmlsbCI6IHRydWUsICJmaWxsQ29sb3IiOiAiYmx1ZSIsICJmaWxsT3BhY2l0eSI6IDEsICJmaWxsUnVsZSI6ICJldmVub2RkIiwgImxpbmVDYXAiOiAicm91bmQiLCAibGluZUpvaW4iOiAicm91bmQiLCAib3BhY2l0eSI6IDEuMCwgInJhZGl1cyI6IDUsICJzdHJva2UiOiB0cnVlLCAid2VpZ2h0IjogM30KICAgICAgICAgICAgKS5hZGRUbyhtYXBfZTY3ZGMzNWU5MTkyNGRhMWJjNDRjOTJiNjlkNTIxOTkpOwogICAgICAgIAogICAgCiAgICAgICAgdmFyIHBvcHVwX2IxYjdkMTc3MWM5NzQyMGQ4ZDk1OTkyNWJmY2FjYzVmID0gTC5wb3B1cCh7Im1heFdpZHRoIjogIjEwMCUifSk7CgogICAgICAgIAogICAgICAgICAgICB2YXIgaHRtbF81ZGZmYmFiNTRmMzM0NjVjYTI0OTIyZTUzZTdkNDEwMyA9ICQoYDxkaXYgaWQ9Imh0bWxfNWRmZmJhYjU0ZjMzNDY1Y2EyNDkyMmU1M2U3ZDQxMDMiIHN0eWxlPSJ3aWR0aDogMTAwLjAlOyBoZWlnaHQ6IDEwMC4wJTsiPmJsdWU8L2Rpdj5gKVswXTsKICAgICAgICAgICAgcG9wdXBfYjFiN2QxNzcxYzk3NDIwZDhkOTU5OTI1YmZjYWNjNWYuc2V0Q29udGVudChodG1sXzVkZmZiYWI1NGYzMzQ2NWNhMjQ5MjJlNTNlN2Q0MTAzKTsKICAgICAgICAKCiAgICAgICAgY2lyY2xlX21hcmtlcl8yNzUyYWM4OTgxY2U0YjEzYTAzMTRjMGNkYzkxYzUxOC5iaW5kUG9wdXAocG9wdXBfYjFiN2QxNzcxYzk3NDIwZDhkOTU5OTI1YmZjYWNjNWYpCiAgICAgICAgOwoKICAgICAgICAKICAgIAogICAgCiAgICAgICAgICAgIHZhciBjaXJjbGVfbWFya2VyX2FjM2Y4MDU1MmZmZjQ4NzNhZmUyNTc4ZTMwY2NhYTAxID0gTC5jaXJjbGVNYXJrZXIoCiAgICAgICAgICAgICAgICBbMzcuODY0OTg5LCAtMTIyLjI3ODQzNF0sCiAgICAgICAgICAgICAgICB7ImJ1YmJsaW5nTW91c2VFdmVudHMiOiB0cnVlLCAiY29sb3IiOiAiIzMzODhmZiIsICJkYXNoQXJyYXkiOiBudWxsLCAiZGFzaE9mZnNldCI6IG51bGwsICJmaWxsIjogdHJ1ZSwgImZpbGxDb2xvciI6ICJibHVlIiwgImZpbGxPcGFjaXR5IjogMSwgImZpbGxSdWxlIjogImV2ZW5vZGQiLCAibGluZUNhcCI6ICJyb3VuZCIsICJsaW5lSm9pbiI6ICJyb3VuZCIsICJvcGFjaXR5IjogMS4wLCAicmFkaXVzIjogNSwgInN0cm9rZSI6IHRydWUsICJ3ZWlnaHQiOiAzfQogICAgICAgICAgICApLmFkZFRvKG1hcF9lNjdkYzM1ZTkxOTI0ZGExYmM0NGM5MmI2OWQ1MjE5OSk7CiAgICAgICAgCiAgICAKICAgICAgICB2YXIgcG9wdXBfNzk4MzQyNmFlOTg2NDY1NzlhMDc2Y2QzODg3Y2JiMGQgPSBMLnBvcHVwKHsibWF4V2lkdGgiOiAiMTAwJSJ9KTsKCiAgICAgICAgCiAgICAgICAgICAgIHZhciBodG1sXzVjNjlhNGJjMjdlNTRiZjdhOGExZGU2YzI0YjY4MTFjID0gJChgPGRpdiBpZD0iaHRtbF81YzY5YTRiYzI3ZTU0YmY3YThhMWRlNmMyNGI2ODExYyIgc3R5bGU9IndpZHRoOiAxMDAuMCU7IGhlaWdodDogMTAwLjAlOyI+Ymx1ZTwvZGl2PmApWzBdOwogICAgICAgICAgICBwb3B1cF83OTgzNDI2YWU5ODY0NjU3OWEwNzZjZDM4ODdjYmIwZC5zZXRDb250ZW50KGh0bWxfNWM2OWE0YmMyN2U1NGJmN2E4YTFkZTZjMjRiNjgxMWMpOwogICAgICAgIAoKICAgICAgICBjaXJjbGVfbWFya2VyX2FjM2Y4MDU1MmZmZjQ4NzNhZmUyNTc4ZTMwY2NhYTAxLmJpbmRQb3B1cChwb3B1cF83OTgzNDI2YWU5ODY0NjU3OWEwNzZjZDM4ODdjYmIwZCkKICAgICAgICA7CgogICAgICAgIAogICAgCiAgICAKICAgICAgICAgICAgdmFyIGNpcmNsZV9tYXJrZXJfNmMzM2ZkNjVhMjczNGY3ZmE5MjFiYmVmODVhY2FhNzEgPSBMLmNpcmNsZU1hcmtlcigKICAgICAgICAgICAgICAgIFszNy44NjEzNDQsIC0xMjIuMjY0NTgzXSwKICAgICAgICAgICAgICAgIHsiYnViYmxpbmdNb3VzZUV2ZW50cyI6IHRydWUsICJjb2xvciI6ICIjMzM4OGZmIiwgImRhc2hBcnJheSI6IG51bGwsICJkYXNoT2Zmc2V0IjogbnVsbCwgImZpbGwiOiB0cnVlLCAiZmlsbENvbG9yIjogImJsdWUiLCAiZmlsbE9wYWNpdHkiOiAxLCAiZmlsbFJ1bGUiOiAiZXZlbm9kZCIsICJsaW5lQ2FwIjogInJvdW5kIiwgImxpbmVKb2luIjogInJvdW5kIiwgIm9wYWNpdHkiOiAxLjAsICJyYWRpdXMiOiA1LCAic3Ryb2tlIjogdHJ1ZSwgIndlaWdodCI6IDN9CiAgICAgICAgICAgICkuYWRkVG8obWFwX2U2N2RjMzVlOTE5MjRkYTFiYzQ0YzkyYjY5ZDUyMTk5KTsKICAgICAgICAKICAgIAogICAgICAgIHZhciBwb3B1cF83MzVkMzRlMmUyZTI0YTFjODFmYmVlMmQxYjA2ZDdkZiA9IEwucG9wdXAoeyJtYXhXaWR0aCI6ICIxMDAlIn0pOwoKICAgICAgICAKICAgICAgICAgICAgdmFyIGh0bWxfNzgzMThkMDRhYWMzNDlhZWJhYmZkYjU2MmJmMmYyMWUgPSAkKGA8ZGl2IGlkPSJodG1sXzc4MzE4ZDA0YWFjMzQ5YWViYWJmZGI1NjJiZjJmMjFlIiBzdHlsZT0id2lkdGg6IDEwMC4wJTsgaGVpZ2h0OiAxMDAuMCU7Ij5ibHVlPC9kaXY+YClbMF07CiAgICAgICAgICAgIHBvcHVwXzczNWQzNGUyZTJlMjRhMWM4MWZiZWUyZDFiMDZkN2RmLnNldENvbnRlbnQoaHRtbF83ODMxOGQwNGFhYzM0OWFlYmFiZmRiNTYyYmYyZjIxZSk7CiAgICAgICAgCgogICAgICAgIGNpcmNsZV9tYXJrZXJfNmMzM2ZkNjVhMjczNGY3ZmE5MjFiYmVmODVhY2FhNzEuYmluZFBvcHVwKHBvcHVwXzczNWQzNGUyZTJlMjRhMWM4MWZiZWUyZDFiMDZkN2RmKQogICAgICAgIDsKCiAgICAgICAgCiAgICAKICAgIAogICAgICAgICAgICB2YXIgY2lyY2xlX21hcmtlcl80YzVmNDg5Y2E3ZDY0ZjUyYTM0ZmFkOTcwNzk1NzNkOCA9IEwuY2lyY2xlTWFya2VyKAogICAgICAgICAgICAgICAgWzM3Ljg2NzIyMjk5OTk5OTk5NiwgLTEyMi4yNjI3MjFdLAogICAgICAgICAgICAgICAgeyJidWJibGluZ01vdXNlRXZlbnRzIjogdHJ1ZSwgImNvbG9yIjogIiMzMzg4ZmYiLCAiZGFzaEFycmF5IjogbnVsbCwgImRhc2hPZmZzZXQiOiBudWxsLCAiZmlsbCI6IHRydWUsICJmaWxsQ29sb3IiOiAiYmx1ZSIsICJmaWxsT3BhY2l0eSI6IDEsICJmaWxsUnVsZSI6ICJldmVub2RkIiwgImxpbmVDYXAiOiAicm91bmQiLCAibGluZUpvaW4iOiAicm91bmQiLCAib3BhY2l0eSI6IDEuMCwgInJhZGl1cyI6IDUsICJzdHJva2UiOiB0cnVlLCAid2VpZ2h0IjogM30KICAgICAgICAgICAgKS5hZGRUbyhtYXBfZTY3ZGMzNWU5MTkyNGRhMWJjNDRjOTJiNjlkNTIxOTkpOwogICAgICAgIAogICAgCiAgICAgICAgdmFyIHBvcHVwX2U5YzA2MThjYTBjYjQzZDFhZDgxNTdiOWNlZmVjMzRhID0gTC5wb3B1cCh7Im1heFdpZHRoIjogIjEwMCUifSk7CgogICAgICAgIAogICAgICAgICAgICB2YXIgaHRtbF8wYjMwZWYxYTE2MzM0MTI2YjRiZTIyMTZlZmI1ZmYyNiA9ICQoYDxkaXYgaWQ9Imh0bWxfMGIzMGVmMWExNjMzNDEyNmI0YmUyMjE2ZWZiNWZmMjYiIHN0eWxlPSJ3aWR0aDogMTAwLjAlOyBoZWlnaHQ6IDEwMC4wJTsiPmJsdWU8L2Rpdj5gKVswXTsKICAgICAgICAgICAgcG9wdXBfZTljMDYxOGNhMGNiNDNkMWFkODE1N2I5Y2VmZWMzNGEuc2V0Q29udGVudChodG1sXzBiMzBlZjFhMTYzMzQxMjZiNGJlMjIxNmVmYjVmZjI2KTsKICAgICAgICAKCiAgICAgICAgY2lyY2xlX21hcmtlcl80YzVmNDg5Y2E3ZDY0ZjUyYTM0ZmFkOTcwNzk1NzNkOC5iaW5kUG9wdXAocG9wdXBfZTljMDYxOGNhMGNiNDNkMWFkODE1N2I5Y2VmZWMzNGEpCiAgICAgICAgOwoKICAgICAgICAKICAgIAogICAgCiAgICAgICAgICAgIHZhciBjaXJjbGVfbWFya2VyX2UzZTRmZGIyNmFkOTQyYjM5MTE1MWNhYWRmYjFhYjE2ID0gTC5jaXJjbGVNYXJrZXIoCiAgICAgICAgICAgICAgICBbMzcuODY3MzQwMDAwMDAwMDA2LCAtMTIyLjI2MDU2MjAwMDAwMDAxXSwKICAgICAgICAgICAgICAgIHsiYnViYmxpbmdNb3VzZUV2ZW50cyI6IHRydWUsICJjb2xvciI6ICIjMzM4OGZmIiwgImRhc2hBcnJheSI6IG51bGwsICJkYXNoT2Zmc2V0IjogbnVsbCwgImZpbGwiOiB0cnVlLCAiZmlsbENvbG9yIjogImJsdWUiLCAiZmlsbE9wYWNpdHkiOiAxLCAiZmlsbFJ1bGUiOiAiZXZlbm9kZCIsICJsaW5lQ2FwIjogInJvdW5kIiwgImxpbmVKb2luIjogInJvdW5kIiwgIm9wYWNpdHkiOiAxLjAsICJyYWRpdXMiOiA1LCAic3Ryb2tlIjogdHJ1ZSwgIndlaWdodCI6IDN9CiAgICAgICAgICAgICkuYWRkVG8obWFwX2U2N2RjMzVlOTE5MjRkYTFiYzQ0YzkyYjY5ZDUyMTk5KTsKICAgICAgICAKICAgIAogICAgICAgIHZhciBwb3B1cF84M2YzN2MwYzI0MDc0YzM2OWI3ZDI3ODg5MzBhNWJhNCA9IEwucG9wdXAoeyJtYXhXaWR0aCI6ICIxMDAlIn0pOwoKICAgICAgICAKICAgICAgICAgICAgdmFyIGh0bWxfMDdhYWY0ZDAyNGQyNGI0YzgzZWY0NjlkOGY5OTE5ZDMgPSAkKGA8ZGl2IGlkPSJodG1sXzA3YWFmNGQwMjRkMjRiNGM4M2VmNDY5ZDhmOTkxOWQzIiBzdHlsZT0id2lkdGg6IDEwMC4wJTsgaGVpZ2h0OiAxMDAuMCU7Ij5ibHVlPC9kaXY+YClbMF07CiAgICAgICAgICAgIHBvcHVwXzgzZjM3YzBjMjQwNzRjMzY5YjdkMjc4ODkzMGE1YmE0LnNldENvbnRlbnQoaHRtbF8wN2FhZjRkMDI0ZDI0YjRjODNlZjQ2OWQ4Zjk5MTlkMyk7CiAgICAgICAgCgogICAgICAgIGNpcmNsZV9tYXJrZXJfZTNlNGZkYjI2YWQ5NDJiMzkxMTUxY2FhZGZiMWFiMTYuYmluZFBvcHVwKHBvcHVwXzgzZjM3YzBjMjQwNzRjMzY5YjdkMjc4ODkzMGE1YmE0KQogICAgICAgIDsKCiAgICAgICAgCiAgICAKICAgIAogICAgICAgICAgICB2YXIgY2lyY2xlX21hcmtlcl9hYTgxNTFmODhiMmY0MmJhYmNiOWExODM5OGQxZTZlYSA9IEwuY2lyY2xlTWFya2VyKAogICAgICAgICAgICAgICAgWzM3Ljg2NzY5MywgLTEyMi4yNTc5NTYwMDAwMDAwMV0sCiAgICAgICAgICAgICAgICB7ImJ1YmJsaW5nTW91c2VFdmVudHMiOiB0cnVlLCAiY29sb3IiOiAiIzMzODhmZiIsICJkYXNoQXJyYXkiOiBudWxsLCAiZGFzaE9mZnNldCI6IG51bGwsICJmaWxsIjogdHJ1ZSwgImZpbGxDb2xvciI6ICJibHVlIiwgImZpbGxPcGFjaXR5IjogMSwgImZpbGxSdWxlIjogImV2ZW5vZGQiLCAibGluZUNhcCI6ICJyb3VuZCIsICJsaW5lSm9pbiI6ICJyb3VuZCIsICJvcGFjaXR5IjogMS4wLCAicmFkaXVzIjogNSwgInN0cm9rZSI6IHRydWUsICJ3ZWlnaHQiOiAzfQogICAgICAgICAgICApLmFkZFRvKG1hcF9lNjdkYzM1ZTkxOTI0ZGExYmM0NGM5MmI2OWQ1MjE5OSk7CiAgICAgICAgCiAgICAKICAgICAgICB2YXIgcG9wdXBfYWFmN2E1MGJjZWQ1NGY5YzlhMzFhOGI5N2NlZjU4NzQgPSBMLnBvcHVwKHsibWF4V2lkdGgiOiAiMTAwJSJ9KTsKCiAgICAgICAgCiAgICAgICAgICAgIHZhciBodG1sX2VmY2M0NDMyZWNhNTRkYzliYzE0NDg2OTcyNzhkN2E2ID0gJChgPGRpdiBpZD0iaHRtbF9lZmNjNDQzMmVjYTU0ZGM5YmMxNDQ4Njk3Mjc4ZDdhNiIgc3R5bGU9IndpZHRoOiAxMDAuMCU7IGhlaWdodDogMTAwLjAlOyI+Ymx1ZTwvZGl2PmApWzBdOwogICAgICAgICAgICBwb3B1cF9hYWY3YTUwYmNlZDU0ZjljOWEzMWE4Yjk3Y2VmNTg3NC5zZXRDb250ZW50KGh0bWxfZWZjYzQ0MzJlY2E1NGRjOWJjMTQ0ODY5NzI3OGQ3YTYpOwogICAgICAgIAoKICAgICAgICBjaXJjbGVfbWFya2VyX2FhODE1MWY4OGIyZjQyYmFiY2I5YTE4Mzk4ZDFlNmVhLmJpbmRQb3B1cChwb3B1cF9hYWY3YTUwYmNlZDU0ZjljOWEzMWE4Yjk3Y2VmNTg3NCkKICAgICAgICA7CgogICAgICAgIAogICAgCiAgICAKICAgICAgICAgICAgdmFyIGNpcmNsZV9tYXJrZXJfNmExNzE2ZmNkZmZmNDgyZmE4NWQ2ZTQyOTdmY2VlMzMgPSBMLmNpcmNsZU1hcmtlcigKICAgICAgICAgICAgICAgIFszNy44NjgwNDYsIC0xMjIuMjU2MDkzOTk5OTk5OTldLAogICAgICAgICAgICAgICAgeyJidWJibGluZ01vdXNlRXZlbnRzIjogdHJ1ZSwgImNvbG9yIjogIiMzMzg4ZmYiLCAiZGFzaEFycmF5IjogbnVsbCwgImRhc2hPZmZzZXQiOiBudWxsLCAiZmlsbCI6IHRydWUsICJmaWxsQ29sb3IiOiAiYmx1ZSIsICJmaWxsT3BhY2l0eSI6IDEsICJmaWxsUnVsZSI6ICJldmVub2RkIiwgImxpbmVDYXAiOiAicm91bmQiLCAibGluZUpvaW4iOiAicm91bmQiLCAib3BhY2l0eSI6IDEuMCwgInJhZGl1cyI6IDUsICJzdHJva2UiOiB0cnVlLCAid2VpZ2h0IjogM30KICAgICAgICAgICAgKS5hZGRUbyhtYXBfZTY3ZGMzNWU5MTkyNGRhMWJjNDRjOTJiNjlkNTIxOTkpOwogICAgICAgIAogICAgCiAgICAgICAgdmFyIHBvcHVwXzgwNGRhNzBmODk3NzQxMDliOTQyYzBkMjU1MjYzZjI3ID0gTC5wb3B1cCh7Im1heFdpZHRoIjogIjEwMCUifSk7CgogICAgICAgIAogICAgICAgICAgICB2YXIgaHRtbF8zNDc2ZmI4ZmM5NDg0ZDc5YTkzMTA2YWQyN2VjNGJiMSA9ICQoYDxkaXYgaWQ9Imh0bWxfMzQ3NmZiOGZjOTQ4NGQ3OWE5MzEwNmFkMjdlYzRiYjEiIHN0eWxlPSJ3aWR0aDogMTAwLjAlOyBoZWlnaHQ6IDEwMC4wJTsiPmJsdWU8L2Rpdj5gKVswXTsKICAgICAgICAgICAgcG9wdXBfODA0ZGE3MGY4OTc3NDEwOWI5NDJjMGQyNTUyNjNmMjcuc2V0Q29udGVudChodG1sXzM0NzZmYjhmYzk0ODRkNzlhOTMxMDZhZDI3ZWM0YmIxKTsKICAgICAgICAKCiAgICAgICAgY2lyY2xlX21hcmtlcl82YTE3MTZmY2RmZmY0ODJmYTg1ZDZlNDI5N2ZjZWUzMy5iaW5kUG9wdXAocG9wdXBfODA0ZGE3MGY4OTc3NDEwOWI5NDJjMGQyNTUyNjNmMjcpCiAgICAgICAgOwoKICAgICAgICAKICAgIAogICAgCiAgICAgICAgICAgIHZhciBjaXJjbGVfbWFya2VyX2ViNTVlNGYzYmUzYjRmNTk5NDU3Y2YxOWMyOWE0YTFmID0gTC5jaXJjbGVNYXJrZXIoCiAgICAgICAgICAgICAgICBbMzcuODY3OTI4MDAwMDAwMDA2LCAtMTIyLjI1NDc1MzAwMDAwMDAxXSwKICAgICAgICAgICAgICAgIHsiYnViYmxpbmdNb3VzZUV2ZW50cyI6IHRydWUsICJjb2xvciI6ICIjMzM4OGZmIiwgImRhc2hBcnJheSI6IG51bGwsICJkYXNoT2Zmc2V0IjogbnVsbCwgImZpbGwiOiB0cnVlLCAiZmlsbENvbG9yIjogImJsdWUiLCAiZmlsbE9wYWNpdHkiOiAxLCAiZmlsbFJ1bGUiOiAiZXZlbm9kZCIsICJsaW5lQ2FwIjogInJvdW5kIiwgImxpbmVKb2luIjogInJvdW5kIiwgIm9wYWNpdHkiOiAxLjAsICJyYWRpdXMiOiA1LCAic3Ryb2tlIjogdHJ1ZSwgIndlaWdodCI6IDN9CiAgICAgICAgICAgICkuYWRkVG8obWFwX2U2N2RjMzVlOTE5MjRkYTFiYzQ0YzkyYjY5ZDUyMTk5KTsKICAgICAgICAKICAgIAogICAgICAgIHZhciBwb3B1cF9mNTRmMzYwNWJmYjA0ODRhOTMzMjFmNGIzYThjYTVhMiA9IEwucG9wdXAoeyJtYXhXaWR0aCI6ICIxMDAlIn0pOwoKICAgICAgICAKICAgICAgICAgICAgdmFyIGh0bWxfYWVjZGNjMjY5MDJiNDkxM2E3Yjk5NTk4NWJhNmMzY2QgPSAkKGA8ZGl2IGlkPSJodG1sX2FlY2RjYzI2OTAyYjQ5MTNhN2I5OTU5ODViYTZjM2NkIiBzdHlsZT0id2lkdGg6IDEwMC4wJTsgaGVpZ2h0OiAxMDAuMCU7Ij5ibHVlPC9kaXY+YClbMF07CiAgICAgICAgICAgIHBvcHVwX2Y1NGYzNjA1YmZiMDQ4NGE5MzMyMWY0YjNhOGNhNWEyLnNldENvbnRlbnQoaHRtbF9hZWNkY2MyNjkwMmI0OTEzYTdiOTk1OTg1YmE2YzNjZCk7CiAgICAgICAgCgogICAgICAgIGNpcmNsZV9tYXJrZXJfZWI1NWU0ZjNiZTNiNGY1OTk0NTdjZjE5YzI5YTRhMWYuYmluZFBvcHVwKHBvcHVwX2Y1NGYzNjA1YmZiMDQ4NGE5MzMyMWY0YjNhOGNhNWEyKQogICAgICAgIDsKCiAgICAgICAgCiAgICAKICAgIAogICAgICAgICAgICB2YXIgY2lyY2xlX21hcmtlcl9jMmZhZDc4YWVmZDE0NjJjYTJjODBiMjQ1ZjhjZmYyYSA9IEwuY2lyY2xlTWFya2VyKAogICAgICAgICAgICAgICAgWzM3Ljg2NjgxMSwgLTEyMi4yNTQxNThdLAogICAgICAgICAgICAgICAgeyJidWJibGluZ01vdXNlRXZlbnRzIjogdHJ1ZSwgImNvbG9yIjogIiMzMzg4ZmYiLCAiZGFzaEFycmF5IjogbnVsbCwgImRhc2hPZmZzZXQiOiBudWxsLCAiZmlsbCI6IHRydWUsICJmaWxsQ29sb3IiOiAiYmx1ZSIsICJmaWxsT3BhY2l0eSI6IDEsICJmaWxsUnVsZSI6ICJldmVub2RkIiwgImxpbmVDYXAiOiAicm91bmQiLCAibGluZUpvaW4iOiAicm91bmQiLCAib3BhY2l0eSI6IDEuMCwgInJhZGl1cyI6IDUsICJzdHJva2UiOiB0cnVlLCAid2VpZ2h0IjogM30KICAgICAgICAgICAgKS5hZGRUbyhtYXBfZTY3ZGMzNWU5MTkyNGRhMWJjNDRjOTJiNjlkNTIxOTkpOwogICAgICAgIAogICAgCiAgICAgICAgdmFyIHBvcHVwXzc0YzNiMmRmN2RiOTQzMjI5YmZhZTY3NmIxMzJlNGY4ID0gTC5wb3B1cCh7Im1heFdpZHRoIjogIjEwMCUifSk7CgogICAgICAgIAogICAgICAgICAgICB2YXIgaHRtbF85NWJmM2JiYWRiZTU0NDc4YjMxYWYyNzY2YjcyMWM3OCA9ICQoYDxkaXYgaWQ9Imh0bWxfOTViZjNiYmFkYmU1NDQ3OGIzMWFmMjc2NmI3MjFjNzgiIHN0eWxlPSJ3aWR0aDogMTAwLjAlOyBoZWlnaHQ6IDEwMC4wJTsiPmJsdWU8L2Rpdj5gKVswXTsKICAgICAgICAgICAgcG9wdXBfNzRjM2IyZGY3ZGI5NDMyMjliZmFlNjc2YjEzMmU0Zjguc2V0Q29udGVudChodG1sXzk1YmYzYmJhZGJlNTQ0NzhiMzFhZjI3NjZiNzIxYzc4KTsKICAgICAgICAKCiAgICAgICAgY2lyY2xlX21hcmtlcl9jMmZhZDc4YWVmZDE0NjJjYTJjODBiMjQ1ZjhjZmYyYS5iaW5kUG9wdXAocG9wdXBfNzRjM2IyZGY3ZGI5NDMyMjliZmFlNjc2YjEzMmU0ZjgpCiAgICAgICAgOwoKICAgICAgICAKICAgIAogICAgCiAgICAgICAgICAgIHZhciBjaXJjbGVfbWFya2VyX2EwNzU2ODIxYTYyMjRjYzY4OGVhZTcwYzg2MjI0ZTc5ID0gTC5jaXJjbGVNYXJrZXIoCiAgICAgICAgICAgICAgICBbMzcuODY3MjIyOTk5OTk5OTk2LCAtMTIyLjI1OTc0M10sCiAgICAgICAgICAgICAgICB7ImJ1YmJsaW5nTW91c2VFdmVudHMiOiB0cnVlLCAiY29sb3IiOiAiIzMzODhmZiIsICJkYXNoQXJyYXkiOiBudWxsLCAiZGFzaE9mZnNldCI6IG51bGwsICJmaWxsIjogdHJ1ZSwgImZpbGxDb2xvciI6ICJibHVlIiwgImZpbGxPcGFjaXR5IjogMSwgImZpbGxSdWxlIjogImV2ZW5vZGQiLCAibGluZUNhcCI6ICJyb3VuZCIsICJsaW5lSm9pbiI6ICJyb3VuZCIsICJvcGFjaXR5IjogMS4wLCAicmFkaXVzIjogNSwgInN0cm9rZSI6IHRydWUsICJ3ZWlnaHQiOiAzfQogICAgICAgICAgICApLmFkZFRvKG1hcF9lNjdkYzM1ZTkxOTI0ZGExYmM0NGM5MmI2OWQ1MjE5OSk7CiAgICAgICAgCiAgICAKICAgICAgICB2YXIgcG9wdXBfZDBiYjcxM2MyMTU3NDM4YWE0NGRlZjI0MzYzNzQ3NTUgPSBMLnBvcHVwKHsibWF4V2lkdGgiOiAiMTAwJSJ9KTsKCiAgICAgICAgCiAgICAgICAgICAgIHZhciBodG1sX2Y1MWQxMDlhM2UxNzQ4M2RiMTMxNjc1YWU1OTc1NjM4ID0gJChgPGRpdiBpZD0iaHRtbF9mNTFkMTA5YTNlMTc0ODNkYjEzMTY3NWFlNTk3NTYzOCIgc3R5bGU9IndpZHRoOiAxMDAuMCU7IGhlaWdodDogMTAwLjAlOyI+Ymx1ZTwvZGl2PmApWzBdOwogICAgICAgICAgICBwb3B1cF9kMGJiNzEzYzIxNTc0MzhhYTQ0ZGVmMjQzNjM3NDc1NS5zZXRDb250ZW50KGh0bWxfZjUxZDEwOWEzZTE3NDgzZGIxMzE2NzVhZTU5NzU2MzgpOwogICAgICAgIAoKICAgICAgICBjaXJjbGVfbWFya2VyX2EwNzU2ODIxYTYyMjRjYzY4OGVhZTcwYzg2MjI0ZTc5LmJpbmRQb3B1cChwb3B1cF9kMGJiNzEzYzIxNTc0MzhhYTQ0ZGVmMjQzNjM3NDc1NSkKICAgICAgICA7CgogICAgICAgIAogICAgCiAgICAKICAgICAgICAgICAgdmFyIGNpcmNsZV9tYXJrZXJfMGJmMzY3NjliMWRhNGJiM2IyZGU0OTU4MjA2NTkyZGUgPSBMLmNpcmNsZU1hcmtlcigKICAgICAgICAgICAgICAgIFszNy44NzQwNDE5OTk5OTk5OTYsIC0xMjIuMjU1MzQ5XSwKICAgICAgICAgICAgICAgIHsiYnViYmxpbmdNb3VzZUV2ZW50cyI6IHRydWUsICJjb2xvciI6ICIjMzM4OGZmIiwgImRhc2hBcnJheSI6IG51bGwsICJkYXNoT2Zmc2V0IjogbnVsbCwgImZpbGwiOiB0cnVlLCAiZmlsbENvbG9yIjogImJsdWUiLCAiZmlsbE9wYWNpdHkiOiAxLCAiZmlsbFJ1bGUiOiAiZXZlbm9kZCIsICJsaW5lQ2FwIjogInJvdW5kIiwgImxpbmVKb2luIjogInJvdW5kIiwgIm9wYWNpdHkiOiAxLjAsICJyYWRpdXMiOiA1LCAic3Ryb2tlIjogdHJ1ZSwgIndlaWdodCI6IDN9CiAgICAgICAgICAgICkuYWRkVG8obWFwX2U2N2RjMzVlOTE5MjRkYTFiYzQ0YzkyYjY5ZDUyMTk5KTsKICAgICAgICAKICAgIAogICAgICAgIHZhciBwb3B1cF9kYzNhNmU0NWMwMzQ0ZjBhYjFjNTgwMzQ4YjcxZGQ5ZiA9IEwucG9wdXAoeyJtYXhXaWR0aCI6ICIxMDAlIn0pOwoKICAgICAgICAKICAgICAgICAgICAgdmFyIGh0bWxfODVkZDc1ZmZkZWY1NDI1NTg0ZTU1NGQ2NzcxMDMyNGQgPSAkKGA8ZGl2IGlkPSJodG1sXzg1ZGQ3NWZmZGVmNTQyNTU4NGU1NTRkNjc3MTAzMjRkIiBzdHlsZT0id2lkdGg6IDEwMC4wJTsgaGVpZ2h0OiAxMDAuMCU7Ij5ibHVlPC9kaXY+YClbMF07CiAgICAgICAgICAgIHBvcHVwX2RjM2E2ZTQ1YzAzNDRmMGFiMWM1ODAzNDhiNzFkZDlmLnNldENvbnRlbnQoaHRtbF84NWRkNzVmZmRlZjU0MjU1ODRlNTU0ZDY3NzEwMzI0ZCk7CiAgICAgICAgCgogICAgICAgIGNpcmNsZV9tYXJrZXJfMGJmMzY3NjliMWRhNGJiM2IyZGU0OTU4MjA2NTkyZGUuYmluZFBvcHVwKHBvcHVwX2RjM2E2ZTQ1YzAzNDRmMGFiMWM1ODAzNDhiNzFkZDlmKQogICAgICAgIDsKCiAgICAgICAgCiAgICAKICAgIAogICAgICAgICAgICB2YXIgY2lyY2xlX21hcmtlcl9lMzQ1Y2NlZTcwYWI0NTNiYjY2ODc1OTNiYWJhODVkNyA9IEwuY2lyY2xlTWFya2VyKAogICAgICAgICAgICAgICAgWzM3Ljg2MjU3ODAwMDAwMDAwNiwgLTEyMi4yNTEwM10sCiAgICAgICAgICAgICAgICB7ImJ1YmJsaW5nTW91c2VFdmVudHMiOiB0cnVlLCAiY29sb3IiOiAiIzMzODhmZiIsICJkYXNoQXJyYXkiOiBudWxsLCAiZGFzaE9mZnNldCI6IG51bGwsICJmaWxsIjogdHJ1ZSwgImZpbGxDb2xvciI6ICJibHVlIiwgImZpbGxPcGFjaXR5IjogMSwgImZpbGxSdWxlIjogImV2ZW5vZGQiLCAibGluZUNhcCI6ICJyb3VuZCIsICJsaW5lSm9pbiI6ICJyb3VuZCIsICJvcGFjaXR5IjogMS4wLCAicmFkaXVzIjogNSwgInN0cm9rZSI6IHRydWUsICJ3ZWlnaHQiOiAzfQogICAgICAgICAgICApLmFkZFRvKG1hcF9lNjdkYzM1ZTkxOTI0ZGExYmM0NGM5MmI2OWQ1MjE5OSk7CiAgICAgICAgCiAgICAKICAgICAgICB2YXIgcG9wdXBfNGUzOGRlN2JiMjA1NDNmNmI5MGU1YjI5YTlmZmYwOGQgPSBMLnBvcHVwKHsibWF4V2lkdGgiOiAiMTAwJSJ9KTsKCiAgICAgICAgCiAgICAgICAgICAgIHZhciBodG1sXzc4OTQ2N2Q5ODA1MjQ4NmE4ZDBkNTIxNzRiNjQwMjdlID0gJChgPGRpdiBpZD0iaHRtbF83ODk0NjdkOTgwNTI0ODZhOGQwZDUyMTc0YjY0MDI3ZSIgc3R5bGU9IndpZHRoOiAxMDAuMCU7IGhlaWdodDogMTAwLjAlOyI+Ymx1ZTwvZGl2PmApWzBdOwogICAgICAgICAgICBwb3B1cF80ZTM4ZGU3YmIyMDU0M2Y2YjkwZTViMjlhOWZmZjA4ZC5zZXRDb250ZW50KGh0bWxfNzg5NDY3ZDk4MDUyNDg2YThkMGQ1MjE3NGI2NDAyN2UpOwogICAgICAgIAoKICAgICAgICBjaXJjbGVfbWFya2VyX2UzNDVjY2VlNzBhYjQ1M2JiNjY4NzU5M2JhYmE4NWQ3LmJpbmRQb3B1cChwb3B1cF80ZTM4ZGU3YmIyMDU0M2Y2YjkwZTViMjlhOWZmZjA4ZCkKICAgICAgICA7CgogICAgICAgIAogICAgCiAgICAKICAgICAgICAgICAgdmFyIGNpcmNsZV9tYXJrZXJfNzc5MTIyNDA0ZTAwNDJhMjg3MWIzNGQyMmRiYjRkYWUgPSBMLmNpcmNsZU1hcmtlcigKICAgICAgICAgICAgICAgIFszNy44NjQyODMsIC0xMjIuMjY1MDMwMDAwMDAwMDFdLAogICAgICAgICAgICAgICAgeyJidWJibGluZ01vdXNlRXZlbnRzIjogdHJ1ZSwgImNvbG9yIjogIiMzMzg4ZmYiLCAiZGFzaEFycmF5IjogbnVsbCwgImRhc2hPZmZzZXQiOiBudWxsLCAiZmlsbCI6IHRydWUsICJmaWxsQ29sb3IiOiAiYmx1ZSIsICJmaWxsT3BhY2l0eSI6IDEsICJmaWxsUnVsZSI6ICJldmVub2RkIiwgImxpbmVDYXAiOiAicm91bmQiLCAibGluZUpvaW4iOiAicm91bmQiLCAib3BhY2l0eSI6IDEuMCwgInJhZGl1cyI6IDUsICJzdHJva2UiOiB0cnVlLCAid2VpZ2h0IjogM30KICAgICAgICAgICAgKS5hZGRUbyhtYXBfZTY3ZGMzNWU5MTkyNGRhMWJjNDRjOTJiNjlkNTIxOTkpOwogICAgICAgIAogICAgCiAgICAgICAgdmFyIHBvcHVwXzAzMzljNzczZmJkMzQyZGQ4OWY4YTU3ZWY2NzMwMzA1ID0gTC5wb3B1cCh7Im1heFdpZHRoIjogIjEwMCUifSk7CgogICAgICAgIAogICAgICAgICAgICB2YXIgaHRtbF9hNDAyMzhjZWQ5NWE0NzRmODgzOTU2MDNmNThkOGE2YyA9ICQoYDxkaXYgaWQ9Imh0bWxfYTQwMjM4Y2VkOTVhNDc0Zjg4Mzk1NjAzZjU4ZDhhNmMiIHN0eWxlPSJ3aWR0aDogMTAwLjAlOyBoZWlnaHQ6IDEwMC4wJTsiPmJsdWU8L2Rpdj5gKVswXTsKICAgICAgICAgICAgcG9wdXBfMDMzOWM3NzNmYmQzNDJkZDg5ZjhhNTdlZjY3MzAzMDUuc2V0Q29udGVudChodG1sX2E0MDIzOGNlZDk1YTQ3NGY4ODM5NTYwM2Y1OGQ4YTZjKTsKICAgICAgICAKCiAgICAgICAgY2lyY2xlX21hcmtlcl83NzkxMjI0MDRlMDA0MmEyODcxYjM0ZDIyZGJiNGRhZS5iaW5kUG9wdXAocG9wdXBfMDMzOWM3NzNmYmQzNDJkZDg5ZjhhNTdlZjY3MzAzMDUpCiAgICAgICAgOwoKICAgICAgICAKICAgIAogICAgCiAgICAgICAgICAgIHZhciBjaXJjbGVfbWFya2VyXzJmODUxMGM4NDM4YzRhZjliNmM3NWZkNGJkOGMyNWEyID0gTC5jaXJjbGVNYXJrZXIoCiAgICAgICAgICAgICAgICBbMzcuODc3MTU3MDAwMDAwMDA0LCAtMTIyLjI2NDg4MV0sCiAgICAgICAgICAgICAgICB7ImJ1YmJsaW5nTW91c2VFdmVudHMiOiB0cnVlLCAiY29sb3IiOiAiIzMzODhmZiIsICJkYXNoQXJyYXkiOiBudWxsLCAiZGFzaE9mZnNldCI6IG51bGwsICJmaWxsIjogdHJ1ZSwgImZpbGxDb2xvciI6ICJibHVlIiwgImZpbGxPcGFjaXR5IjogMSwgImZpbGxSdWxlIjogImV2ZW5vZGQiLCAibGluZUNhcCI6ICJyb3VuZCIsICJsaW5lSm9pbiI6ICJyb3VuZCIsICJvcGFjaXR5IjogMS4wLCAicmFkaXVzIjogNSwgInN0cm9rZSI6IHRydWUsICJ3ZWlnaHQiOiAzfQogICAgICAgICAgICApLmFkZFRvKG1hcF9lNjdkYzM1ZTkxOTI0ZGExYmM0NGM5MmI2OWQ1MjE5OSk7CiAgICAgICAgCiAgICAKICAgICAgICB2YXIgcG9wdXBfMDUyNjM1ZjYyODBhNGJhZWFjYzQ2MGRjNmRkNTNlYjAgPSBMLnBvcHVwKHsibWF4V2lkdGgiOiAiMTAwJSJ9KTsKCiAgICAgICAgCiAgICAgICAgICAgIHZhciBodG1sX2U5Y2MxZjE3MjNlYTQ0MzBiZTZjZTM5MzkzZDAwN2QzID0gJChgPGRpdiBpZD0iaHRtbF9lOWNjMWYxNzIzZWE0NDMwYmU2Y2UzOTM5M2QwMDdkMyIgc3R5bGU9IndpZHRoOiAxMDAuMCU7IGhlaWdodDogMTAwLjAlOyI+Ymx1ZTwvZGl2PmApWzBdOwogICAgICAgICAgICBwb3B1cF8wNTI2MzVmNjI4MGE0YmFlYWNjNDYwZGM2ZGQ1M2ViMC5zZXRDb250ZW50KGh0bWxfZTljYzFmMTcyM2VhNDQzMGJlNmNlMzkzOTNkMDA3ZDMpOwogICAgICAgIAoKICAgICAgICBjaXJjbGVfbWFya2VyXzJmODUxMGM4NDM4YzRhZjliNmM3NWZkNGJkOGMyNWEyLmJpbmRQb3B1cChwb3B1cF8wNTI2MzVmNjI4MGE0YmFlYWNjNDYwZGM2ZGQ1M2ViMCkKICAgICAgICA7CgogICAgICAgIAogICAgCiAgICAKICAgICAgICAgICAgdmFyIGNpcmNsZV9tYXJrZXJfYmFlYmNlZmY1OTVjNDcwMWI5MWUwYTJhMTMxNWYzMzYgPSBMLmNpcmNsZU1hcmtlcigKICAgICAgICAgICAgICAgIFszNy44Njg1NzUsIC0xMjIuMjc0MTE1XSwKICAgICAgICAgICAgICAgIHsiYnViYmxpbmdNb3VzZUV2ZW50cyI6IHRydWUsICJjb2xvciI6ICIjMzM4OGZmIiwgImRhc2hBcnJheSI6IG51bGwsICJkYXNoT2Zmc2V0IjogbnVsbCwgImZpbGwiOiB0cnVlLCAiZmlsbENvbG9yIjogImJsdWUiLCAiZmlsbE9wYWNpdHkiOiAxLCAiZmlsbFJ1bGUiOiAiZXZlbm9kZCIsICJsaW5lQ2FwIjogInJvdW5kIiwgImxpbmVKb2luIjogInJvdW5kIiwgIm9wYWNpdHkiOiAxLjAsICJyYWRpdXMiOiA1LCAic3Ryb2tlIjogdHJ1ZSwgIndlaWdodCI6IDN9CiAgICAgICAgICAgICkuYWRkVG8obWFwX2U2N2RjMzVlOTE5MjRkYTFiYzQ0YzkyYjY5ZDUyMTk5KTsKICAgICAgICAKICAgIAogICAgICAgIHZhciBwb3B1cF8zNmMxZDE0OGMxODc0OWIyOTUzYjk2NzEzM2U4ODEwOCA9IEwucG9wdXAoeyJtYXhXaWR0aCI6ICIxMDAlIn0pOwoKICAgICAgICAKICAgICAgICAgICAgdmFyIGh0bWxfOTJmYzlmNTdjNjc0NDQ4YmEyNTk3NzhiNjIyODlmNjUgPSAkKGA8ZGl2IGlkPSJodG1sXzkyZmM5ZjU3YzY3NDQ0OGJhMjU5Nzc4YjYyMjg5ZjY1IiBzdHlsZT0id2lkdGg6IDEwMC4wJTsgaGVpZ2h0OiAxMDAuMCU7Ij5ibHVlPC9kaXY+YClbMF07CiAgICAgICAgICAgIHBvcHVwXzM2YzFkMTQ4YzE4NzQ5YjI5NTNiOTY3MTMzZTg4MTA4LnNldENvbnRlbnQoaHRtbF85MmZjOWY1N2M2NzQ0NDhiYTI1OTc3OGI2MjI4OWY2NSk7CiAgICAgICAgCgogICAgICAgIGNpcmNsZV9tYXJrZXJfYmFlYmNlZmY1OTVjNDcwMWI5MWUwYTJhMTMxNWYzMzYuYmluZFBvcHVwKHBvcHVwXzM2YzFkMTQ4YzE4NzQ5YjI5NTNiOTY3MTMzZTg4MTA4KQogICAgICAgIDsKCiAgICAgICAgCiAgICAKICAgIAogICAgICAgICAgICB2YXIgY2lyY2xlX21hcmtlcl9mODM1ZmE1NDI1NmI0MmIwYTBmYmYzYzY4MzhhMmFjNSA9IEwuY2lyY2xlTWFya2VyKAogICAgICAgICAgICAgICAgWzM3Ljg2NzYzNCwgLTEyMi4yNTc4ODEwMDAwMDAwMV0sCiAgICAgICAgICAgICAgICB7ImJ1YmJsaW5nTW91c2VFdmVudHMiOiB0cnVlLCAiY29sb3IiOiAiIzMzODhmZiIsICJkYXNoQXJyYXkiOiBudWxsLCAiZGFzaE9mZnNldCI6IG51bGwsICJmaWxsIjogdHJ1ZSwgImZpbGxDb2xvciI6ICJibHVlIiwgImZpbGxPcGFjaXR5IjogMSwgImZpbGxSdWxlIjogImV2ZW5vZGQiLCAibGluZUNhcCI6ICJyb3VuZCIsICJsaW5lSm9pbiI6ICJyb3VuZCIsICJvcGFjaXR5IjogMS4wLCAicmFkaXVzIjogNSwgInN0cm9rZSI6IHRydWUsICJ3ZWlnaHQiOiAzfQogICAgICAgICAgICApLmFkZFRvKG1hcF9lNjdkYzM1ZTkxOTI0ZGExYmM0NGM5MmI2OWQ1MjE5OSk7CiAgICAgICAgCiAgICAKICAgICAgICB2YXIgcG9wdXBfODY4OTVmZjNjZmM4NDNhMzliYjU4NjkwZTYxYWNhZGEgPSBMLnBvcHVwKHsibWF4V2lkdGgiOiAiMTAwJSJ9KTsKCiAgICAgICAgCiAgICAgICAgICAgIHZhciBodG1sX2E5OWUxYTliNWMyNzRiMjY5MThhNTYyMmVmZTAxMDA0ID0gJChgPGRpdiBpZD0iaHRtbF9hOTllMWE5YjVjMjc0YjI2OTE4YTU2MjJlZmUwMTAwNCIgc3R5bGU9IndpZHRoOiAxMDAuMCU7IGhlaWdodDogMTAwLjAlOyI+Ymx1ZTwvZGl2PmApWzBdOwogICAgICAgICAgICBwb3B1cF84Njg5NWZmM2NmYzg0M2EzOWJiNTg2OTBlNjFhY2FkYS5zZXRDb250ZW50KGh0bWxfYTk5ZTFhOWI1YzI3NGIyNjkxOGE1NjIyZWZlMDEwMDQpOwogICAgICAgIAoKICAgICAgICBjaXJjbGVfbWFya2VyX2Y4MzVmYTU0MjU2YjQyYjBhMGZiZjNjNjgzOGEyYWM1LmJpbmRQb3B1cChwb3B1cF84Njg5NWZmM2NmYzg0M2EzOWJiNTg2OTBlNjFhY2FkYSkKICAgICAgICA7CgogICAgICAgIAogICAgCiAgICAKICAgICAgICAgICAgdmFyIGNpcmNsZV9tYXJrZXJfZThmNWI5MThhNmY1NGU5NWE1ZTY5YmZmNjQyYjdkYzYgPSBMLmNpcmNsZU1hcmtlcigKICAgICAgICAgICAgICAgIFszNy44NzcwMzksIC0xMjIuMjY3NjM2MDAwMDAwMDFdLAogICAgICAgICAgICAgICAgeyJidWJibGluZ01vdXNlRXZlbnRzIjogdHJ1ZSwgImNvbG9yIjogIiMzMzg4ZmYiLCAiZGFzaEFycmF5IjogbnVsbCwgImRhc2hPZmZzZXQiOiBudWxsLCAiZmlsbCI6IHRydWUsICJmaWxsQ29sb3IiOiAiYmx1ZSIsICJmaWxsT3BhY2l0eSI6IDEsICJmaWxsUnVsZSI6ICJldmVub2RkIiwgImxpbmVDYXAiOiAicm91bmQiLCAibGluZUpvaW4iOiAicm91bmQiLCAib3BhY2l0eSI6IDEuMCwgInJhZGl1cyI6IDUsICJzdHJva2UiOiB0cnVlLCAid2VpZ2h0IjogM30KICAgICAgICAgICAgKS5hZGRUbyhtYXBfZTY3ZGMzNWU5MTkyNGRhMWJjNDRjOTJiNjlkNTIxOTkpOwogICAgICAgIAogICAgCiAgICAgICAgdmFyIHBvcHVwX2Y3YTk1NzhhMDA2MzRkMDc5MzUzOWE1M2VjM2E5NWRjID0gTC5wb3B1cCh7Im1heFdpZHRoIjogIjEwMCUifSk7CgogICAgICAgIAogICAgICAgICAgICB2YXIgaHRtbF9lZWQyOGE2Y2JlODc0ZmI1YTk1MDJiY2NmYWRmMzMwMCA9ICQoYDxkaXYgaWQ9Imh0bWxfZWVkMjhhNmNiZTg3NGZiNWE5NTAyYmNjZmFkZjMzMDAiIHN0eWxlPSJ3aWR0aDogMTAwLjAlOyBoZWlnaHQ6IDEwMC4wJTsiPmJsdWU8L2Rpdj5gKVswXTsKICAgICAgICAgICAgcG9wdXBfZjdhOTU3OGEwMDYzNGQwNzkzNTM5YTUzZWMzYTk1ZGMuc2V0Q29udGVudChodG1sX2VlZDI4YTZjYmU4NzRmYjVhOTUwMmJjY2ZhZGYzMzAwKTsKICAgICAgICAKCiAgICAgICAgY2lyY2xlX21hcmtlcl9lOGY1YjkxOGE2ZjU0ZTk1YTVlNjliZmY2NDJiN2RjNi5iaW5kUG9wdXAocG9wdXBfZjdhOTU3OGEwMDYzNGQwNzkzNTM5YTUzZWMzYTk1ZGMpCiAgICAgICAgOwoKICAgICAgICAKICAgIAogICAgCiAgICAgICAgICAgIHZhciBjaXJjbGVfbWFya2VyX2MwNjJmY2ExM2M0ODQ2NGViNGU0OWUxMmNkNjA4MWI3ID0gTC5jaXJjbGVNYXJrZXIoCiAgICAgICAgICAgICAgICBbMzcuODY4NTE2LCAtMTIyLjI3MTQzNDAwMDAwMDAxXSwKICAgICAgICAgICAgICAgIHsiYnViYmxpbmdNb3VzZUV2ZW50cyI6IHRydWUsICJjb2xvciI6ICIjMzM4OGZmIiwgImRhc2hBcnJheSI6IG51bGwsICJkYXNoT2Zmc2V0IjogbnVsbCwgImZpbGwiOiB0cnVlLCAiZmlsbENvbG9yIjogImJsdWUiLCAiZmlsbE9wYWNpdHkiOiAxLCAiZmlsbFJ1bGUiOiAiZXZlbm9kZCIsICJsaW5lQ2FwIjogInJvdW5kIiwgImxpbmVKb2luIjogInJvdW5kIiwgIm9wYWNpdHkiOiAxLjAsICJyYWRpdXMiOiA1LCAic3Ryb2tlIjogdHJ1ZSwgIndlaWdodCI6IDN9CiAgICAgICAgICAgICkuYWRkVG8obWFwX2U2N2RjMzVlOTE5MjRkYTFiYzQ0YzkyYjY5ZDUyMTk5KTsKICAgICAgICAKICAgIAogICAgICAgIHZhciBwb3B1cF9kMmU2ZTkzNmNiMGE0ZWM5ODA1ZTQ4NWJmZjczZWU5ZSA9IEwucG9wdXAoeyJtYXhXaWR0aCI6ICIxMDAlIn0pOwoKICAgICAgICAKICAgICAgICAgICAgdmFyIGh0bWxfZTU4MTNmODUzOTBlNDdiOGJkNDY0YzJhYjczOGVjOTEgPSAkKGA8ZGl2IGlkPSJodG1sX2U1ODEzZjg1MzkwZTQ3YjhiZDQ2NGMyYWI3MzhlYzkxIiBzdHlsZT0id2lkdGg6IDEwMC4wJTsgaGVpZ2h0OiAxMDAuMCU7Ij5ibHVlPC9kaXY+YClbMF07CiAgICAgICAgICAgIHBvcHVwX2QyZTZlOTM2Y2IwYTRlYzk4MDVlNDg1YmZmNzNlZTllLnNldENvbnRlbnQoaHRtbF9lNTgxM2Y4NTM5MGU0N2I4YmQ0NjRjMmFiNzM4ZWM5MSk7CiAgICAgICAgCgogICAgICAgIGNpcmNsZV9tYXJrZXJfYzA2MmZjYTEzYzQ4NDY0ZWI0ZTQ5ZTEyY2Q2MDgxYjcuYmluZFBvcHVwKHBvcHVwX2QyZTZlOTM2Y2IwYTRlYzk4MDVlNDg1YmZmNzNlZTllKQogICAgICAgIDsKCiAgICAgICAgCiAgICAKICAgIAogICAgICAgICAgICB2YXIgY2lyY2xlX21hcmtlcl8xYjdiZTRlNWRmNmI0OTViOWQ2MzRiZjBiNDAxYjFlMSA9IEwuY2lyY2xlTWFya2VyKAogICAgICAgICAgICAgICAgWzM3LjgwMjA5Njk5OTk5OTk5NiwgLTEyMi4yMjI2MjRdLAogICAgICAgICAgICAgICAgeyJidWJibGluZ01vdXNlRXZlbnRzIjogdHJ1ZSwgImNvbG9yIjogIiMzMzg4ZmYiLCAiZGFzaEFycmF5IjogbnVsbCwgImRhc2hPZmZzZXQiOiBudWxsLCAiZmlsbCI6IHRydWUsICJmaWxsQ29sb3IiOiAiYmx1ZSIsICJmaWxsT3BhY2l0eSI6IDEsICJmaWxsUnVsZSI6ICJldmVub2RkIiwgImxpbmVDYXAiOiAicm91bmQiLCAibGluZUpvaW4iOiAicm91bmQiLCAib3BhY2l0eSI6IDEuMCwgInJhZGl1cyI6IDUsICJzdHJva2UiOiB0cnVlLCAid2VpZ2h0IjogM30KICAgICAgICAgICAgKS5hZGRUbyhtYXBfZTY3ZGMzNWU5MTkyNGRhMWJjNDRjOTJiNjlkNTIxOTkpOwogICAgICAgIAogICAgCiAgICAgICAgdmFyIHBvcHVwXzZmMzQ3ODBhZTg3YzQ5YmM4ZGU4ZWNiNTQzNDZlMmIxID0gTC5wb3B1cCh7Im1heFdpZHRoIjogIjEwMCUifSk7CgogICAgICAgIAogICAgICAgICAgICB2YXIgaHRtbF80YThhNDA3Mzg2NjI0YmU2YWM4Yjg5NTI3MjUyMDhiZiA9ICQoYDxkaXYgaWQ9Imh0bWxfNGE4YTQwNzM4NjYyNGJlNmFjOGI4OTUyNzI1MjA4YmYiIHN0eWxlPSJ3aWR0aDogMTAwLjAlOyBoZWlnaHQ6IDEwMC4wJTsiPmJsdWU8L2Rpdj5gKVswXTsKICAgICAgICAgICAgcG9wdXBfNmYzNDc4MGFlODdjNDliYzhkZThlY2I1NDM0NmUyYjEuc2V0Q29udGVudChodG1sXzRhOGE0MDczODY2MjRiZTZhYzhiODk1MjcyNTIwOGJmKTsKICAgICAgICAKCiAgICAgICAgY2lyY2xlX21hcmtlcl8xYjdiZTRlNWRmNmI0OTViOWQ2MzRiZjBiNDAxYjFlMS5iaW5kUG9wdXAocG9wdXBfNmYzNDc4MGFlODdjNDliYzhkZThlY2I1NDM0NmUyYjEpCiAgICAgICAgOwoKICAgICAgICAKICAgIAogICAgCiAgICAgICAgICAgIHZhciBjaXJjbGVfbWFya2VyXzU0OTc2NDg4ZmU5MTQ5OGU5NzA5NTAwNzNkMDkyYTliID0gTC5jaXJjbGVNYXJrZXIoCiAgICAgICAgICAgICAgICBbMzcuNjYwNDgsIC0xMjIuMTIwNjYzXSwKICAgICAgICAgICAgICAgIHsiYnViYmxpbmdNb3VzZUV2ZW50cyI6IHRydWUsICJjb2xvciI6ICIjMzM4OGZmIiwgImRhc2hBcnJheSI6IG51bGwsICJkYXNoT2Zmc2V0IjogbnVsbCwgImZpbGwiOiB0cnVlLCAiZmlsbENvbG9yIjogImJsdWUiLCAiZmlsbE9wYWNpdHkiOiAxLCAiZmlsbFJ1bGUiOiAiZXZlbm9kZCIsICJsaW5lQ2FwIjogInJvdW5kIiwgImxpbmVKb2luIjogInJvdW5kIiwgIm9wYWNpdHkiOiAxLjAsICJyYWRpdXMiOiA1LCAic3Ryb2tlIjogdHJ1ZSwgIndlaWdodCI6IDN9CiAgICAgICAgICAgICkuYWRkVG8obWFwX2U2N2RjMzVlOTE5MjRkYTFiYzQ0YzkyYjY5ZDUyMTk5KTsKICAgICAgICAKICAgIAogICAgICAgIHZhciBwb3B1cF84ZDM4ZjczMDRiYjg0NmE0OGIxZTY3YzI2MTA5ZDU0ZiA9IEwucG9wdXAoeyJtYXhXaWR0aCI6ICIxMDAlIn0pOwoKICAgICAgICAKICAgICAgICAgICAgdmFyIGh0bWxfYTJlOWFjMzhjMzA3NGUxNDkzYzExZmQwZjZjM2VkNTUgPSAkKGA8ZGl2IGlkPSJodG1sX2EyZTlhYzM4YzMwNzRlMTQ5M2MxMWZkMGY2YzNlZDU1IiBzdHlsZT0id2lkdGg6IDEwMC4wJTsgaGVpZ2h0OiAxMDAuMCU7Ij5ibHVlPC9kaXY+YClbMF07CiAgICAgICAgICAgIHBvcHVwXzhkMzhmNzMwNGJiODQ2YTQ4YjFlNjdjMjYxMDlkNTRmLnNldENvbnRlbnQoaHRtbF9hMmU5YWMzOGMzMDc0ZTE0OTNjMTFmZDBmNmMzZWQ1NSk7CiAgICAgICAgCgogICAgICAgIGNpcmNsZV9tYXJrZXJfNTQ5NzY0ODhmZTkxNDk4ZTk3MDk1MDA3M2QwOTJhOWIuYmluZFBvcHVwKHBvcHVwXzhkMzhmNzMwNGJiODQ2YTQ4YjFlNjdjMjYxMDlkNTRmKQogICAgICAgIDsKCiAgICAgICAgCiAgICAKICAgIAogICAgICAgICAgICB2YXIgY2lyY2xlX21hcmtlcl9iZDJkMTlkYzQ3ZGM0YjFmYjUzOWUwMDJiYzZhNzM4YiA9IEwuY2lyY2xlTWFya2VyKAogICAgICAgICAgICAgICAgWzM3LjkyNjEwNSwgLTEyMi4wOTQ5MTZdLAogICAgICAgICAgICAgICAgeyJidWJibGluZ01vdXNlRXZlbnRzIjogdHJ1ZSwgImNvbG9yIjogIiMzMzg4ZmYiLCAiZGFzaEFycmF5IjogbnVsbCwgImRhc2hPZmZzZXQiOiBudWxsLCAiZmlsbCI6IHRydWUsICJmaWxsQ29sb3IiOiAiYmx1ZSIsICJmaWxsT3BhY2l0eSI6IDEsICJmaWxsUnVsZSI6ICJldmVub2RkIiwgImxpbmVDYXAiOiAicm91bmQiLCAibGluZUpvaW4iOiAicm91bmQiLCAib3BhY2l0eSI6IDEuMCwgInJhZGl1cyI6IDUsICJzdHJva2UiOiB0cnVlLCAid2VpZ2h0IjogM30KICAgICAgICAgICAgKS5hZGRUbyhtYXBfZTY3ZGMzNWU5MTkyNGRhMWJjNDRjOTJiNjlkNTIxOTkpOwogICAgICAgIAogICAgCiAgICAgICAgdmFyIHBvcHVwXzQwYjc4NTgyYzk5ODRjOTBiZTgxMDM1MWI3NWU4NGM3ID0gTC5wb3B1cCh7Im1heFdpZHRoIjogIjEwMCUifSk7CgogICAgICAgIAogICAgICAgICAgICB2YXIgaHRtbF81MTgyODcxZGYwYjc0OWJkYmI2N2Q0MmE4ZDEyM2JlMSA9ICQoYDxkaXYgaWQ9Imh0bWxfNTE4Mjg3MWRmMGI3NDliZGJiNjdkNDJhOGQxMjNiZTEiIHN0eWxlPSJ3aWR0aDogMTAwLjAlOyBoZWlnaHQ6IDEwMC4wJTsiPmJsdWU8L2Rpdj5gKVswXTsKICAgICAgICAgICAgcG9wdXBfNDBiNzg1ODJjOTk4NGM5MGJlODEwMzUxYjc1ZTg0Yzcuc2V0Q29udGVudChodG1sXzUxODI4NzFkZjBiNzQ5YmRiYjY3ZDQyYThkMTIzYmUxKTsKICAgICAgICAKCiAgICAgICAgY2lyY2xlX21hcmtlcl9iZDJkMTlkYzQ3ZGM0YjFmYjUzOWUwMDJiYzZhNzM4Yi5iaW5kUG9wdXAocG9wdXBfNDBiNzg1ODJjOTk4NGM5MGJlODEwMzUxYjc1ZTg0YzcpCiAgICAgICAgOwoKICAgICAgICAKICAgIAogICAgCiAgICAgICAgICAgIHZhciBjaXJjbGVfbWFya2VyXzNmNzFiZTIxOWExYjRlYTQ5YmYxY2EwM2E0ODlkNmM5ID0gTC5jaXJjbGVNYXJrZXIoCiAgICAgICAgICAgICAgICBbMzcuNzUyMTQ0LCAtMTIyLjQzOTYzNzk5OTk5OTk5XSwKICAgICAgICAgICAgICAgIHsiYnViYmxpbmdNb3VzZUV2ZW50cyI6IHRydWUsICJjb2xvciI6ICIjMzM4OGZmIiwgImRhc2hBcnJheSI6IG51bGwsICJkYXNoT2Zmc2V0IjogbnVsbCwgImZpbGwiOiB0cnVlLCAiZmlsbENvbG9yIjogImJsdWUiLCAiZmlsbE9wYWNpdHkiOiAxLCAiZmlsbFJ1bGUiOiAiZXZlbm9kZCIsICJsaW5lQ2FwIjogInJvdW5kIiwgImxpbmVKb2luIjogInJvdW5kIiwgIm9wYWNpdHkiOiAxLjAsICJyYWRpdXMiOiA1LCAic3Ryb2tlIjogdHJ1ZSwgIndlaWdodCI6IDN9CiAgICAgICAgICAgICkuYWRkVG8obWFwX2U2N2RjMzVlOTE5MjRkYTFiYzQ0YzkyYjY5ZDUyMTk5KTsKICAgICAgICAKICAgIAogICAgICAgIHZhciBwb3B1cF9mMjUzNmQ5ZTQzMDY0NWFmYjhkOTc3MzMzYjJiN2I4NyA9IEwucG9wdXAoeyJtYXhXaWR0aCI6ICIxMDAlIn0pOwoKICAgICAgICAKICAgICAgICAgICAgdmFyIGh0bWxfYWFmMThkNjEzOTUzNDFiYTk1YTM5MTFlYTQ5NDMxMTEgPSAkKGA8ZGl2IGlkPSJodG1sX2FhZjE4ZDYxMzk1MzQxYmE5NWEzOTExZWE0OTQzMTExIiBzdHlsZT0id2lkdGg6IDEwMC4wJTsgaGVpZ2h0OiAxMDAuMCU7Ij5ibHVlPC9kaXY+YClbMF07CiAgICAgICAgICAgIHBvcHVwX2YyNTM2ZDllNDMwNjQ1YWZiOGQ5NzczMzNiMmI3Yjg3LnNldENvbnRlbnQoaHRtbF9hYWYxOGQ2MTM5NTM0MWJhOTVhMzkxMWVhNDk0MzExMSk7CiAgICAgICAgCgogICAgICAgIGNpcmNsZV9tYXJrZXJfM2Y3MWJlMjE5YTFiNGVhNDliZjFjYTAzYTQ4OWQ2YzkuYmluZFBvcHVwKHBvcHVwX2YyNTM2ZDllNDMwNjQ1YWZiOGQ5NzczMzNiMmI3Yjg3KQogICAgICAgIDsKCiAgICAgICAgCiAgICAKICAgIAogICAgICAgICAgICB2YXIgY2lyY2xlX21hcmtlcl9jOTAwZDgyMjZjMjU0Y2U4Yjk1Njg3MTNiMmRmYmI5NCA9IEwuY2lyY2xlTWFya2VyKAogICAgICAgICAgICAgICAgWzM3LjQ1NTI0MSwgLTEyMi4xNDkyNzFdLAogICAgICAgICAgICAgICAgeyJidWJibGluZ01vdXNlRXZlbnRzIjogdHJ1ZSwgImNvbG9yIjogIiMzMzg4ZmYiLCAiZGFzaEFycmF5IjogbnVsbCwgImRhc2hPZmZzZXQiOiBudWxsLCAiZmlsbCI6IHRydWUsICJmaWxsQ29sb3IiOiAiYmx1ZSIsICJmaWxsT3BhY2l0eSI6IDEsICJmaWxsUnVsZSI6ICJldmVub2RkIiwgImxpbmVDYXAiOiAicm91bmQiLCAibGluZUpvaW4iOiAicm91bmQiLCAib3BhY2l0eSI6IDEuMCwgInJhZGl1cyI6IDUsICJzdHJva2UiOiB0cnVlLCAid2VpZ2h0IjogM30KICAgICAgICAgICAgKS5hZGRUbyhtYXBfZTY3ZGMzNWU5MTkyNGRhMWJjNDRjOTJiNjlkNTIxOTkpOwogICAgICAgIAogICAgCiAgICAgICAgdmFyIHBvcHVwX2Y1NGQ5YzI2YTBmMDRiNTVhMjUxMmFlZDJhMWI1NGZlID0gTC5wb3B1cCh7Im1heFdpZHRoIjogIjEwMCUifSk7CgogICAgICAgIAogICAgICAgICAgICB2YXIgaHRtbF8zNjg5M2IwZmU5MDA0YmI3YjJhNmU5ZjZlMjEzNGMwZiA9ICQoYDxkaXYgaWQ9Imh0bWxfMzY4OTNiMGZlOTAwNGJiN2IyYTZlOWY2ZTIxMzRjMGYiIHN0eWxlPSJ3aWR0aDogMTAwLjAlOyBoZWlnaHQ6IDEwMC4wJTsiPmJsdWU8L2Rpdj5gKVswXTsKICAgICAgICAgICAgcG9wdXBfZjU0ZDljMjZhMGYwNGI1NWEyNTEyYWVkMmExYjU0ZmUuc2V0Q29udGVudChodG1sXzM2ODkzYjBmZTkwMDRiYjdiMmE2ZTlmNmUyMTM0YzBmKTsKICAgICAgICAKCiAgICAgICAgY2lyY2xlX21hcmtlcl9jOTAwZDgyMjZjMjU0Y2U4Yjk1Njg3MTNiMmRmYmI5NC5iaW5kUG9wdXAocG9wdXBfZjU0ZDljMjZhMGYwNGI1NWEyNTEyYWVkMmExYjU0ZmUpCiAgICAgICAgOwoKICAgICAgICAKICAgIAogICAgCiAgICAgICAgICAgIHZhciBjaXJjbGVfbWFya2VyXzJjYTBkYzAyMzkzNTRhNDU5ZmYzYjAzZDcxMGVlOTFlID0gTC5jaXJjbGVNYXJrZXIoCiAgICAgICAgICAgICAgICBbMzcuMzU4NjY0MDAwMDAwMDA1LCAtMTIxLjk0MTg2NTk5OTk5OTk5XSwKICAgICAgICAgICAgICAgIHsiYnViYmxpbmdNb3VzZUV2ZW50cyI6IHRydWUsICJjb2xvciI6ICIjMzM4OGZmIiwgImRhc2hBcnJheSI6IG51bGwsICJkYXNoT2Zmc2V0IjogbnVsbCwgImZpbGwiOiB0cnVlLCAiZmlsbENvbG9yIjogImJsdWUiLCAiZmlsbE9wYWNpdHkiOiAxLCAiZmlsbFJ1bGUiOiAiZXZlbm9kZCIsICJsaW5lQ2FwIjogInJvdW5kIiwgImxpbmVKb2luIjogInJvdW5kIiwgIm9wYWNpdHkiOiAxLjAsICJyYWRpdXMiOiA1LCAic3Ryb2tlIjogdHJ1ZSwgIndlaWdodCI6IDN9CiAgICAgICAgICAgICkuYWRkVG8obWFwX2U2N2RjMzVlOTE5MjRkYTFiYzQ0YzkyYjY5ZDUyMTk5KTsKICAgICAgICAKICAgIAogICAgICAgIHZhciBwb3B1cF9iMWJlNmVkZjgyMWQ0MTJlOGExODM2ZWM2MDZkODk4MSA9IEwucG9wdXAoeyJtYXhXaWR0aCI6ICIxMDAlIn0pOwoKICAgICAgICAKICAgICAgICAgICAgdmFyIGh0bWxfNzYwNDQxMTQ1MDVlNDliNzg3MWE1NjU3MmUzNTMwYjcgPSAkKGA8ZGl2IGlkPSJodG1sXzc2MDQ0MTE0NTA1ZTQ5Yjc4NzFhNTY1NzJlMzUzMGI3IiBzdHlsZT0id2lkdGg6IDEwMC4wJTsgaGVpZ2h0OiAxMDAuMCU7Ij5ibHVlPC9kaXY+YClbMF07CiAgICAgICAgICAgIHBvcHVwX2IxYmU2ZWRmODIxZDQxMmU4YTE4MzZlYzYwNmQ4OTgxLnNldENvbnRlbnQoaHRtbF83NjA0NDExNDUwNWU0OWI3ODcxYTU2NTcyZTM1MzBiNyk7CiAgICAgICAgCgogICAgICAgIGNpcmNsZV9tYXJrZXJfMmNhMGRjMDIzOTM1NGE0NTlmZjNiMDNkNzEwZWU5MWUuYmluZFBvcHVwKHBvcHVwX2IxYmU2ZWRmODIxZDQxMmU4YTE4MzZlYzYwNmQ4OTgxKQogICAgICAgIDsKCiAgICAgICAgCiAgICAKICAgIAogICAgICAgICAgICB2YXIgY2lyY2xlX21hcmtlcl83ZTk2ODJmZGMyMDE0ZTc2YmVlNzEyYjAwN2Y4YzY2NSA9IEwuY2lyY2xlTWFya2VyKAogICAgICAgICAgICAgICAgWzM3LjQyMTkxOCwgLTEyMi4xNjUwNTNdLAogICAgICAgICAgICAgICAgeyJidWJibGluZ01vdXNlRXZlbnRzIjogdHJ1ZSwgImNvbG9yIjogIiMzMzg4ZmYiLCAiZGFzaEFycmF5IjogbnVsbCwgImRhc2hPZmZzZXQiOiBudWxsLCAiZmlsbCI6IHRydWUsICJmaWxsQ29sb3IiOiAiYmx1ZSIsICJmaWxsT3BhY2l0eSI6IDEsICJmaWxsUnVsZSI6ICJldmVub2RkIiwgImxpbmVDYXAiOiAicm91bmQiLCAibGluZUpvaW4iOiAicm91bmQiLCAib3BhY2l0eSI6IDEuMCwgInJhZGl1cyI6IDUsICJzdHJva2UiOiB0cnVlLCAid2VpZ2h0IjogM30KICAgICAgICAgICAgKS5hZGRUbyhtYXBfZTY3ZGMzNWU5MTkyNGRhMWJjNDRjOTJiNjlkNTIxOTkpOwogICAgICAgIAogICAgCiAgICAgICAgdmFyIHBvcHVwX2IxMTUyZDdkNWMzNTQ2NzA4OTRkNWNiZmIzYWFhZWEzID0gTC5wb3B1cCh7Im1heFdpZHRoIjogIjEwMCUifSk7CgogICAgICAgIAogICAgICAgICAgICB2YXIgaHRtbF82YjA0ZDUyZWNjNTI0NzU5YTk0YzUxNDc3Mjc1ODU3ZCA9ICQoYDxkaXYgaWQ9Imh0bWxfNmIwNGQ1MmVjYzUyNDc1OWE5NGM1MTQ3NzI3NTg1N2QiIHN0eWxlPSJ3aWR0aDogMTAwLjAlOyBoZWlnaHQ6IDEwMC4wJTsiPnJlZDwvZGl2PmApWzBdOwogICAgICAgICAgICBwb3B1cF9iMTE1MmQ3ZDVjMzU0NjcwODk0ZDVjYmZiM2FhYWVhMy5zZXRDb250ZW50KGh0bWxfNmIwNGQ1MmVjYzUyNDc1OWE5NGM1MTQ3NzI3NTg1N2QpOwogICAgICAgIAoKICAgICAgICBjaXJjbGVfbWFya2VyXzdlOTY4MmZkYzIwMTRlNzZiZWU3MTJiMDA3ZjhjNjY1LmJpbmRQb3B1cChwb3B1cF9iMTE1MmQ3ZDVjMzU0NjcwODk0ZDVjYmZiM2FhYWVhMykKICAgICAgICA7CgogICAgICAgIAogICAgCiAgICAKICAgICAgICAgICAgdmFyIGNpcmNsZV9tYXJrZXJfMDA5Y2U3MWIzMmFmNDg2NWI3OTA3OTQyZGMzNzljYWYgPSBMLmNpcmNsZU1hcmtlcigKICAgICAgICAgICAgICAgIFszNy40MjExMDksIC0xMjIuMTY3ODI3XSwKICAgICAgICAgICAgICAgIHsiYnViYmxpbmdNb3VzZUV2ZW50cyI6IHRydWUsICJjb2xvciI6ICIjMzM4OGZmIiwgImRhc2hBcnJheSI6IG51bGwsICJkYXNoT2Zmc2V0IjogbnVsbCwgImZpbGwiOiB0cnVlLCAiZmlsbENvbG9yIjogImJsdWUiLCAiZmlsbE9wYWNpdHkiOiAxLCAiZmlsbFJ1bGUiOiAiZXZlbm9kZCIsICJsaW5lQ2FwIjogInJvdW5kIiwgImxpbmVKb2luIjogInJvdW5kIiwgIm9wYWNpdHkiOiAxLjAsICJyYWRpdXMiOiA1LCAic3Ryb2tlIjogdHJ1ZSwgIndlaWdodCI6IDN9CiAgICAgICAgICAgICkuYWRkVG8obWFwX2U2N2RjMzVlOTE5MjRkYTFiYzQ0YzkyYjY5ZDUyMTk5KTsKICAgICAgICAKICAgIAogICAgICAgIHZhciBwb3B1cF9kOWFlZWRmOGJjNGU0NzBkYmFiY2Q2NDQ2MjJkNWVhNyA9IEwucG9wdXAoeyJtYXhXaWR0aCI6ICIxMDAlIn0pOwoKICAgICAgICAKICAgICAgICAgICAgdmFyIGh0bWxfYTY0ZjhlMWQ5OGI0NDkzM2IyM2RiYTUyY2Q2MDg0NzggPSAkKGA8ZGl2IGlkPSJodG1sX2E2NGY4ZTFkOThiNDQ5MzNiMjNkYmE1MmNkNjA4NDc4IiBzdHlsZT0id2lkdGg6IDEwMC4wJTsgaGVpZ2h0OiAxMDAuMCU7Ij5yZWQ8L2Rpdj5gKVswXTsKICAgICAgICAgICAgcG9wdXBfZDlhZWVkZjhiYzRlNDcwZGJhYmNkNjQ0NjIyZDVlYTcuc2V0Q29udGVudChodG1sX2E2NGY4ZTFkOThiNDQ5MzNiMjNkYmE1MmNkNjA4NDc4KTsKICAgICAgICAKCiAgICAgICAgY2lyY2xlX21hcmtlcl8wMDljZTcxYjMyYWY0ODY1Yjc5MDc5NDJkYzM3OWNhZi5iaW5kUG9wdXAocG9wdXBfZDlhZWVkZjhiYzRlNDcwZGJhYmNkNjQ0NjIyZDVlYTcpCiAgICAgICAgOwoKICAgICAgICAKICAgIAogICAgCiAgICAgICAgICAgIHZhciBjaXJjbGVfbWFya2VyX2FmYThlNzk3MTlkMTQ3ZDBiODJhNDgzOTIxZjA3ZDMzID0gTC5jaXJjbGVNYXJrZXIoCiAgICAgICAgICAgICAgICBbMzcuNDMzMDkxOTk5OTk5OTk1LCAtMTIyLjE2ODUyXSwKICAgICAgICAgICAgICAgIHsiYnViYmxpbmdNb3VzZUV2ZW50cyI6IHRydWUsICJjb2xvciI6ICIjMzM4OGZmIiwgImRhc2hBcnJheSI6IG51bGwsICJkYXNoT2Zmc2V0IjogbnVsbCwgImZpbGwiOiB0cnVlLCAiZmlsbENvbG9yIjogImJsdWUiLCAiZmlsbE9wYWNpdHkiOiAxLCAiZmlsbFJ1bGUiOiAiZXZlbm9kZCIsICJsaW5lQ2FwIjogInJvdW5kIiwgImxpbmVKb2luIjogInJvdW5kIiwgIm9wYWNpdHkiOiAxLjAsICJyYWRpdXMiOiA1LCAic3Ryb2tlIjogdHJ1ZSwgIndlaWdodCI6IDN9CiAgICAgICAgICAgICkuYWRkVG8obWFwX2U2N2RjMzVlOTE5MjRkYTFiYzQ0YzkyYjY5ZDUyMTk5KTsKICAgICAgICAKICAgIAogICAgICAgIHZhciBwb3B1cF8zZWI2NmY3NjhjMDA0MzJjYmIxYjU0ZjFiZTVkYTk3YyA9IEwucG9wdXAoeyJtYXhXaWR0aCI6ICIxMDAlIn0pOwoKICAgICAgICAKICAgICAgICAgICAgdmFyIGh0bWxfNGIzODhmMDI1MjJjNGQ5Nzg1NzUyZWFiZDUxNmM5YTEgPSAkKGA8ZGl2IGlkPSJodG1sXzRiMzg4ZjAyNTIyYzRkOTc4NTc1MmVhYmQ1MTZjOWExIiBzdHlsZT0id2lkdGg6IDEwMC4wJTsgaGVpZ2h0OiAxMDAuMCU7Ij5yZWQ8L2Rpdj5gKVswXTsKICAgICAgICAgICAgcG9wdXBfM2ViNjZmNzY4YzAwNDMyY2JiMWI1NGYxYmU1ZGE5N2Muc2V0Q29udGVudChodG1sXzRiMzg4ZjAyNTIyYzRkOTc4NTc1MmVhYmQ1MTZjOWExKTsKICAgICAgICAKCiAgICAgICAgY2lyY2xlX21hcmtlcl9hZmE4ZTc5NzE5ZDE0N2QwYjgyYTQ4MzkyMWYwN2QzMy5iaW5kUG9wdXAocG9wdXBfM2ViNjZmNzY4YzAwNDMyY2JiMWI1NGYxYmU1ZGE5N2MpCiAgICAgICAgOwoKICAgICAgICAKICAgIAogICAgCiAgICAgICAgICAgIHZhciBjaXJjbGVfbWFya2VyXzJhOTE2ZmFhMzI0NTQzYjRhOGZkYmExMTYzODdhY2YyID0gTC5jaXJjbGVNYXJrZXIoCiAgICAgICAgICAgICAgICBbMzcuNDMwNDM2LCAtMTIyLjE3NzQ1MV0sCiAgICAgICAgICAgICAgICB7ImJ1YmJsaW5nTW91c2VFdmVudHMiOiB0cnVlLCAiY29sb3IiOiAiIzMzODhmZiIsICJkYXNoQXJyYXkiOiBudWxsLCAiZGFzaE9mZnNldCI6IG51bGwsICJmaWxsIjogdHJ1ZSwgImZpbGxDb2xvciI6ICJibHVlIiwgImZpbGxPcGFjaXR5IjogMSwgImZpbGxSdWxlIjogImV2ZW5vZGQiLCAibGluZUNhcCI6ICJyb3VuZCIsICJsaW5lSm9pbiI6ICJyb3VuZCIsICJvcGFjaXR5IjogMS4wLCAicmFkaXVzIjogNSwgInN0cm9rZSI6IHRydWUsICJ3ZWlnaHQiOiAzfQogICAgICAgICAgICApLmFkZFRvKG1hcF9lNjdkYzM1ZTkxOTI0ZGExYmM0NGM5MmI2OWQ1MjE5OSk7CiAgICAgICAgCiAgICAKICAgICAgICB2YXIgcG9wdXBfM2QzNGZjYmUwNjJiNDZjNmI0NzY4ZDk1ZjgxNWFlYjkgPSBMLnBvcHVwKHsibWF4V2lkdGgiOiAiMTAwJSJ9KTsKCiAgICAgICAgCiAgICAgICAgICAgIHZhciBodG1sX2U5NmQwYzQzYWM0MzQxMGZhODM1ODM3NDY4MzI4MTI4ID0gJChgPGRpdiBpZD0iaHRtbF9lOTZkMGM0M2FjNDM0MTBmYTgzNTgzNzQ2ODMyODEyOCIgc3R5bGU9IndpZHRoOiAxMDAuMCU7IGhlaWdodDogMTAwLjAlOyI+cmVkPC9kaXY+YClbMF07CiAgICAgICAgICAgIHBvcHVwXzNkMzRmY2JlMDYyYjQ2YzZiNDc2OGQ5NWY4MTVhZWI5LnNldENvbnRlbnQoaHRtbF9lOTZkMGM0M2FjNDM0MTBmYTgzNTgzNzQ2ODMyODEyOCk7CiAgICAgICAgCgogICAgICAgIGNpcmNsZV9tYXJrZXJfMmE5MTZmYWEzMjQ1NDNiNGE4ZmRiYTExNjM4N2FjZjIuYmluZFBvcHVwKHBvcHVwXzNkMzRmY2JlMDYyYjQ2YzZiNDc2OGQ5NWY4MTVhZWI5KQogICAgICAgIDsKCiAgICAgICAgCiAgICAKICAgIAogICAgICAgICAgICB2YXIgY2lyY2xlX21hcmtlcl84ZjI0NDJmZTk5YjQ0Y2NiYjdiNzNlODk4OGQwN2U0ZiA9IEwuY2lyY2xlTWFya2VyKAogICAgICAgICAgICAgICAgWzM3LjQyMjU2NTk5OTk5OTk5NiwgLTEyMi4xNTM1MTJdLAogICAgICAgICAgICAgICAgeyJidWJibGluZ01vdXNlRXZlbnRzIjogdHJ1ZSwgImNvbG9yIjogIiMzMzg4ZmYiLCAiZGFzaEFycmF5IjogbnVsbCwgImRhc2hPZmZzZXQiOiBudWxsLCAiZmlsbCI6IHRydWUsICJmaWxsQ29sb3IiOiAiYmx1ZSIsICJmaWxsT3BhY2l0eSI6IDEsICJmaWxsUnVsZSI6ICJldmVub2RkIiwgImxpbmVDYXAiOiAicm91bmQiLCAibGluZUpvaW4iOiAicm91bmQiLCAib3BhY2l0eSI6IDEuMCwgInJhZGl1cyI6IDUsICJzdHJva2UiOiB0cnVlLCAid2VpZ2h0IjogM30KICAgICAgICAgICAgKS5hZGRUbyhtYXBfZTY3ZGMzNWU5MTkyNGRhMWJjNDRjOTJiNjlkNTIxOTkpOwogICAgICAgIAogICAgCiAgICAgICAgdmFyIHBvcHVwX2M2NDU1NDM1NjU4YTRhYmRiNjhjNTA5NGZmNTNkODMyID0gTC5wb3B1cCh7Im1heFdpZHRoIjogIjEwMCUifSk7CgogICAgICAgIAogICAgICAgICAgICB2YXIgaHRtbF81Nzg1YmYyZTgwZWI0OWUyYmY3YTY0Njk4ZGU0YmYxNiA9ICQoYDxkaXYgaWQ9Imh0bWxfNTc4NWJmMmU4MGViNDllMmJmN2E2NDY5OGRlNGJmMTYiIHN0eWxlPSJ3aWR0aDogMTAwLjAlOyBoZWlnaHQ6IDEwMC4wJTsiPnJlZDwvZGl2PmApWzBdOwogICAgICAgICAgICBwb3B1cF9jNjQ1NTQzNTY1OGE0YWJkYjY4YzUwOTRmZjUzZDgzMi5zZXRDb250ZW50KGh0bWxfNTc4NWJmMmU4MGViNDllMmJmN2E2NDY5OGRlNGJmMTYpOwogICAgICAgIAoKICAgICAgICBjaXJjbGVfbWFya2VyXzhmMjQ0MmZlOTliNDRjY2JiN2I3M2U4OTg4ZDA3ZTRmLmJpbmRQb3B1cChwb3B1cF9jNjQ1NTQzNTY1OGE0YWJkYjY4YzUwOTRmZjUzZDgzMikKICAgICAgICA7CgogICAgICAgIAogICAgCiAgICAKICAgICAgICAgICAgdmFyIGNpcmNsZV9tYXJrZXJfMTlhYWFhOTNiZjYyNDdjMWExM2RiM2Q4ZDY1NmQ1MTMgPSBMLmNpcmNsZU1hcmtlcigKICAgICAgICAgICAgICAgIFszNy40MjgxMzcsIC0xMjIuMTUzNjc1XSwKICAgICAgICAgICAgICAgIHsiYnViYmxpbmdNb3VzZUV2ZW50cyI6IHRydWUsICJjb2xvciI6ICIjMzM4OGZmIiwgImRhc2hBcnJheSI6IG51bGwsICJkYXNoT2Zmc2V0IjogbnVsbCwgImZpbGwiOiB0cnVlLCAiZmlsbENvbG9yIjogImJsdWUiLCAiZmlsbE9wYWNpdHkiOiAxLCAiZmlsbFJ1bGUiOiAiZXZlbm9kZCIsICJsaW5lQ2FwIjogInJvdW5kIiwgImxpbmVKb2luIjogInJvdW5kIiwgIm9wYWNpdHkiOiAxLjAsICJyYWRpdXMiOiA1LCAic3Ryb2tlIjogdHJ1ZSwgIndlaWdodCI6IDN9CiAgICAgICAgICAgICkuYWRkVG8obWFwX2U2N2RjMzVlOTE5MjRkYTFiYzQ0YzkyYjY5ZDUyMTk5KTsKICAgICAgICAKICAgIAogICAgICAgIHZhciBwb3B1cF80YTI1OGI1OTcyOWY0NDIzYTk0ZTI0NTg3ZjUyNmZhNSA9IEwucG9wdXAoeyJtYXhXaWR0aCI6ICIxMDAlIn0pOwoKICAgICAgICAKICAgICAgICAgICAgdmFyIGh0bWxfOTkzZTU5ZWEzNDQ0NDliYjg3ZjMxMDZkMzY3NmViMWYgPSAkKGA8ZGl2IGlkPSJodG1sXzk5M2U1OWVhMzQ0NDQ5YmI4N2YzMTA2ZDM2NzZlYjFmIiBzdHlsZT0id2lkdGg6IDEwMC4wJTsgaGVpZ2h0OiAxMDAuMCU7Ij5yZWQ8L2Rpdj5gKVswXTsKICAgICAgICAgICAgcG9wdXBfNGEyNThiNTk3MjlmNDQyM2E5NGUyNDU4N2Y1MjZmYTUuc2V0Q29udGVudChodG1sXzk5M2U1OWVhMzQ0NDQ5YmI4N2YzMTA2ZDM2NzZlYjFmKTsKICAgICAgICAKCiAgICAgICAgY2lyY2xlX21hcmtlcl8xOWFhYWE5M2JmNjI0N2MxYTEzZGIzZDhkNjU2ZDUxMy5iaW5kUG9wdXAocG9wdXBfNGEyNThiNTk3MjlmNDQyM2E5NGUyNDU4N2Y1MjZmYTUpCiAgICAgICAgOwoKICAgICAgICAKICAgIAogICAgCiAgICAgICAgICAgIHZhciBjaXJjbGVfbWFya2VyXzIxMjE2N2Q5ZmQ3NjQ2ZmVhN2Q5Y2E4NDMyMzIyMTJmID0gTC5jaXJjbGVNYXJrZXIoCiAgICAgICAgICAgICAgICBbMzcuNDM0MTYsIC0xMjIuMTY3NjIyOTk5OTk5OTldLAogICAgICAgICAgICAgICAgeyJidWJibGluZ01vdXNlRXZlbnRzIjogdHJ1ZSwgImNvbG9yIjogIiMzMzg4ZmYiLCAiZGFzaEFycmF5IjogbnVsbCwgImRhc2hPZmZzZXQiOiBudWxsLCAiZmlsbCI6IHRydWUsICJmaWxsQ29sb3IiOiAiYmx1ZSIsICJmaWxsT3BhY2l0eSI6IDEsICJmaWxsUnVsZSI6ICJldmVub2RkIiwgImxpbmVDYXAiOiAicm91bmQiLCAibGluZUpvaW4iOiAicm91bmQiLCAib3BhY2l0eSI6IDEuMCwgInJhZGl1cyI6IDUsICJzdHJva2UiOiB0cnVlLCAid2VpZ2h0IjogM30KICAgICAgICAgICAgKS5hZGRUbyhtYXBfZTY3ZGMzNWU5MTkyNGRhMWJjNDRjOTJiNjlkNTIxOTkpOwogICAgICAgIAogICAgCiAgICAgICAgdmFyIHBvcHVwXzMyNTk5NjRjZTE0YTQzNzhhMTQ4MmQ4NDIwYjRkNWI2ID0gTC5wb3B1cCh7Im1heFdpZHRoIjogIjEwMCUifSk7CgogICAgICAgIAogICAgICAgICAgICB2YXIgaHRtbF81NWIzY2Q3MDBlZDQ0Njc2YjhlMGI4YTgzOTZjZWUxNyA9ICQoYDxkaXYgaWQ9Imh0bWxfNTViM2NkNzAwZWQ0NDY3NmI4ZTBiOGE4Mzk2Y2VlMTciIHN0eWxlPSJ3aWR0aDogMTAwLjAlOyBoZWlnaHQ6IDEwMC4wJTsiPnJlZDwvZGl2PmApWzBdOwogICAgICAgICAgICBwb3B1cF8zMjU5OTY0Y2UxNGE0Mzc4YTE0ODJkODQyMGI0ZDViNi5zZXRDb250ZW50KGh0bWxfNTViM2NkNzAwZWQ0NDY3NmI4ZTBiOGE4Mzk2Y2VlMTcpOwogICAgICAgIAoKICAgICAgICBjaXJjbGVfbWFya2VyXzIxMjE2N2Q5ZmQ3NjQ2ZmVhN2Q5Y2E4NDMyMzIyMTJmLmJpbmRQb3B1cChwb3B1cF8zMjU5OTY0Y2UxNGE0Mzc4YTE0ODJkODQyMGI0ZDViNikKICAgICAgICA7CgogICAgICAgIAogICAgCiAgICAKICAgICAgICAgICAgdmFyIGNpcmNsZV9tYXJrZXJfZDgzMGU5ZWI0MDgzNGMxODlmNjU2NTA2ZDczYTgyZDggPSBMLmNpcmNsZU1hcmtlcigKICAgICAgICAgICAgICAgIFszNy40MjI3OTMsIC0xMjIuMTU1NjMyMDAwMDAwMDFdLAogICAgICAgICAgICAgICAgeyJidWJibGluZ01vdXNlRXZlbnRzIjogdHJ1ZSwgImNvbG9yIjogIiMzMzg4ZmYiLCAiZGFzaEFycmF5IjogbnVsbCwgImRhc2hPZmZzZXQiOiBudWxsLCAiZmlsbCI6IHRydWUsICJmaWxsQ29sb3IiOiAiYmx1ZSIsICJmaWxsT3BhY2l0eSI6IDEsICJmaWxsUnVsZSI6ICJldmVub2RkIiwgImxpbmVDYXAiOiAicm91bmQiLCAibGluZUpvaW4iOiAicm91bmQiLCAib3BhY2l0eSI6IDEuMCwgInJhZGl1cyI6IDUsICJzdHJva2UiOiB0cnVlLCAid2VpZ2h0IjogM30KICAgICAgICAgICAgKS5hZGRUbyhtYXBfZTY3ZGMzNWU5MTkyNGRhMWJjNDRjOTJiNjlkNTIxOTkpOwogICAgICAgIAogICAgCiAgICAgICAgdmFyIHBvcHVwXzAwZTdjMTJhNTg5MDQyOWY4YmZiZTFkNDUzYzk1M2ZiID0gTC5wb3B1cCh7Im1heFdpZHRoIjogIjEwMCUifSk7CgogICAgICAgIAogICAgICAgICAgICB2YXIgaHRtbF83MmQxODQyODZkMTY0OWY0ODEwOThhZDU4MjI2MDNmYyA9ICQoYDxkaXYgaWQ9Imh0bWxfNzJkMTg0Mjg2ZDE2NDlmNDgxMDk4YWQ1ODIyNjAzZmMiIHN0eWxlPSJ3aWR0aDogMTAwLjAlOyBoZWlnaHQ6IDEwMC4wJTsiPnJlZDwvZGl2PmApWzBdOwogICAgICAgICAgICBwb3B1cF8wMGU3YzEyYTU4OTA0MjlmOGJmYmUxZDQ1M2M5NTNmYi5zZXRDb250ZW50KGh0bWxfNzJkMTg0Mjg2ZDE2NDlmNDgxMDk4YWQ1ODIyNjAzZmMpOwogICAgICAgIAoKICAgICAgICBjaXJjbGVfbWFya2VyX2Q4MzBlOWViNDA4MzRjMTg5ZjY1NjUwNmQ3M2E4MmQ4LmJpbmRQb3B1cChwb3B1cF8wMGU3YzEyYTU4OTA0MjlmOGJmYmUxZDQ1M2M5NTNmYikKICAgICAgICA7CgogICAgICAgIAogICAgCiAgICAKICAgICAgICAgICAgdmFyIGNpcmNsZV9tYXJrZXJfNzljN2RiMWJiMGI1NDQxZDliNDMwZWQyZWU4MjI4OTIgPSBMLmNpcmNsZU1hcmtlcigKICAgICAgICAgICAgICAgIFszNy40MjE1NjIsIC0xMjIuMTU3Mzg2MDAwMDAwMDJdLAogICAgICAgICAgICAgICAgeyJidWJibGluZ01vdXNlRXZlbnRzIjogdHJ1ZSwgImNvbG9yIjogIiMzMzg4ZmYiLCAiZGFzaEFycmF5IjogbnVsbCwgImRhc2hPZmZzZXQiOiBudWxsLCAiZmlsbCI6IHRydWUsICJmaWxsQ29sb3IiOiAiYmx1ZSIsICJmaWxsT3BhY2l0eSI6IDEsICJmaWxsUnVsZSI6ICJldmVub2RkIiwgImxpbmVDYXAiOiAicm91bmQiLCAibGluZUpvaW4iOiAicm91bmQiLCAib3BhY2l0eSI6IDEuMCwgInJhZGl1cyI6IDUsICJzdHJva2UiOiB0cnVlLCAid2VpZ2h0IjogM30KICAgICAgICAgICAgKS5hZGRUbyhtYXBfZTY3ZGMzNWU5MTkyNGRhMWJjNDRjOTJiNjlkNTIxOTkpOwogICAgICAgIAogICAgCiAgICAgICAgdmFyIHBvcHVwXzc2ZjI4YmQ3OTliODQwNmJiYTQ0ZTM1NmY5NzU5MTNhID0gTC5wb3B1cCh7Im1heFdpZHRoIjogIjEwMCUifSk7CgogICAgICAgIAogICAgICAgICAgICB2YXIgaHRtbF85NjE3NTdhNWUzNTA0MjQ5YWNlMDQ5MWM3ODc4OGY0ZSA9ICQoYDxkaXYgaWQ9Imh0bWxfOTYxNzU3YTVlMzUwNDI0OWFjZTA0OTFjNzg3ODhmNGUiIHN0eWxlPSJ3aWR0aDogMTAwLjAlOyBoZWlnaHQ6IDEwMC4wJTsiPnJlZDwvZGl2PmApWzBdOwogICAgICAgICAgICBwb3B1cF83NmYyOGJkNzk5Yjg0MDZiYmE0NGUzNTZmOTc1OTEzYS5zZXRDb250ZW50KGh0bWxfOTYxNzU3YTVlMzUwNDI0OWFjZTA0OTFjNzg3ODhmNGUpOwogICAgICAgIAoKICAgICAgICBjaXJjbGVfbWFya2VyXzc5YzdkYjFiYjBiNTQ0MWQ5YjQzMGVkMmVlODIyODkyLmJpbmRQb3B1cChwb3B1cF83NmYyOGJkNzk5Yjg0MDZiYmE0NGUzNTZmOTc1OTEzYSkKICAgICAgICA7CgogICAgICAgIAogICAgCiAgICAKICAgICAgICAgICAgdmFyIGNpcmNsZV9tYXJrZXJfNGI2ODBjMzg3OTYxNDhkODgzMTVhZDBmZWU0NjBmOGQgPSBMLmNpcmNsZU1hcmtlcigKICAgICAgICAgICAgICAgIFszNy40MjA2MjMsIC0xMjIuMTY5NDE3XSwKICAgICAgICAgICAgICAgIHsiYnViYmxpbmdNb3VzZUV2ZW50cyI6IHRydWUsICJjb2xvciI6ICIjMzM4OGZmIiwgImRhc2hBcnJheSI6IG51bGwsICJkYXNoT2Zmc2V0IjogbnVsbCwgImZpbGwiOiB0cnVlLCAiZmlsbENvbG9yIjogImJsdWUiLCAiZmlsbE9wYWNpdHkiOiAxLCAiZmlsbFJ1bGUiOiAiZXZlbm9kZCIsICJsaW5lQ2FwIjogInJvdW5kIiwgImxpbmVKb2luIjogInJvdW5kIiwgIm9wYWNpdHkiOiAxLjAsICJyYWRpdXMiOiA1LCAic3Ryb2tlIjogdHJ1ZSwgIndlaWdodCI6IDN9CiAgICAgICAgICAgICkuYWRkVG8obWFwX2U2N2RjMzVlOTE5MjRkYTFiYzQ0YzkyYjY5ZDUyMTk5KTsKICAgICAgICAKICAgIAogICAgICAgIHZhciBwb3B1cF8wZTRhYjE0ZjAyNzE0NDU4YjM1ZWM1YjYzNWEzMTA5MyA9IEwucG9wdXAoeyJtYXhXaWR0aCI6ICIxMDAlIn0pOwoKICAgICAgICAKICAgICAgICAgICAgdmFyIGh0bWxfZjhmNWFhZjEyMGVmNGJkZjg1YjE5MGQzMTcxNDIzODggPSAkKGA8ZGl2IGlkPSJodG1sX2Y4ZjVhYWYxMjBlZjRiZGY4NWIxOTBkMzE3MTQyMzg4IiBzdHlsZT0id2lkdGg6IDEwMC4wJTsgaGVpZ2h0OiAxMDAuMCU7Ij5yZWQ8L2Rpdj5gKVswXTsKICAgICAgICAgICAgcG9wdXBfMGU0YWIxNGYwMjcxNDQ1OGIzNWVjNWI2MzVhMzEwOTMuc2V0Q29udGVudChodG1sX2Y4ZjVhYWYxMjBlZjRiZGY4NWIxOTBkMzE3MTQyMzg4KTsKICAgICAgICAKCiAgICAgICAgY2lyY2xlX21hcmtlcl80YjY4MGMzODc5NjE0OGQ4ODMxNWFkMGZlZTQ2MGY4ZC5iaW5kUG9wdXAocG9wdXBfMGU0YWIxNGYwMjcxNDQ1OGIzNWVjNWI2MzVhMzEwOTMpCiAgICAgICAgOwoKICAgICAgICAKICAgIAogICAgCiAgICAgICAgICAgIHZhciBjaXJjbGVfbWFya2VyXzI0ZmM3OTg3YjkyODRlMmViY2NhZGQ0NDlmMTQ1Y2JhID0gTC5jaXJjbGVNYXJrZXIoCiAgICAgICAgICAgICAgICBbMzcuNDMyMDIzLCAtMTIyLjE3MzMzMl0sCiAgICAgICAgICAgICAgICB7ImJ1YmJsaW5nTW91c2VFdmVudHMiOiB0cnVlLCAiY29sb3IiOiAiIzMzODhmZiIsICJkYXNoQXJyYXkiOiBudWxsLCAiZGFzaE9mZnNldCI6IG51bGwsICJmaWxsIjogdHJ1ZSwgImZpbGxDb2xvciI6ICJibHVlIiwgImZpbGxPcGFjaXR5IjogMSwgImZpbGxSdWxlIjogImV2ZW5vZGQiLCAibGluZUNhcCI6ICJyb3VuZCIsICJsaW5lSm9pbiI6ICJyb3VuZCIsICJvcGFjaXR5IjogMS4wLCAicmFkaXVzIjogNSwgInN0cm9rZSI6IHRydWUsICJ3ZWlnaHQiOiAzfQogICAgICAgICAgICApLmFkZFRvKG1hcF9lNjdkYzM1ZTkxOTI0ZGExYmM0NGM5MmI2OWQ1MjE5OSk7CiAgICAgICAgCiAgICAKICAgICAgICB2YXIgcG9wdXBfZDQ0MDQ5NzNlMmU0NDg2MTk2MTgxNjYxYzY2NGEyZWUgPSBMLnBvcHVwKHsibWF4V2lkdGgiOiAiMTAwJSJ9KTsKCiAgICAgICAgCiAgICAgICAgICAgIHZhciBodG1sXzE4ZmIwYTdiZWVhMjRkZDNhYmQ2ZDY0ODVkMjEyY2JhID0gJChgPGRpdiBpZD0iaHRtbF8xOGZiMGE3YmVlYTI0ZGQzYWJkNmQ2NDg1ZDIxMmNiYSIgc3R5bGU9IndpZHRoOiAxMDAuMCU7IGhlaWdodDogMTAwLjAlOyI+cmVkPC9kaXY+YClbMF07CiAgICAgICAgICAgIHBvcHVwX2Q0NDA0OTczZTJlNDQ4NjE5NjE4MTY2MWM2NjRhMmVlLnNldENvbnRlbnQoaHRtbF8xOGZiMGE3YmVlYTI0ZGQzYWJkNmQ2NDg1ZDIxMmNiYSk7CiAgICAgICAgCgogICAgICAgIGNpcmNsZV9tYXJrZXJfMjRmYzc5ODdiOTI4NGUyZWJjY2FkZDQ0OWYxNDVjYmEuYmluZFBvcHVwKHBvcHVwX2Q0NDA0OTczZTJlNDQ4NjE5NjE4MTY2MWM2NjRhMmVlKQogICAgICAgIDsKCiAgICAgICAgCiAgICAKICAgIAogICAgICAgICAgICB2YXIgY2lyY2xlX21hcmtlcl80ZjY4MTRmYTgyMTQ0ZGUxYjAwZjIyYmFhNTMyNmZkNSA9IEwuY2lyY2xlTWFya2VyKAogICAgICAgICAgICAgICAgWzM3LjQyNzYxOSwgLTEyMi4xNTcwMTg5OTk5OTk5OV0sCiAgICAgICAgICAgICAgICB7ImJ1YmJsaW5nTW91c2VFdmVudHMiOiB0cnVlLCAiY29sb3IiOiAiIzMzODhmZiIsICJkYXNoQXJyYXkiOiBudWxsLCAiZGFzaE9mZnNldCI6IG51bGwsICJmaWxsIjogdHJ1ZSwgImZpbGxDb2xvciI6ICJibHVlIiwgImZpbGxPcGFjaXR5IjogMSwgImZpbGxSdWxlIjogImV2ZW5vZGQiLCAibGluZUNhcCI6ICJyb3VuZCIsICJsaW5lSm9pbiI6ICJyb3VuZCIsICJvcGFjaXR5IjogMS4wLCAicmFkaXVzIjogNSwgInN0cm9rZSI6IHRydWUsICJ3ZWlnaHQiOiAzfQogICAgICAgICAgICApLmFkZFRvKG1hcF9lNjdkYzM1ZTkxOTI0ZGExYmM0NGM5MmI2OWQ1MjE5OSk7CiAgICAgICAgCiAgICAKICAgICAgICB2YXIgcG9wdXBfZjg0OTczZmZiMTA1NDBkNjkwN2IzYTNmMDAwYWJkN2IgPSBMLnBvcHVwKHsibWF4V2lkdGgiOiAiMTAwJSJ9KTsKCiAgICAgICAgCiAgICAgICAgICAgIHZhciBodG1sX2EyMzU1Y2U5MTRkNDRhOWNhYmU2ZjIzNDI2ZjA1ODE5ID0gJChgPGRpdiBpZD0iaHRtbF9hMjM1NWNlOTE0ZDQ0YTljYWJlNmYyMzQyNmYwNTgxOSIgc3R5bGU9IndpZHRoOiAxMDAuMCU7IGhlaWdodDogMTAwLjAlOyI+cmVkPC9kaXY+YClbMF07CiAgICAgICAgICAgIHBvcHVwX2Y4NDk3M2ZmYjEwNTQwZDY5MDdiM2EzZjAwMGFiZDdiLnNldENvbnRlbnQoaHRtbF9hMjM1NWNlOTE0ZDQ0YTljYWJlNmYyMzQyNmYwNTgxOSk7CiAgICAgICAgCgogICAgICAgIGNpcmNsZV9tYXJrZXJfNGY2ODE0ZmE4MjE0NGRlMWIwMGYyMmJhYTUzMjZmZDUuYmluZFBvcHVwKHBvcHVwX2Y4NDk3M2ZmYjEwNTQwZDY5MDdiM2EzZjAwMGFiZDdiKQogICAgICAgIDsKCiAgICAgICAgCiAgICAKICAgIAogICAgICAgICAgICB2YXIgY2lyY2xlX21hcmtlcl80NWE1ZjBkYmZjYmE0YmE4OGU3ZGEyMWU3MmRiNjU1NiA9IEwuY2lyY2xlTWFya2VyKAogICAgICAgICAgICAgICAgWzM3LjQzMzE0OSwgLTEyMi4xNTA5MzcwMDAwMDAwMV0sCiAgICAgICAgICAgICAgICB7ImJ1YmJsaW5nTW91c2VFdmVudHMiOiB0cnVlLCAiY29sb3IiOiAiIzMzODhmZiIsICJkYXNoQXJyYXkiOiBudWxsLCAiZGFzaE9mZnNldCI6IG51bGwsICJmaWxsIjogdHJ1ZSwgImZpbGxDb2xvciI6ICJibHVlIiwgImZpbGxPcGFjaXR5IjogMSwgImZpbGxSdWxlIjogImV2ZW5vZGQiLCAibGluZUNhcCI6ICJyb3VuZCIsICJsaW5lSm9pbiI6ICJyb3VuZCIsICJvcGFjaXR5IjogMS4wLCAicmFkaXVzIjogNSwgInN0cm9rZSI6IHRydWUsICJ3ZWlnaHQiOiAzfQogICAgICAgICAgICApLmFkZFRvKG1hcF9lNjdkYzM1ZTkxOTI0ZGExYmM0NGM5MmI2OWQ1MjE5OSk7CiAgICAgICAgCiAgICAKICAgICAgICB2YXIgcG9wdXBfMWI0Y2NlZDczMTM4NDJiNGFmNTVkZTQ0YTVlMmEwYWIgPSBMLnBvcHVwKHsibWF4V2lkdGgiOiAiMTAwJSJ9KTsKCiAgICAgICAgCiAgICAgICAgICAgIHZhciBodG1sX2U3ODRhYWJiNThkZTQyZGQ4Mzg2ODZhNTlhNWYzYjkxID0gJChgPGRpdiBpZD0iaHRtbF9lNzg0YWFiYjU4ZGU0MmRkODM4Njg2YTU5YTVmM2I5MSIgc3R5bGU9IndpZHRoOiAxMDAuMCU7IGhlaWdodDogMTAwLjAlOyI+cmVkPC9kaXY+YClbMF07CiAgICAgICAgICAgIHBvcHVwXzFiNGNjZWQ3MzEzODQyYjRhZjU1ZGU0NGE1ZTJhMGFiLnNldENvbnRlbnQoaHRtbF9lNzg0YWFiYjU4ZGU0MmRkODM4Njg2YTU5YTVmM2I5MSk7CiAgICAgICAgCgogICAgICAgIGNpcmNsZV9tYXJrZXJfNDVhNWYwZGJmY2JhNGJhODhlN2RhMjFlNzJkYjY1NTYuYmluZFBvcHVwKHBvcHVwXzFiNGNjZWQ3MzEzODQyYjRhZjU1ZGU0NGE1ZTJhMGFiKQogICAgICAgIDsKCiAgICAgICAgCiAgICAKICAgIAogICAgICAgICAgICB2YXIgY2lyY2xlX21hcmtlcl80NDI3Mzg0ZGUyNjQ0ZDQyOTg0NzYwNWI1Y2VlOGU4MCA9IEwuY2lyY2xlTWFya2VyKAogICAgICAgICAgICAgICAgWzM3LjQzOTIxNywgLTEyMi4xNDUzMDUwMDAwMDAwMV0sCiAgICAgICAgICAgICAgICB7ImJ1YmJsaW5nTW91c2VFdmVudHMiOiB0cnVlLCAiY29sb3IiOiAiIzMzODhmZiIsICJkYXNoQXJyYXkiOiBudWxsLCAiZGFzaE9mZnNldCI6IG51bGwsICJmaWxsIjogdHJ1ZSwgImZpbGxDb2xvciI6ICJibHVlIiwgImZpbGxPcGFjaXR5IjogMSwgImZpbGxSdWxlIjogImV2ZW5vZGQiLCAibGluZUNhcCI6ICJyb3VuZCIsICJsaW5lSm9pbiI6ICJyb3VuZCIsICJvcGFjaXR5IjogMS4wLCAicmFkaXVzIjogNSwgInN0cm9rZSI6IHRydWUsICJ3ZWlnaHQiOiAzfQogICAgICAgICAgICApLmFkZFRvKG1hcF9lNjdkYzM1ZTkxOTI0ZGExYmM0NGM5MmI2OWQ1MjE5OSk7CiAgICAgICAgCiAgICAKICAgICAgICB2YXIgcG9wdXBfZTc3OGFjNjkzYmZlNGQxNzkzOWQ4NDYyNTYzZTlkODAgPSBMLnBvcHVwKHsibWF4V2lkdGgiOiAiMTAwJSJ9KTsKCiAgICAgICAgCiAgICAgICAgICAgIHZhciBodG1sX2VhY2I1MTM4NTc5ODQ1N2FhZThlZjkxZjc2NDJkYzdiID0gJChgPGRpdiBpZD0iaHRtbF9lYWNiNTEzODU3OTg0NTdhYWU4ZWY5MWY3NjQyZGM3YiIgc3R5bGU9IndpZHRoOiAxMDAuMCU7IGhlaWdodDogMTAwLjAlOyI+cmVkPC9kaXY+YClbMF07CiAgICAgICAgICAgIHBvcHVwX2U3NzhhYzY5M2JmZTRkMTc5MzlkODQ2MjU2M2U5ZDgwLnNldENvbnRlbnQoaHRtbF9lYWNiNTEzODU3OTg0NTdhYWU4ZWY5MWY3NjQyZGM3Yik7CiAgICAgICAgCgogICAgICAgIGNpcmNsZV9tYXJrZXJfNDQyNzM4NGRlMjY0NGQ0Mjk4NDc2MDViNWNlZThlODAuYmluZFBvcHVwKHBvcHVwX2U3NzhhYzY5M2JmZTRkMTc5MzlkODQ2MjU2M2U5ZDgwKQogICAgICAgIDsKCiAgICAgICAgCiAgICAKICAgIAogICAgICAgICAgICB2YXIgY2lyY2xlX21hcmtlcl84YzM1MGMzMzg5MzQ0MTYyYTQ5OWMwNjAyYWE4NDRkNCA9IEwuY2lyY2xlTWFya2VyKAogICAgICAgICAgICAgICAgWzM3LjQ0Mjg4OSwgLTEyMi4xNTgwNzZdLAogICAgICAgICAgICAgICAgeyJidWJibGluZ01vdXNlRXZlbnRzIjogdHJ1ZSwgImNvbG9yIjogIiMzMzg4ZmYiLCAiZGFzaEFycmF5IjogbnVsbCwgImRhc2hPZmZzZXQiOiBudWxsLCAiZmlsbCI6IHRydWUsICJmaWxsQ29sb3IiOiAiYmx1ZSIsICJmaWxsT3BhY2l0eSI6IDEsICJmaWxsUnVsZSI6ICJldmVub2RkIiwgImxpbmVDYXAiOiAicm91bmQiLCAibGluZUpvaW4iOiAicm91bmQiLCAib3BhY2l0eSI6IDEuMCwgInJhZGl1cyI6IDUsICJzdHJva2UiOiB0cnVlLCAid2VpZ2h0IjogM30KICAgICAgICAgICAgKS5hZGRUbyhtYXBfZTY3ZGMzNWU5MTkyNGRhMWJjNDRjOTJiNjlkNTIxOTkpOwogICAgICAgIAogICAgCiAgICAgICAgdmFyIHBvcHVwXzRmODM3NzUxYjlmMzQxMWFiZjdjNzZkODg4ZDQ5NjkxID0gTC5wb3B1cCh7Im1heFdpZHRoIjogIjEwMCUifSk7CgogICAgICAgIAogICAgICAgICAgICB2YXIgaHRtbF81NjYxZmM4YTg0NGQ0YTgxOWI3NTJjZTJlNjM3YWYzNCA9ICQoYDxkaXYgaWQ9Imh0bWxfNTY2MWZjOGE4NDRkNGE4MTliNzUyY2UyZTYzN2FmMzQiIHN0eWxlPSJ3aWR0aDogMTAwLjAlOyBoZWlnaHQ6IDEwMC4wJTsiPnJlZDwvZGl2PmApWzBdOwogICAgICAgICAgICBwb3B1cF80ZjgzNzc1MWI5ZjM0MTFhYmY3Yzc2ZDg4OGQ0OTY5MS5zZXRDb250ZW50KGh0bWxfNTY2MWZjOGE4NDRkNGE4MTliNzUyY2UyZTYzN2FmMzQpOwogICAgICAgIAoKICAgICAgICBjaXJjbGVfbWFya2VyXzhjMzUwYzMzODkzNDQxNjJhNDk5YzA2MDJhYTg0NGQ0LmJpbmRQb3B1cChwb3B1cF80ZjgzNzc1MWI5ZjM0MTFhYmY3Yzc2ZDg4OGQ0OTY5MSkKICAgICAgICA7CgogICAgICAgIAogICAgCiAgICAKICAgICAgICAgICAgdmFyIGNpcmNsZV9tYXJrZXJfM2FiOWFkNzQzODUzNDA4N2ExZDAxYWI5NThhMmE0MjkgPSBMLmNpcmNsZU1hcmtlcigKICAgICAgICAgICAgICAgIFszNy40Mzg2NTgwMDAwMDAwMDQsIC0xMjIuMTg1NTI4XSwKICAgICAgICAgICAgICAgIHsiYnViYmxpbmdNb3VzZUV2ZW50cyI6IHRydWUsICJjb2xvciI6ICIjMzM4OGZmIiwgImRhc2hBcnJheSI6IG51bGwsICJkYXNoT2Zmc2V0IjogbnVsbCwgImZpbGwiOiB0cnVlLCAiZmlsbENvbG9yIjogImJsdWUiLCAiZmlsbE9wYWNpdHkiOiAxLCAiZmlsbFJ1bGUiOiAiZXZlbm9kZCIsICJsaW5lQ2FwIjogInJvdW5kIiwgImxpbmVKb2luIjogInJvdW5kIiwgIm9wYWNpdHkiOiAxLjAsICJyYWRpdXMiOiA1LCAic3Ryb2tlIjogdHJ1ZSwgIndlaWdodCI6IDN9CiAgICAgICAgICAgICkuYWRkVG8obWFwX2U2N2RjMzVlOTE5MjRkYTFiYzQ0YzkyYjY5ZDUyMTk5KTsKICAgICAgICAKICAgIAogICAgICAgIHZhciBwb3B1cF9lNGQxNTk3NzA2ZDU0MDViODMzMmRjMTVjNzFmOGJhNCA9IEwucG9wdXAoeyJtYXhXaWR0aCI6ICIxMDAlIn0pOwoKICAgICAgICAKICAgICAgICAgICAgdmFyIGh0bWxfYjhmNWRlMDlkZmViNGZjNzk0MDYwMWQ1YzYzYzk3MTkgPSAkKGA8ZGl2IGlkPSJodG1sX2I4ZjVkZTA5ZGZlYjRmYzc5NDA2MDFkNWM2M2M5NzE5IiBzdHlsZT0id2lkdGg6IDEwMC4wJTsgaGVpZ2h0OiAxMDAuMCU7Ij5yZWQ8L2Rpdj5gKVswXTsKICAgICAgICAgICAgcG9wdXBfZTRkMTU5NzcwNmQ1NDA1YjgzMzJkYzE1YzcxZjhiYTQuc2V0Q29udGVudChodG1sX2I4ZjVkZTA5ZGZlYjRmYzc5NDA2MDFkNWM2M2M5NzE5KTsKICAgICAgICAKCiAgICAgICAgY2lyY2xlX21hcmtlcl8zYWI5YWQ3NDM4NTM0MDg3YTFkMDFhYjk1OGEyYTQyOS5iaW5kUG9wdXAocG9wdXBfZTRkMTU5NzcwNmQ1NDA1YjgzMzJkYzE1YzcxZjhiYTQpCiAgICAgICAgOwoKICAgICAgICAKICAgIAogICAgCiAgICAgICAgICAgIHZhciBjaXJjbGVfbWFya2VyXzJkODZhYWE0ZTA0ZTRiZDU5Njg1MzkzYTg4MDliN2U0ID0gTC5jaXJjbGVNYXJrZXIoCiAgICAgICAgICAgICAgICBbMzcuNDE0OTQxLCAtMTIyLjE2NTIxNTk5OTk5OTk5XSwKICAgICAgICAgICAgICAgIHsiYnViYmxpbmdNb3VzZUV2ZW50cyI6IHRydWUsICJjb2xvciI6ICIjMzM4OGZmIiwgImRhc2hBcnJheSI6IG51bGwsICJkYXNoT2Zmc2V0IjogbnVsbCwgImZpbGwiOiB0cnVlLCAiZmlsbENvbG9yIjogImJsdWUiLCAiZmlsbE9wYWNpdHkiOiAxLCAiZmlsbFJ1bGUiOiAiZXZlbm9kZCIsICJsaW5lQ2FwIjogInJvdW5kIiwgImxpbmVKb2luIjogInJvdW5kIiwgIm9wYWNpdHkiOiAxLjAsICJyYWRpdXMiOiA1LCAic3Ryb2tlIjogdHJ1ZSwgIndlaWdodCI6IDN9CiAgICAgICAgICAgICkuYWRkVG8obWFwX2U2N2RjMzVlOTE5MjRkYTFiYzQ0YzkyYjY5ZDUyMTk5KTsKICAgICAgICAKICAgIAogICAgICAgIHZhciBwb3B1cF8zNGVhNTNiZDNkNGQ0OGE5ODc2YTA3NTQ1YmVkMjUyZSA9IEwucG9wdXAoeyJtYXhXaWR0aCI6ICIxMDAlIn0pOwoKICAgICAgICAKICAgICAgICAgICAgdmFyIGh0bWxfNmIxZjRjOWUzNmZhNDI4NjgzMGVlMzA4ODlkMDY2NGIgPSAkKGA8ZGl2IGlkPSJodG1sXzZiMWY0YzllMzZmYTQyODY4MzBlZTMwODg5ZDA2NjRiIiBzdHlsZT0id2lkdGg6IDEwMC4wJTsgaGVpZ2h0OiAxMDAuMCU7Ij5yZWQ8L2Rpdj5gKVswXTsKICAgICAgICAgICAgcG9wdXBfMzRlYTUzYmQzZDRkNDhhOTg3NmEwNzU0NWJlZDI1MmUuc2V0Q29udGVudChodG1sXzZiMWY0YzllMzZmYTQyODY4MzBlZTMwODg5ZDA2NjRiKTsKICAgICAgICAKCiAgICAgICAgY2lyY2xlX21hcmtlcl8yZDg2YWFhNGUwNGU0YmQ1OTY4NTM5M2E4ODA5YjdlNC5iaW5kUG9wdXAocG9wdXBfMzRlYTUzYmQzZDRkNDhhOTg3NmEwNzU0NWJlZDI1MmUpCiAgICAgICAgOwoKICAgICAgICAKICAgIAogICAgCiAgICAgICAgICAgIHZhciBjaXJjbGVfbWFya2VyXzc5ZmZjNGNmNTQwMTQ2ZGJhYWY4ZDJhZmM3ZDYzM2VlID0gTC5jaXJjbGVNYXJrZXIoCiAgICAgICAgICAgICAgICBbMzcuNDE3MTI4OTk5OTk5OTk2LCAtMTIyLjEwNDg5XSwKICAgICAgICAgICAgICAgIHsiYnViYmxpbmdNb3VzZUV2ZW50cyI6IHRydWUsICJjb2xvciI6ICIjMzM4OGZmIiwgImRhc2hBcnJheSI6IG51bGwsICJkYXNoT2Zmc2V0IjogbnVsbCwgImZpbGwiOiB0cnVlLCAiZmlsbENvbG9yIjogImJsdWUiLCAiZmlsbE9wYWNpdHkiOiAxLCAiZmlsbFJ1bGUiOiAiZXZlbm9kZCIsICJsaW5lQ2FwIjogInJvdW5kIiwgImxpbmVKb2luIjogInJvdW5kIiwgIm9wYWNpdHkiOiAxLjAsICJyYWRpdXMiOiA1LCAic3Ryb2tlIjogdHJ1ZSwgIndlaWdodCI6IDN9CiAgICAgICAgICAgICkuYWRkVG8obWFwX2U2N2RjMzVlOTE5MjRkYTFiYzQ0YzkyYjY5ZDUyMTk5KTsKICAgICAgICAKICAgIAogICAgICAgIHZhciBwb3B1cF9hMTI0ZTE3MWY3OWI0Nzc5ODM3ZWVkYTJhM2U3MjkwYSA9IEwucG9wdXAoeyJtYXhXaWR0aCI6ICIxMDAlIn0pOwoKICAgICAgICAKICAgICAgICAgICAgdmFyIGh0bWxfNzJhNjc0NmQ2ODQzNDAxYWI0NmI3NTJiN2NhMDY1YmIgPSAkKGA8ZGl2IGlkPSJodG1sXzcyYTY3NDZkNjg0MzQwMWFiNDZiNzUyYjdjYTA2NWJiIiBzdHlsZT0id2lkdGg6IDEwMC4wJTsgaGVpZ2h0OiAxMDAuMCU7Ij5yZWQ8L2Rpdj5gKVswXTsKICAgICAgICAgICAgcG9wdXBfYTEyNGUxNzFmNzliNDc3OTgzN2VlZGEyYTNlNzI5MGEuc2V0Q29udGVudChodG1sXzcyYTY3NDZkNjg0MzQwMWFiNDZiNzUyYjdjYTA2NWJiKTsKICAgICAgICAKCiAgICAgICAgY2lyY2xlX21hcmtlcl83OWZmYzRjZjU0MDE0NmRiYWFmOGQyYWZjN2Q2MzNlZS5iaW5kUG9wdXAocG9wdXBfYTEyNGUxNzFmNzliNDc3OTgzN2VlZGEyYTNlNzI5MGEpCiAgICAgICAgOwoKICAgICAgICAKICAgIAogICAgCiAgICAgICAgICAgIHZhciBjaXJjbGVfbWFya2VyX2ZjY2M2YjE0OGFlYzRhYmU5Y2FiOGY1YzdhNmQ5Mzk5ID0gTC5jaXJjbGVNYXJrZXIoCiAgICAgICAgICAgICAgICBbMzcuNDY1MzcsIC0xMjIuMTk3MDAyXSwKICAgICAgICAgICAgICAgIHsiYnViYmxpbmdNb3VzZUV2ZW50cyI6IHRydWUsICJjb2xvciI6ICIjMzM4OGZmIiwgImRhc2hBcnJheSI6IG51bGwsICJkYXNoT2Zmc2V0IjogbnVsbCwgImZpbGwiOiB0cnVlLCAiZmlsbENvbG9yIjogImJsdWUiLCAiZmlsbE9wYWNpdHkiOiAxLCAiZmlsbFJ1bGUiOiAiZXZlbm9kZCIsICJsaW5lQ2FwIjogInJvdW5kIiwgImxpbmVKb2luIjogInJvdW5kIiwgIm9wYWNpdHkiOiAxLjAsICJyYWRpdXMiOiA1LCAic3Ryb2tlIjogdHJ1ZSwgIndlaWdodCI6IDN9CiAgICAgICAgICAgICkuYWRkVG8obWFwX2U2N2RjMzVlOTE5MjRkYTFiYzQ0YzkyYjY5ZDUyMTk5KTsKICAgICAgICAKICAgIAogICAgICAgIHZhciBwb3B1cF82YTU4NDJkNWRkOWY0Mzg4OGZmMjI1NjYzNWE4NTJlYyA9IEwucG9wdXAoeyJtYXhXaWR0aCI6ICIxMDAlIn0pOwoKICAgICAgICAKICAgICAgICAgICAgdmFyIGh0bWxfM2FiMjk0Y2Q4MGQyNGIyYTlmMWQzZTI2MGRlZTRjNzEgPSAkKGA8ZGl2IGlkPSJodG1sXzNhYjI5NGNkODBkMjRiMmE5ZjFkM2UyNjBkZWU0YzcxIiBzdHlsZT0id2lkdGg6IDEwMC4wJTsgaGVpZ2h0OiAxMDAuMCU7Ij5yZWQ8L2Rpdj5gKVswXTsKICAgICAgICAgICAgcG9wdXBfNmE1ODQyZDVkZDlmNDM4ODhmZjIyNTY2MzVhODUyZWMuc2V0Q29udGVudChodG1sXzNhYjI5NGNkODBkMjRiMmE5ZjFkM2UyNjBkZWU0YzcxKTsKICAgICAgICAKCiAgICAgICAgY2lyY2xlX21hcmtlcl9mY2NjNmIxNDhhZWM0YWJlOWNhYjhmNWM3YTZkOTM5OS5iaW5kUG9wdXAocG9wdXBfNmE1ODQyZDVkZDlmNDM4ODhmZjIyNTY2MzVhODUyZWMpCiAgICAgICAgOwoKICAgICAgICAKICAgIAogICAgCiAgICAgICAgICAgIHZhciBjaXJjbGVfbWFya2VyXzE5M2U5NTQ0YWIzYTQwNWFhNTRmNGQ1M2RkZWNjNjFlID0gTC5jaXJjbGVNYXJrZXIoCiAgICAgICAgICAgICAgICBbMzcuMzk5ODY5LCAtMTIyLjA5MDk0Nl0sCiAgICAgICAgICAgICAgICB7ImJ1YmJsaW5nTW91c2VFdmVudHMiOiB0cnVlLCAiY29sb3IiOiAiIzMzODhmZiIsICJkYXNoQXJyYXkiOiBudWxsLCAiZGFzaE9mZnNldCI6IG51bGwsICJmaWxsIjogdHJ1ZSwgImZpbGxDb2xvciI6ICJibHVlIiwgImZpbGxPcGFjaXR5IjogMSwgImZpbGxSdWxlIjogImV2ZW5vZGQiLCAibGluZUNhcCI6ICJyb3VuZCIsICJsaW5lSm9pbiI6ICJyb3VuZCIsICJvcGFjaXR5IjogMS4wLCAicmFkaXVzIjogNSwgInN0cm9rZSI6IHRydWUsICJ3ZWlnaHQiOiAzfQogICAgICAgICAgICApLmFkZFRvKG1hcF9lNjdkYzM1ZTkxOTI0ZGExYmM0NGM5MmI2OWQ1MjE5OSk7CiAgICAgICAgCiAgICAKICAgICAgICB2YXIgcG9wdXBfNmZmMGQ0MGQwYzk3NDg4OTg3MmU2YzA3OTVjMTY1ZjcgPSBMLnBvcHVwKHsibWF4V2lkdGgiOiAiMTAwJSJ9KTsKCiAgICAgICAgCiAgICAgICAgICAgIHZhciBodG1sXzE2ZjFlZTQyYTVhNzQ1MGVhMmJiM2I1YzRhNTRhM2E5ID0gJChgPGRpdiBpZD0iaHRtbF8xNmYxZWU0MmE1YTc0NTBlYTJiYjNiNWM0YTU0YTNhOSIgc3R5bGU9IndpZHRoOiAxMDAuMCU7IGhlaWdodDogMTAwLjAlOyI+cmVkPC9kaXY+YClbMF07CiAgICAgICAgICAgIHBvcHVwXzZmZjBkNDBkMGM5NzQ4ODk4NzJlNmMwNzk1YzE2NWY3LnNldENvbnRlbnQoaHRtbF8xNmYxZWU0MmE1YTc0NTBlYTJiYjNiNWM0YTU0YTNhOSk7CiAgICAgICAgCgogICAgICAgIGNpcmNsZV9tYXJrZXJfMTkzZTk1NDRhYjNhNDA1YWE1NGY0ZDUzZGRlY2M2MWUuYmluZFBvcHVwKHBvcHVwXzZmZjBkNDBkMGM5NzQ4ODk4NzJlNmMwNzk1YzE2NWY3KQogICAgICAgIDsKCiAgICAgICAgCiAgICAKICAgIAogICAgICAgICAgICB2YXIgY2lyY2xlX21hcmtlcl83OTQxN2I4NmU4ZWQ0ZTk3YjU2MmI2NTc2ZjkwMmMwZiA9IEwuY2lyY2xlTWFya2VyKAogICAgICAgICAgICAgICAgWzM3LjM2NzQxLCAtMTIxLjk3NzAzNTAwMDAwMDAxXSwKICAgICAgICAgICAgICAgIHsiYnViYmxpbmdNb3VzZUV2ZW50cyI6IHRydWUsICJjb2xvciI6ICIjMzM4OGZmIiwgImRhc2hBcnJheSI6IG51bGwsICJkYXNoT2Zmc2V0IjogbnVsbCwgImZpbGwiOiB0cnVlLCAiZmlsbENvbG9yIjogImJsdWUiLCAiZmlsbE9wYWNpdHkiOiAxLCAiZmlsbFJ1bGUiOiAiZXZlbm9kZCIsICJsaW5lQ2FwIjogInJvdW5kIiwgImxpbmVKb2luIjogInJvdW5kIiwgIm9wYWNpdHkiOiAxLjAsICJyYWRpdXMiOiA1LCAic3Ryb2tlIjogdHJ1ZSwgIndlaWdodCI6IDN9CiAgICAgICAgICAgICkuYWRkVG8obWFwX2U2N2RjMzVlOTE5MjRkYTFiYzQ0YzkyYjY5ZDUyMTk5KTsKICAgICAgICAKICAgIAogICAgICAgIHZhciBwb3B1cF9jOWM3MDRjODBlYTQ0MDM3YmU4NjM5MjEzOTg2Mzk3MiA9IEwucG9wdXAoeyJtYXhXaWR0aCI6ICIxMDAlIn0pOwoKICAgICAgICAKICAgICAgICAgICAgdmFyIGh0bWxfYjIzODYzMjIyOGY2NGRjNjhhYmZjOTY2ZTE0ZDU2NTEgPSAkKGA8ZGl2IGlkPSJodG1sX2IyMzg2MzIyMjhmNjRkYzY4YWJmYzk2NmUxNGQ1NjUxIiBzdHlsZT0id2lkdGg6IDEwMC4wJTsgaGVpZ2h0OiAxMDAuMCU7Ij5yZWQ8L2Rpdj5gKVswXTsKICAgICAgICAgICAgcG9wdXBfYzljNzA0YzgwZWE0NDAzN2JlODYzOTIxMzk4NjM5NzIuc2V0Q29udGVudChodG1sX2IyMzg2MzIyMjhmNjRkYzY4YWJmYzk2NmUxNGQ1NjUxKTsKICAgICAgICAKCiAgICAgICAgY2lyY2xlX21hcmtlcl83OTQxN2I4NmU4ZWQ0ZTk3YjU2MmI2NTc2ZjkwMmMwZi5iaW5kUG9wdXAocG9wdXBfYzljNzA0YzgwZWE0NDAzN2JlODYzOTIxMzk4NjM5NzIpCiAgICAgICAgOwoKICAgICAgICAKICAgIAogICAgCiAgICAgICAgICAgIHZhciBjaXJjbGVfbWFya2VyX2QzZjUxNTA3YzRmZjQ0ZDk4MzZmNDY5ZTYwMDkxZThjID0gTC5jaXJjbGVNYXJrZXIoCiAgICAgICAgICAgICAgICBbMzcuNDI2MDc3LCAtMTIxLjkwMzk3NF0sCiAgICAgICAgICAgICAgICB7ImJ1YmJsaW5nTW91c2VFdmVudHMiOiB0cnVlLCAiY29sb3IiOiAiIzMzODhmZiIsICJkYXNoQXJyYXkiOiBudWxsLCAiZGFzaE9mZnNldCI6IG51bGwsICJmaWxsIjogdHJ1ZSwgImZpbGxDb2xvciI6ICJibHVlIiwgImZpbGxPcGFjaXR5IjogMSwgImZpbGxSdWxlIjogImV2ZW5vZGQiLCAibGluZUNhcCI6ICJyb3VuZCIsICJsaW5lSm9pbiI6ICJyb3VuZCIsICJvcGFjaXR5IjogMS4wLCAicmFkaXVzIjogNSwgInN0cm9rZSI6IHRydWUsICJ3ZWlnaHQiOiAzfQogICAgICAgICAgICApLmFkZFRvKG1hcF9lNjdkYzM1ZTkxOTI0ZGExYmM0NGM5MmI2OWQ1MjE5OSk7CiAgICAgICAgCiAgICAKICAgICAgICB2YXIgcG9wdXBfODdmMjgzMjc4MzQ3NDc5NWExYjE5YjZhOWRmMWZkOTIgPSBMLnBvcHVwKHsibWF4V2lkdGgiOiAiMTAwJSJ9KTsKCiAgICAgICAgCiAgICAgICAgICAgIHZhciBodG1sXzVmNTNiZGExZmQ2YjQ2ZDk4ZGIxYTVjNGIzNzcxYmI2ID0gJChgPGRpdiBpZD0iaHRtbF81ZjUzYmRhMWZkNmI0NmQ5OGRiMWE1YzRiMzc3MWJiNiIgc3R5bGU9IndpZHRoOiAxMDAuMCU7IGhlaWdodDogMTAwLjAlOyI+cmVkPC9kaXY+YClbMF07CiAgICAgICAgICAgIHBvcHVwXzg3ZjI4MzI3ODM0NzQ3OTVhMWIxOWI2YTlkZjFmZDkyLnNldENvbnRlbnQoaHRtbF81ZjUzYmRhMWZkNmI0NmQ5OGRiMWE1YzRiMzc3MWJiNik7CiAgICAgICAgCgogICAgICAgIGNpcmNsZV9tYXJrZXJfZDNmNTE1MDdjNGZmNDRkOTgzNmY0NjllNjAwOTFlOGMuYmluZFBvcHVwKHBvcHVwXzg3ZjI4MzI3ODM0NzQ3OTVhMWIxOWI2YTlkZjFmZDkyKQogICAgICAgIDsKCiAgICAgICAgCiAgICAKICAgIAogICAgICAgICAgICB2YXIgY2lyY2xlX21hcmtlcl9hM2Q4OTI4YWI0YjM0YTc1OTkxYWQwOTQxMzA3ZTA2ZSA9IEwuY2lyY2xlTWFya2VyKAogICAgICAgICAgICAgICAgWzM3LjU0MTU3MTk5OTk5OTk5NSwgLTEyMS45OTM2MjVdLAogICAgICAgICAgICAgICAgeyJidWJibGluZ01vdXNlRXZlbnRzIjogdHJ1ZSwgImNvbG9yIjogIiMzMzg4ZmYiLCAiZGFzaEFycmF5IjogbnVsbCwgImRhc2hPZmZzZXQiOiBudWxsLCAiZmlsbCI6IHRydWUsICJmaWxsQ29sb3IiOiAiYmx1ZSIsICJmaWxsT3BhY2l0eSI6IDEsICJmaWxsUnVsZSI6ICJldmVub2RkIiwgImxpbmVDYXAiOiAicm91bmQiLCAibGluZUpvaW4iOiAicm91bmQiLCAib3BhY2l0eSI6IDEuMCwgInJhZGl1cyI6IDUsICJzdHJva2UiOiB0cnVlLCAid2VpZ2h0IjogM30KICAgICAgICAgICAgKS5hZGRUbyhtYXBfZTY3ZGMzNWU5MTkyNGRhMWJjNDRjOTJiNjlkNTIxOTkpOwogICAgICAgIAogICAgCiAgICAgICAgdmFyIHBvcHVwX2Y0Zjk3NWUyNjU5NjRmODk4MThmNzA2MjZmY2IzMzZkID0gTC5wb3B1cCh7Im1heFdpZHRoIjogIjEwMCUifSk7CgogICAgICAgIAogICAgICAgICAgICB2YXIgaHRtbF8wOGQ4MTNlYjViYjI0MTZkOTUyM2ZiZDYyMzE4NmYxYyA9ICQoYDxkaXYgaWQ9Imh0bWxfMDhkODEzZWI1YmIyNDE2ZDk1MjNmYmQ2MjMxODZmMWMiIHN0eWxlPSJ3aWR0aDogMTAwLjAlOyBoZWlnaHQ6IDEwMC4wJTsiPnJlZDwvZGl2PmApWzBdOwogICAgICAgICAgICBwb3B1cF9mNGY5NzVlMjY1OTY0Zjg5ODE4ZjcwNjI2ZmNiMzM2ZC5zZXRDb250ZW50KGh0bWxfMDhkODEzZWI1YmIyNDE2ZDk1MjNmYmQ2MjMxODZmMWMpOwogICAgICAgIAoKICAgICAgICBjaXJjbGVfbWFya2VyX2EzZDg5MjhhYjRiMzRhNzU5OTFhZDA5NDEzMDdlMDZlLmJpbmRQb3B1cChwb3B1cF9mNGY5NzVlMjY1OTY0Zjg5ODE4ZjcwNjI2ZmNiMzM2ZCkKICAgICAgICA7CgogICAgICAgIAogICAgCjwvc2NyaXB0Pg== onload=\"this.contentDocument.open();this.contentDocument.write(atob(this.getAttribute('data-html')));this.contentDocument.close();\" allowfullscreen webkitallowfullscreen mozallowfullscreen></iframe></div></div>"
      ],
      "text/plain": [
       "<datascience.maps.Map at 0x7f0264644e48>"
      ]
     },
     "execution_count": 7,
     "metadata": {},
     "output_type": "execute_result"
    }
   ],
   "source": [
    "# Just run this cell!\n",
    "colors = {\"Berkeley\":\"blue\", \"Stanford\":\"red\"}\n",
    "t = Table().with_columns(\"lat\", coordinates.column(0), \n",
    "                                      \"lon\", coordinates.column(1), \n",
    "                                      \"color\", coordinates.apply(colors.get, 2)\n",
    "                        )\n",
    "Circle.map_table(t, radius=5, fill_opacity=1)"
   ]
  },
  {
   "cell_type": "markdown",
   "metadata": {
    "deletable": false,
    "editable": false
   },
   "source": [
    "#### Question 1\n",
    "\n",
    "Let's begin implementing the k-Nearest Neighbors algorithm. Define the `distance` function, which takes in two arguments: an array of numerical features, and a different array of numerical features. The function should return the [Euclidean distance](https://en.wikipedia.org/wiki/Euclidean_distance) between the two arrays. Euclidean distance is often referred to as the straight-line distance formula that you may have learned previously.\n",
    "\n",
    "\n",
    "<!--\n",
    "BEGIN QUESTION\n",
    "name: q1_1\n",
    "manual: false\n",
    "-->"
   ]
  },
  {
   "cell_type": "code",
   "execution_count": 8,
   "metadata": {
    "deletable": false
   },
   "outputs": [
    {
     "data": {
      "text/plain": [
       "5.196152422706632"
      ]
     },
     "execution_count": 8,
     "metadata": {},
     "output_type": "execute_result"
    }
   ],
   "source": [
    "def distance(arr1, arr2):\n",
    "    return np.sqrt(sum((arr1 - arr2)**2))\n",
    "\n",
    "# Don't change/delete the code below in this cell\n",
    "distance_example = distance(make_array(1, 2, 3), make_array(4, 5, 6))\n",
    "distance_example"
   ]
  },
  {
   "cell_type": "code",
   "execution_count": 9,
   "metadata": {
    "deletable": false,
    "editable": false
   },
   "outputs": [
    {
     "name": "stdout",
     "output_type": "stream",
     "text": [
      "~~~~~~~~~~~~~~~~~~~~~~~~~~~~~~~~~~~~~~~~~~~~~~~~~~~~~~~~~~~~~~~~~~~~~\n",
      "Running tests\n",
      "\n",
      "---------------------------------------------------------------------\n",
      "Test summary\n",
      "    Passed: 2\n",
      "    Failed: 0\n",
      "[ooooooooook] 100.0% passed\n",
      "\n"
     ]
    }
   ],
   "source": [
    "ok.grade(\"q1_1\");"
   ]
  },
  {
   "cell_type": "markdown",
   "metadata": {},
   "source": [
    "### Splitting the dataset\n",
    "We'll do 2 different kinds of things with the `coordinates` dataset:\n",
    "1. We'll build a classifier using coordinates for which we know the associated label; this will teach it to recognize labels of similar coordinate values. This process is known as *training*.\n",
    "2. We'll evaluate or *test* the accuracy of the classifier we build on data we haven't seen before.\n",
    "\n",
    "For reasons discussed in lecture and the textbook, we want to use separate datasets for these two purposes.  So we split up our one dataset into two."
   ]
  },
  {
   "cell_type": "markdown",
   "metadata": {
    "deletable": false,
    "editable": false
   },
   "source": [
    "#### Question 2\n",
    "\n",
    "Next, let's split our dataset into a training set and a test set. Since `coordinates` has $100$ rows, let's create a training set with the first 75 rows and a test set with the remaining 25 rows. Remember that assignment to each group should be random, so we should shuffle the table first.\n",
    "\n",
    "*Hint: as a first step we can shuffle all the rows, then use the* `tbl.take` *function to split up the rows for each table*\n",
    "\n",
    "\n",
    "<!--\n",
    "BEGIN QUESTION\n",
    "name: q1_2\n",
    "manual: false\n",
    "-->"
   ]
  },
  {
   "cell_type": "code",
   "execution_count": 10,
   "metadata": {
    "for_assignment_type": "solution"
   },
   "outputs": [
    {
     "name": "stdout",
     "output_type": "stream",
     "text": [
      "Training set:\t 75 examples\n",
      "Test set:\t 25 examples\n"
     ]
    },
    {
     "data": {
      "text/html": [
       "<table border=\"1\" class=\"dataframe\">\n",
       "    <thead>\n",
       "        <tr>\n",
       "            <th>latitude</th> <th>longitude</th> <th>school</th>\n",
       "        </tr>\n",
       "    </thead>\n",
       "    <tbody>\n",
       "        <tr>\n",
       "            <td>37.5416 </td> <td>-121.994 </td> <td>Stanford</td>\n",
       "        </tr>\n",
       "        <tr>\n",
       "            <td>37.8676 </td> <td>-122.258 </td> <td>Berkeley</td>\n",
       "        </tr>\n",
       "        <tr>\n",
       "            <td>37.8805 </td> <td>-122.273 </td> <td>Berkeley</td>\n",
       "        </tr>\n",
       "        <tr>\n",
       "            <td>37.8677 </td> <td>-122.25  </td> <td>Berkeley</td>\n",
       "        </tr>\n",
       "        <tr>\n",
       "            <td>37.8689 </td> <td>-122.255 </td> <td>Berkeley</td>\n",
       "        </tr>\n",
       "    </tbody>\n",
       "</table>\n",
       "<p>... (70 rows omitted)</p>"
      ],
      "text/plain": [
       "<IPython.core.display.HTML object>"
      ]
     },
     "metadata": {},
     "output_type": "display_data"
    },
    {
     "data": {
      "text/html": [
       "<table border=\"1\" class=\"dataframe\">\n",
       "    <thead>\n",
       "        <tr>\n",
       "            <th>latitude</th> <th>longitude</th> <th>school</th>\n",
       "        </tr>\n",
       "    </thead>\n",
       "    <tbody>\n",
       "        <tr>\n",
       "            <td>37.8772 </td> <td>-122.265 </td> <td>Berkeley</td>\n",
       "        </tr>\n",
       "        <tr>\n",
       "            <td>37.8651 </td> <td>-122.256 </td> <td>Berkeley</td>\n",
       "        </tr>\n",
       "        <tr>\n",
       "            <td>37.8663 </td> <td>-122.257 </td> <td>Berkeley</td>\n",
       "        </tr>\n",
       "        <tr>\n",
       "            <td>37.8688 </td> <td>-122.255 </td> <td>Berkeley</td>\n",
       "        </tr>\n",
       "        <tr>\n",
       "            <td>37.4276 </td> <td>-122.157 </td> <td>Stanford</td>\n",
       "        </tr>\n",
       "    </tbody>\n",
       "</table>\n",
       "<p>... (20 rows omitted)</p>"
      ],
      "text/plain": [
       "<IPython.core.display.HTML object>"
      ]
     },
     "metadata": {},
     "output_type": "display_data"
    }
   ],
   "source": [
    "shuffled_table = coordinates.sample(with_replacement=False)\n",
    "train = shuffled_table.take(np.arange(75))\n",
    "test = shuffled_table.take(np.arange(75, 100, 1))\n",
    "\n",
    "print(\"Training set:\\t\",   train.num_rows, \"examples\")\n",
    "print(\"Test set:\\t\",       test.num_rows, \"examples\")\n",
    "train.show(5), test.show(5);"
   ]
  },
  {
   "cell_type": "code",
   "execution_count": 11,
   "metadata": {
    "deletable": false,
    "editable": false
   },
   "outputs": [
    {
     "name": "stdout",
     "output_type": "stream",
     "text": [
      "~~~~~~~~~~~~~~~~~~~~~~~~~~~~~~~~~~~~~~~~~~~~~~~~~~~~~~~~~~~~~~~~~~~~~\n",
      "Running tests\n",
      "\n",
      "---------------------------------------------------------------------\n",
      "Test summary\n",
      "    Passed: 3\n",
      "    Failed: 0\n",
      "[ooooooooook] 100.0% passed\n",
      "\n"
     ]
    }
   ],
   "source": [
    "ok.grade(\"q1_2\");"
   ]
  },
  {
   "cell_type": "markdown",
   "metadata": {
    "deletable": false,
    "editable": false
   },
   "source": [
    "#### Question 3\n",
    "\n",
    "Assign `features` to an array of the labels of the features from the `coordinates` table.\n",
    "\n",
    "*Hint: which of the column labels in the `coordinates` table are the features, and which of the column labels correspond to the class we're trying to predict?*\n",
    "\n",
    "<!--\n",
    "BEGIN QUESTION\n",
    "name: q1_3\n",
    "manual: false\n",
    "-->"
   ]
  },
  {
   "cell_type": "code",
   "execution_count": 12,
   "metadata": {
    "deletable": false
   },
   "outputs": [
    {
     "data": {
      "text/plain": [
       "array(['latitude', 'longitude'], dtype='<U9')"
      ]
     },
     "execution_count": 12,
     "metadata": {},
     "output_type": "execute_result"
    }
   ],
   "source": [
    "features = make_array('latitude', 'longitude')\n",
    "features"
   ]
  },
  {
   "cell_type": "code",
   "execution_count": 13,
   "metadata": {
    "deletable": false,
    "editable": false
   },
   "outputs": [
    {
     "name": "stdout",
     "output_type": "stream",
     "text": [
      "~~~~~~~~~~~~~~~~~~~~~~~~~~~~~~~~~~~~~~~~~~~~~~~~~~~~~~~~~~~~~~~~~~~~~\n",
      "Running tests\n",
      "\n",
      "---------------------------------------------------------------------\n",
      "Test summary\n",
      "    Passed: 1\n",
      "    Failed: 0\n",
      "[ooooooooook] 100.0% passed\n",
      "\n"
     ]
    }
   ],
   "source": [
    "ok.grade(\"q1_3\");"
   ]
  },
  {
   "cell_type": "markdown",
   "metadata": {
    "deletable": false,
    "editable": false
   },
   "source": [
    "<div class=\"hide\">\\pagebreak</div>\n",
    "\n",
    "#### Question 4\n",
    "\n",
    "Now define the `classify` function. This function should take in a `row` from a table like `test` and classify it based on the data in `train` using the `k`-Nearest Neighbors based on the correct `features`.\n",
    "\n",
    "*Hint: use the `row_to_array` function we defined for you to convert rows to arrays of features so that you can use the `distance` function you defined earlier.*\n",
    "\n",
    "*Hint 2: the skeleton code we provided iterates through each row in the training set*\n",
    "\n",
    "<!--\n",
    "BEGIN QUESTION\n",
    "name: q1_4\n",
    "manual: false\n",
    "-->"
   ]
  },
  {
   "cell_type": "code",
   "execution_count": 14,
   "metadata": {
    "deletable": false,
    "manual_grade": true,
    "manual_problem_id": "sign_lang_2"
   },
   "outputs": [
    {
     "data": {
      "text/plain": [
       "'Berkeley'"
      ]
     },
     "execution_count": 14,
     "metadata": {},
     "output_type": "execute_result"
    }
   ],
   "source": [
    "def row_to_array(row, features):\n",
    "    arr = make_array()\n",
    "    for feature in features:\n",
    "        arr = np.append(arr, row.item(feature))\n",
    "    return arr\n",
    "\n",
    "def classify(row, k, train):\n",
    "    test_row_features_array = row_to_array(row, features)\n",
    "    distances = make_array()\n",
    "    for train_row in train.rows:\n",
    "        train_row_features_array = row_to_array(train_row, features)\n",
    "        row_distance = distance(train_row_features_array, test_row_features_array)\n",
    "        distances = np.append(distances, row_distance)\n",
    "    train_with_distances = train.with_column('distance', distances)\n",
    "    nearest_neighbors = train_with_distances.sort('distance', descending=False).take(np.arange(k))\n",
    "    most_common_label = nearest_neighbors.group('school').column(0).item(0)\n",
    "    return most_common_label\n",
    "\n",
    "# Don't modify/delete the code below\n",
    "first_test = classify(test.row(0), 5, train)\n",
    "first_test"
   ]
  },
  {
   "cell_type": "code",
   "execution_count": 15,
   "metadata": {
    "deletable": false,
    "editable": false
   },
   "outputs": [
    {
     "name": "stdout",
     "output_type": "stream",
     "text": [
      "~~~~~~~~~~~~~~~~~~~~~~~~~~~~~~~~~~~~~~~~~~~~~~~~~~~~~~~~~~~~~~~~~~~~~\n",
      "Running tests\n",
      "\n",
      "---------------------------------------------------------------------\n",
      "Test summary\n",
      "    Passed: 2\n",
      "    Failed: 0\n",
      "[ooooooooook] 100.0% passed\n",
      "\n"
     ]
    }
   ],
   "source": [
    "ok.grade(\"q1_4\");"
   ]
  },
  {
   "cell_type": "markdown",
   "metadata": {
    "deletable": false,
    "editable": false
   },
   "source": [
    "<div class=\"hide\">\\pagebreak</div>\n",
    "\n",
    "#### Question 5\n",
    "\n",
    "Define the function `three_classify` that takes a `row` from `test` as an argument and classifies the row based on using 3-Nearest Neighbors. Use this function to find the `accuracy` of a 3-NN classifier on the `test` set. `accuracy` should be a proportion (not a percentage) of the schools that were correctly predicted.\n",
    "\n",
    "*Hint: you should be using a function you just created!*\n",
    "\n",
    "*Note: Usually before using a classifier on a test set, we'd classify first on a \"validation\" set, which we then can modify our training set again if need be, before actually testing on the test set. You don’t need to do that for this question, but you will learn about this more in Data 100.*\n",
    "\n",
    "<!--\n",
    "BEGIN QUESTION\n",
    "name: q1_5\n",
    "manual: false\n",
    "-->"
   ]
  },
  {
   "cell_type": "code",
   "execution_count": 16,
   "metadata": {
    "deletable": false,
    "manual_grade": true,
    "manual_problem_id": "sign_lang_3"
   },
   "outputs": [
    {
     "data": {
      "text/plain": [
       "1.0"
      ]
     },
     "execution_count": 16,
     "metadata": {},
     "output_type": "execute_result"
    }
   ],
   "source": [
    "def three_classify(row):\n",
    "    return classify(row, 3, train)\n",
    "\n",
    "test_with_prediction = test.with_column(\"prediction\", test.apply(three_classify))\n",
    "labels_correct = np.count_nonzero(test_with_prediction.column('school') == test_with_prediction.column('prediction'))\n",
    "accuracy = labels_correct / test_with_prediction.num_rows\n",
    "accuracy"
   ]
  },
  {
   "cell_type": "code",
   "execution_count": 17,
   "metadata": {
    "deletable": false,
    "editable": false
   },
   "outputs": [
    {
     "name": "stdout",
     "output_type": "stream",
     "text": [
      "~~~~~~~~~~~~~~~~~~~~~~~~~~~~~~~~~~~~~~~~~~~~~~~~~~~~~~~~~~~~~~~~~~~~~\n",
      "Running tests\n",
      "\n",
      "---------------------------------------------------------------------\n",
      "Test summary\n",
      "    Passed: 2\n",
      "    Failed: 0\n",
      "[ooooooooook] 100.0% passed\n",
      "\n"
     ]
    }
   ],
   "source": [
    "ok.grade(\"q1_5\");"
   ]
  },
  {
   "cell_type": "markdown",
   "metadata": {
    "deletable": false,
    "editable": false
   },
   "source": [
    "#### Question 6\n",
    "\n",
    "There are 77 rows of Berkeley students and 23 rows of Stanford students in the `coordinates` table. If we used the entire `coordinates` table as the train set, what is the smallest value of k that would ensure that a k-Nearest Neighbor classifier would always predict Berkeley as the class? Assign the value to `k`.\n",
    "\n",
    "<!--\n",
    "BEGIN QUESTION\n",
    "name: q1_6\n",
    "manual: false\n",
    "-->"
   ]
  },
  {
   "cell_type": "code",
   "execution_count": 18,
   "metadata": {},
   "outputs": [
    {
     "data": {
      "text/plain": [
       "47"
      ]
     },
     "execution_count": 18,
     "metadata": {},
     "output_type": "execute_result"
    }
   ],
   "source": [
    "k = 47\n",
    "k"
   ]
  },
  {
   "cell_type": "code",
   "execution_count": 19,
   "metadata": {
    "deletable": false,
    "editable": false
   },
   "outputs": [
    {
     "name": "stdout",
     "output_type": "stream",
     "text": [
      "~~~~~~~~~~~~~~~~~~~~~~~~~~~~~~~~~~~~~~~~~~~~~~~~~~~~~~~~~~~~~~~~~~~~~\n",
      "Running tests\n",
      "\n",
      "---------------------------------------------------------------------\n",
      "Test summary\n",
      "    Passed: 1\n",
      "    Failed: 0\n",
      "[ooooooooook] 100.0% passed\n",
      "\n"
     ]
    }
   ],
   "source": [
    "ok.grade(\"q1_6\");"
   ]
  },
  {
   "cell_type": "markdown",
   "metadata": {
    "deletable": false,
    "editable": false
   },
   "source": [
    "#### Question 7\n",
    "\n",
    "Why do we divide our data into a training and test set? Should we use our test set to find the best possible number of neighbors for a k-NN classifer? What is the point of a test set, and why do we only want to use the test set once? Explain. \n",
    "\n",
    "\n",
    "<!--\n",
    "BEGIN QUESTION\n",
    "name: q1_7\n",
    "manual: true\n",
    "-->\n",
    "<!-- EXPORT TO PDF -->"
   ]
  },
  {
   "cell_type": "markdown",
   "metadata": {
    "export_pdf": true
   },
   "source": [
    "This is because our training set and our test set have different purposes. The test set is a set on which we try out our classifier and see what fraction of times it classifies correctly. The training set is a set on which we can do any amount of exploration to build our classifier. So no, we should not use our test set to find the best possible number of neighbors for a k-NN classifer, and we should use our training set instead because we already know the labels for the training set so we can measure the distance between new points and known points to get nearest neighbors, but for the test set, we do not know their labels."
   ]
  },
  {
   "cell_type": "markdown",
   "metadata": {
    "deletable": false,
    "editable": false
   },
   "source": [
    "#### Question 8\n",
    "\n",
    "Why do we use an odd-numbered `k` in k-NN? Explain.\n",
    "\n",
    "\n",
    "<!--\n",
    "BEGIN QUESTION\n",
    "name: q1_8\n",
    "manual: true\n",
    "-->\n",
    "<!-- EXPORT TO PDF -->"
   ]
  },
  {
   "cell_type": "markdown",
   "metadata": {
    "export_pdf": true
   },
   "source": [
    "We use an odd-numbered k in k-NN because if there is an even k, then it could be that k/2 of the rows corresponded to label 1, and k/2 of the rows corresponded to label 2, so we wouldn't be able to effectively classify the data based on the information. E.g., if we used 4 nearest neighbors in our example, it could be that 2 of the 4 rows suggest Stanford, while the other 2 suggest Berkeley. So we take an odd-numbered k, so that this situation does not arise and one label is clearly favored over the other. "
   ]
  },
  {
   "cell_type": "markdown",
   "metadata": {
    "deletable": false,
    "editable": false
   },
   "source": [
    "#### Question 9\n",
    "\n",
    "Thomas has devised a scheme for splitting up the test and training set. For each row from `coordinates`:\n",
    "\n",
    "- Rows for Stanford students have a 50% chance of being placed in the train set and 50% chance of placed in the test set.\n",
    "\n",
    "- Rows for Berkeley students have a 80% chance of being placed in the train set and 20% chance of placed in the test set.\n",
    "\n",
    "\n",
    "Given that a row is in the test set, what is the probability that it corresponds to a Stanford student? Assign that probability to `prob_furd`.\n",
    "\n",
    "*Hint: Remember that there are 77 Berkeley students and 23 Stanford students in `coordinates`*\n",
    "\n",
    "*Hint 2: Thomas' last name is Bayes*\n",
    "\n",
    "\n",
    "<!--\n",
    "BEGIN QUESTION\n",
    "name: q1_9\n",
    "manual: false\n",
    "-->"
   ]
  },
  {
   "cell_type": "code",
   "execution_count": 20,
   "metadata": {},
   "outputs": [
    {
     "data": {
      "text/plain": [
       "0.4275092936802974"
      ]
     },
     "execution_count": 20,
     "metadata": {},
     "output_type": "execute_result"
    }
   ],
   "source": [
    "prob_furd = ((0.5)*(23/100))/((0.5)*(23/100)+(0.2)*(77/100))\n",
    "prob_furd"
   ]
  },
  {
   "cell_type": "code",
   "execution_count": 21,
   "metadata": {
    "deletable": false,
    "editable": false
   },
   "outputs": [
    {
     "name": "stdout",
     "output_type": "stream",
     "text": [
      "~~~~~~~~~~~~~~~~~~~~~~~~~~~~~~~~~~~~~~~~~~~~~~~~~~~~~~~~~~~~~~~~~~~~~\n",
      "Running tests\n",
      "\n",
      "---------------------------------------------------------------------\n",
      "Test summary\n",
      "    Passed: 2\n",
      "    Failed: 0\n",
      "[ooooooooook] 100.0% passed\n",
      "\n"
     ]
    }
   ],
   "source": [
    "ok.grade(\"q1_9\");"
   ]
  },
  {
   "cell_type": "markdown",
   "metadata": {},
   "source": [
    "## (OPTIONAL, NOT IN SCOPE): k-NN for Non-Binary Classification"
   ]
  },
  {
   "cell_type": "markdown",
   "metadata": {
    "deletable": false,
    "editable": false
   },
   "source": [
    "**THIS IS NOT IN SCOPE/IS OPTIONAL**. There are no autograder tests for this/code for you to write. It just relies on the function `classify` in Question 4.\n",
    "\n",
    "In this class, we have taught you how to use the kNN algorithm to classify data as one of two classes. However, much of the data you will encounter in the real world will not fall nicely into one of two categories. \n",
    "\n",
    "How can we classify data with non-binary classes? It turns out we can still use kNN! That is, we find the distance between a point and all its neighbors, find the nearest neighbors, and take a majority vote among the neighbors to determine this point's class. \n",
    "\n",
    "The only difference is that now the neighboring points have more than two possible classes. This does introduce difficulty because now we have no way of guaranteeing that we will not encounter ties between classes. In the case that we do encounter a tie, we can just arbitrarily choose one of the classes.\n",
    "\n",
    "In fact, you don't even have to modify the code you wrote before at all to enable multi-class classification!"
   ]
  },
  {
   "cell_type": "markdown",
   "metadata": {
    "deletable": false,
    "editable": false
   },
   "source": [
    "Let's add some more data to our train table, this time for another class of students, students at San Jose Community College (SJCC)."
   ]
  },
  {
   "cell_type": "code",
   "execution_count": 22,
   "metadata": {
    "deletable": false,
    "editable": false
   },
   "outputs": [],
   "source": [
    "coordinates_multi = coordinates.with_rows([\n",
    "                              [37.304346, -121.915401, \"SJCC\"],\n",
    "                              [37.316275, -121.913879, \"SJCC\"],\n",
    "                              [37.409435, -121.951379, \"SJCC\"],\n",
    "                              [37.349387, -121.960771, \"SJCC\"],\n",
    "                              [37.329083, -121.928479, \"SJCC\"],\n",
    "                              [37.313017, -121.866730, \"SJCC\"],\n",
    "                              [37.346525, -121.894767, \"SJCC\"],\n",
    "                              [37.364157, -121.955717, \"SJCC\"],\n",
    "                              [37.383362, -121.925776, \"SJCC\"],\n",
    "                              [37.329545, -121.880639, \"SJCC\"]                             \n",
    "])"
   ]
  },
  {
   "cell_type": "code",
   "execution_count": 23,
   "metadata": {
    "deletable": false,
    "editable": false
   },
   "outputs": [
    {
     "data": {
      "text/plain": [
       "'Berkeley'"
      ]
     },
     "execution_count": 23,
     "metadata": {},
     "output_type": "execute_result"
    }
   ],
   "source": [
    "classify(coordinates_multi.row(0), 5, coordinates_multi)"
   ]
  },
  {
   "cell_type": "code",
   "execution_count": 24,
   "metadata": {
    "deletable": false,
    "editable": false
   },
   "outputs": [
    {
     "data": {
      "text/plain": [
       "'Stanford'"
      ]
     },
     "execution_count": 24,
     "metadata": {},
     "output_type": "execute_result"
    }
   ],
   "source": [
    "classify(coordinates_multi.row(91), 5, coordinates_multi)"
   ]
  },
  {
   "cell_type": "code",
   "execution_count": 25,
   "metadata": {
    "deletable": false,
    "editable": false
   },
   "outputs": [
    {
     "data": {
      "text/plain": [
       "'SJCC'"
      ]
     },
     "execution_count": 25,
     "metadata": {},
     "output_type": "execute_result"
    }
   ],
   "source": [
    "classify(coordinates_multi.row(105), 5, coordinates_multi)"
   ]
  },
  {
   "cell_type": "markdown",
   "metadata": {},
   "source": [
    "Our classifier can classify rows as belonging to one of three classes!\n",
    "\n",
    "Classification is one of the most important fields in statistics, data science, and machine learning. There are thousands of different classification algorithms and modifications of algorithms! There are many that you'll learn if you continue down the path of becoming a data scientist!"
   ]
  },
  {
   "cell_type": "markdown",
   "metadata": {},
   "source": [
    "## 2. Final-Semester Survey\n"
   ]
  },
  {
   "cell_type": "markdown",
   "metadata": {},
   "source": [
    "You can find the end of semester feedback form [here](https://docs.google.com/forms/d/e/1FAIpQLSeVRzkHTsNIrnbIaYCopJViaFDro1HfemS4y79Q_oZPxUcEvg/viewform?usp=sf_link). Please take some time to fill the survey out! Data 8 is still a relatively new class, and your feedback helps the class get better every semester!\n",
    "\n",
    "As incentive, if 80% of the course fills out this feedback form **and** the official Berkeley Course Evaluations (which will be released sometime in the next couple of weeks) for Data 8, everyone will receive two points of extra credit!"
   ]
  },
  {
   "cell_type": "markdown",
   "metadata": {
    "deletable": false,
    "editable": false
   },
   "source": [
    "**Question 1.** Fill out the end of semester feedback form linked above. Once you have submitted, a secret word will be displayed. Set `secret_word` to the secret string at the end of the form.\n",
    "\n",
    "<!--\n",
    "BEGIN QUESTION\n",
    "name: q2_1\n",
    "manual: false\n",
    "-->"
   ]
  },
  {
   "cell_type": "code",
   "execution_count": 26,
   "metadata": {},
   "outputs": [],
   "source": [
    "secret_word = 'bayes'"
   ]
  },
  {
   "cell_type": "code",
   "execution_count": 27,
   "metadata": {
    "deletable": false,
    "editable": false
   },
   "outputs": [
    {
     "name": "stdout",
     "output_type": "stream",
     "text": [
      "~~~~~~~~~~~~~~~~~~~~~~~~~~~~~~~~~~~~~~~~~~~~~~~~~~~~~~~~~~~~~~~~~~~~~\n",
      "Running tests\n",
      "\n",
      "---------------------------------------------------------------------\n",
      "Test summary\n",
      "    Passed: 1\n",
      "    Failed: 0\n",
      "[ooooooooook] 100.0% passed\n",
      "\n"
     ]
    }
   ],
   "source": [
    "ok.grade(\"q2_1\");"
   ]
  },
  {
   "cell_type": "markdown",
   "metadata": {},
   "source": [
    "## 3. Submission\n"
   ]
  },
  {
   "cell_type": "markdown",
   "metadata": {
    "collapsed": true
   },
   "source": [
    "Once you're finished, select \"Save and Checkpoint\" in the File menu and then execute the `submit` cell below. The result will contain a link that you can use to check that your assignment has been submitted successfully. If you submit more than once before the deadline, we will only grade your final submission. If you mistakenly submit the wrong one, you can head to [okpy.org](https://okpy.org/) and flag the correct version. To do so, go to the website, click on this assignment, and find the version you would like to have graded. There should be an option to flag that submission for grading!"
   ]
  },
  {
   "cell_type": "code",
   "execution_count": 28,
   "metadata": {},
   "outputs": [
    {
     "data": {
      "application/javascript": [
       "IPython.notebook.save_checkpoint();"
      ],
      "text/plain": [
       "<IPython.core.display.Javascript object>"
      ]
     },
     "metadata": {},
     "output_type": "display_data"
    },
    {
     "data": {
      "application/javascript": [
       "IPython.notebook.save_notebook();"
      ],
      "text/plain": [
       "<IPython.core.display.Javascript object>"
      ]
     },
     "metadata": {},
     "output_type": "display_data"
    },
    {
     "name": "stdout",
     "output_type": "stream",
     "text": [
      "Saving notebook... Saved 'hw12.ipynb'.\n",
      "Submit... 100% complete\n",
      "Submission successful for user: nameera.faisal@berkeley.edu\n",
      "URL: https://okpy.org/cal/data8/sp20/hw12/submissions/kroWo5\n",
      "\n"
     ]
    }
   ],
   "source": [
    "_ = ok.submit()"
   ]
  },
  {
   "cell_type": "code",
   "execution_count": 29,
   "metadata": {},
   "outputs": [
    {
     "name": "stdout",
     "output_type": "stream",
     "text": [
      "Running all tests...\n",
      "~~~~~~~~~~~~~~~~~~~~~~~~~~~~~~~~~~~~~~~~~~~~~~~~~~~~~~~~~~~~~~~~~~~~~\n",
      "Running tests\n",
      "\n",
      "---------------------------------------------------------------------\n",
      "Test summary\n",
      "    Passed: 2\n",
      "    Failed: 0\n",
      "[ooooooooook] 100.0% passed\n",
      "\n",
      "~~~~~~~~~~~~~~~~~~~~~~~~~~~~~~~~~~~~~~~~~~~~~~~~~~~~~~~~~~~~~~~~~~~~~\n",
      "Running tests\n",
      "\n",
      "---------------------------------------------------------------------\n",
      "Test summary\n",
      "    Passed: 2\n",
      "    Failed: 0\n",
      "[ooooooooook] 100.0% passed\n",
      "\n",
      "~~~~~~~~~~~~~~~~~~~~~~~~~~~~~~~~~~~~~~~~~~~~~~~~~~~~~~~~~~~~~~~~~~~~~\n",
      "Running tests\n",
      "\n",
      "---------------------------------------------------------------------\n",
      "Test summary\n",
      "    Passed: 1\n",
      "    Failed: 0\n",
      "[ooooooooook] 100.0% passed\n",
      "\n",
      "~~~~~~~~~~~~~~~~~~~~~~~~~~~~~~~~~~~~~~~~~~~~~~~~~~~~~~~~~~~~~~~~~~~~~\n",
      "Running tests\n",
      "\n",
      "---------------------------------------------------------------------\n",
      "Test summary\n",
      "    Passed: 1\n",
      "    Failed: 0\n",
      "[ooooooooook] 100.0% passed\n",
      "\n",
      "~~~~~~~~~~~~~~~~~~~~~~~~~~~~~~~~~~~~~~~~~~~~~~~~~~~~~~~~~~~~~~~~~~~~~\n",
      "Running tests\n",
      "\n",
      "---------------------------------------------------------------------\n",
      "Test summary\n",
      "    Passed: 3\n",
      "    Failed: 0\n",
      "[ooooooooook] 100.0% passed\n",
      "\n",
      "~~~~~~~~~~~~~~~~~~~~~~~~~~~~~~~~~~~~~~~~~~~~~~~~~~~~~~~~~~~~~~~~~~~~~\n",
      "Running tests\n",
      "\n",
      "---------------------------------------------------------------------\n",
      "Test summary\n",
      "    Passed: 2\n",
      "    Failed: 0\n",
      "[ooooooooook] 100.0% passed\n",
      "\n",
      "~~~~~~~~~~~~~~~~~~~~~~~~~~~~~~~~~~~~~~~~~~~~~~~~~~~~~~~~~~~~~~~~~~~~~\n",
      "Running tests\n",
      "\n",
      "---------------------------------------------------------------------\n",
      "Test summary\n",
      "    Passed: 2\n",
      "    Failed: 0\n",
      "[ooooooooook] 100.0% passed\n",
      "\n",
      "~~~~~~~~~~~~~~~~~~~~~~~~~~~~~~~~~~~~~~~~~~~~~~~~~~~~~~~~~~~~~~~~~~~~~\n",
      "Running tests\n",
      "\n",
      "---------------------------------------------------------------------\n",
      "Test summary\n",
      "    Passed: 1\n",
      "    Failed: 0\n",
      "[ooooooooook] 100.0% passed\n",
      "\n",
      "Finished running all tests.\n"
     ]
    }
   ],
   "source": [
    "# For your convenience, you can run this cell to run all the tests at once!\n",
    "import os\n",
    "print(\"Running all tests...\")\n",
    "_ = [ok.grade(q[:-3]) for q in os.listdir(\"tests\") if q.startswith('q') and len(q) <= 10]\n",
    "print(\"Finished running all tests.\")"
   ]
  },
  {
   "cell_type": "code",
   "execution_count": null,
   "metadata": {},
   "outputs": [],
   "source": []
  }
 ],
 "metadata": {
  "kernelspec": {
   "display_name": "Python 3",
   "language": "python",
   "name": "python3"
  },
  "language_info": {
   "codemirror_mode": {
    "name": "ipython",
    "version": 3
   },
   "file_extension": ".py",
   "mimetype": "text/x-python",
   "name": "python",
   "nbconvert_exporter": "python",
   "pygments_lexer": "ipython3",
   "version": "3.6.9"
  }
 },
 "nbformat": 4,
 "nbformat_minor": 1
}
